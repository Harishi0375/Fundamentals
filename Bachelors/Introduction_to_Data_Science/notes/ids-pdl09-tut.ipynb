{
 "cells": [
  {
   "cell_type": "markdown",
   "metadata": {
    "collapsed": true
   },
   "source": [
    "**ids-pdl09-tut.ipynb**: This Jupyter notebook is provided by Joachim Vogt for the *Python Data Lab* of the module *CH-700 Introduction to Data Science* offered in Fall 2023 at Constructor University. Jupyter notebooks and other learning resources are available from a dedicated *module platform*."
   ]
  },
  {
   "cell_type": "markdown",
   "metadata": {},
   "source": [
    "# Working with Pandas"
   ]
  },
  {
   "cell_type": "markdown",
   "metadata": {},
   "source": [
    "This tutorial explores selected functionality provided by the Pandas package for transforming and processing tabular data. It builds on the companion tutorial *Pandas basics*. Follow the instructions below to learn to\n",
    "\n",
    "- [ ] stack and unstack Pandas DataFrame objects,\n",
    "- [ ] define Pandas MultiIndex objects for hierarchical indexing,\n",
    "- [ ] apply GroupBy methods for data filtering and aggregation,\n",
    "- [ ] construct pivot tables of DataFrame objects.\n",
    "\n",
    "If you wish to keep track of your progress, you may edit this markdown cell, check a box in the list above after having worked through the respective part of this notebook, and save the file.\n",
    "\n",
    "*Short exercises* are embedded in this notebook. *Sample solutions* can be found at the end of the document."
   ]
  },
  {
   "cell_type": "markdown",
   "metadata": {},
   "source": [
    "## Preparation"
   ]
  },
  {
   "cell_type": "markdown",
   "metadata": {},
   "source": [
    "The following data file is expected to reside in the working directory. Identify the file on the module platform and upload it to the same folder as this Jupyter notebook.\n",
    "\n",
    "- `life-expectancy-at-birth-total-years.csv`: Life expectancy at birth 1960-2019, published by the [World Bank, 2021-07-30](http://data.worldbank.org/data-catalog/world-development-indicators), available from [Our World in Data](https://ourworldindata.org/grapher/life-expectancy-at-birth-total-years)."
   ]
  },
  {
   "cell_type": "markdown",
   "metadata": {},
   "source": [
    "Run the following code cell to import standard Python data science libraries. The NumPy module facilitates efficient processing of numerical arrays, and is usually imported as `np`. From the matplotlib library we import the package `pyplot` using the standard abbreviation `plt`. The magic command `%matplotlib inline` (IPython shell) allows for inline display of graphics."
   ]
  },
  {
   "cell_type": "code",
   "execution_count": null,
   "metadata": {},
   "outputs": [],
   "source": [
    "import numpy as np\n",
    "import matplotlib.pyplot as plt\n",
    "%matplotlib inline"
   ]
  },
  {
   "cell_type": "markdown",
   "metadata": {},
   "source": [
    "### Importing Pandas"
   ]
  },
  {
   "cell_type": "markdown",
   "metadata": {},
   "source": [
    "It is common practice to import the Pandas library using the prefix `pd`."
   ]
  },
  {
   "cell_type": "code",
   "execution_count": null,
   "metadata": {},
   "outputs": [],
   "source": [
    "import pandas as pd"
   ]
  },
  {
   "cell_type": "markdown",
   "metadata": {},
   "source": [
    "### Pandas documentation and tutorials"
   ]
  },
  {
   "cell_type": "markdown",
   "metadata": {},
   "source": [
    "Pandas is hosted at [https://pandas.pydata.org](https://pandas.pydata.org), with extensive [documentation](https://pandas.pydata.org/docs) and [tutorials](https://pandas.pydata.org/docs/getting_started/intro_tutorials/). If you are familiar with other tools for analyses of tabular data (R, SQL, spreadsheets, SAS, Stata), it may be worthwhile comparing terminologies, see the page [Comparisons with other tools](https://pandas.pydata.org/docs/getting_started/comparisons/)."
   ]
  },
  {
   "cell_type": "markdown",
   "metadata": {},
   "source": [
    "Note the official spelling is *pandas* (lower case). In this tutorial the package name is capitalized (*Pandas*) to avoid confusion with a bunch of bears."
   ]
  },
  {
   "cell_type": "markdown",
   "metadata": {},
   "source": [
    "## Revisiting the life expectancy data set"
   ]
  },
  {
   "cell_type": "markdown",
   "metadata": {},
   "source": [
    "In the companion tutorial notebook *Introduction to Pandas*, life expectancy at birth data from the file `life-expectancy-at-birth-total-years.csv` were loaded, rearranged, and processed to yield a tabular representation with rows containing the data for individual years, and columns containing the data for individual countries. The procedure is repeated in the code cell below. In the exercises of the same notebook, a similar tabular array was constructed, with yearly data forming the columns, and country data forming the rows. DataFrame objects in such formats allowed for convenient computation of summary statistics, as a particular example of an *aggregation* operation.\n",
    "\n",
    "Recall that the procedure was not considered computationally efficient, but only meant to illustrate the methods introduced in the context of the companion tutorial."
   ]
  },
  {
   "cell_type": "code",
   "execution_count": null,
   "metadata": {},
   "outputs": [],
   "source": [
    "###  Store all data from the file in a DataFrame.\n",
    "leb_full = pd.read_csv('life-expectancy-at-birth-total-years.csv')\n",
    "### Initialize new DataFrame with the data from Australia.\n",
    "ind_aus = leb_full['Code']=='AUS'\n",
    "leb_6cnt = pd.DataFrame({'Year':leb_full[ind_aus].iloc[:,2].values,\n",
    "                    'Life exp. (AUS)':leb_full[ind_aus].iloc[:,3].values})\n",
    "### Successively add new columns with data for five countries.\n",
    "Codes = ['BRA','CHN','FRA','NGA','USA']\n",
    "for code in Codes:\n",
    "    ind = leb_full['Code']==code\n",
    "    leb_6cnt = leb_6cnt.merge(pd.DataFrame({'Year':leb_full[ind].iloc[:,2].values,\n",
    "                                'Life exp. ('+code+')':leb_full[ind].iloc[:,3].values}))\n",
    "### Display the final result.\n",
    "display(leb_6cnt.head())"
   ]
  },
  {
   "cell_type": "markdown",
   "metadata": {},
   "source": [
    "The present tutorial is concerned with more practical methods to yield such rearrangements of tabular data, and the application of aggregation operation. From the full DataFrame `leb_full` we remove rows for entities that are not single countries but world regions. Since in most such cases the Code is empty (`''`) except for the world as a whole (entity `'World'`), these removals are effectively accomplished as follows."
   ]
  },
  {
   "cell_type": "code",
   "execution_count": null,
   "metadata": {},
   "outputs": [],
   "source": [
    "print('Shape of leb_full before applying dropna()      : ',leb_full.shape)\n",
    "leb_full.dropna(inplace=True)\n",
    "print('Shape of leb_full after  applying dropna()      : ',leb_full.shape)\n",
    "leb_full = leb_full[leb_full['Entity']!='World']\n",
    "print(\"Shape of leb_full after ignoring entity 'World' : \",leb_full.shape)"
   ]
  },
  {
   "cell_type": "markdown",
   "metadata": {},
   "source": [
    "The life expectancy column label is inconveniently long, so we rename."
   ]
  },
  {
   "cell_type": "code",
   "execution_count": null,
   "metadata": {
    "scrolled": false
   },
   "outputs": [],
   "source": [
    "leb_full.rename(columns={leb_full.columns[3]:'Life exp.'},inplace=True,errors='raise')\n",
    "display(leb_full)"
   ]
  },
  {
   "cell_type": "markdown",
   "metadata": {},
   "source": [
    "## Hierarchical indexing"
   ]
  },
  {
   "cell_type": "markdown",
   "metadata": {},
   "source": [
    "A DataFrame can be conveniently restructured using *hierarchical indexing*. The underlying concept is illustrated using a smaller data set considered already in the companion tutorial *Introduction to Pandas*, , namely, the number of residents of four German cities in the years 1970, 1990, 2010, according to [Wikipedia (accessed on 2022-07-26)](https://de.wikipedia.org/wiki/Liste_der_Gro%C3%9F-_und_Mittelst%C3%A4dte_in_Deutschland).\n",
    "\n",
    " City      | 1970   | 1990   | 2010   | \n",
    ":----------|:------:|:------:|:------:|\n",
    " Bremen    | 592533 | 551219 | 547340 |\n",
    " Dresden   | 502432 | 490571 | 523058 |\n",
    " Essen     | 696419 | 626973 | 574635 |\n",
    " Stuttgart | 634202 | 579988 | 606588 |"
   ]
  },
  {
   "cell_type": "markdown",
   "metadata": {},
   "source": [
    "### MultiIndex objects"
   ]
  },
  {
   "cell_type": "markdown",
   "metadata": {},
   "source": [
    "In the cell below, a DataFrame is constructed and displayed."
   ]
  },
  {
   "cell_type": "code",
   "execution_count": null,
   "metadata": {},
   "outputs": [],
   "source": [
    "res1 = pd.DataFrame( {'1970':[592533,502432,696419,634202],\n",
    "                      '1990':[551219,490571,626973,579988],\n",
    "                      '2010':[547340,523058,574635,606588]},\n",
    "                    index=['Bremen','Dresden','Essen','Stuttgart'])\n",
    "display(res1)"
   ]
  },
  {
   "cell_type": "markdown",
   "metadata": {},
   "source": [
    "The index consists of the four city names."
   ]
  },
  {
   "cell_type": "code",
   "execution_count": null,
   "metadata": {},
   "outputs": [],
   "source": [
    "print(res1.index)"
   ]
  },
  {
   "cell_type": "markdown",
   "metadata": {},
   "source": [
    "Now let us apply the Pandas function `stack()` and see what we obtain."
   ]
  },
  {
   "cell_type": "code",
   "execution_count": null,
   "metadata": {},
   "outputs": [],
   "source": [
    "res2 = res1.stack()\n",
    "display(res2)"
   ]
  },
  {
   "cell_type": "markdown",
   "metadata": {},
   "source": [
    "The result `res2` is a Pandas Series. The four rows of `res1` have been stacked to form a one-dimensional array, i.e., a single column vector of data. As revealed by `res2.index`, the index has become a set of tuples, a so-called `MultiIndex` object."
   ]
  },
  {
   "cell_type": "code",
   "execution_count": null,
   "metadata": {},
   "outputs": [],
   "source": [
    "print(res2.index)"
   ]
  },
  {
   "cell_type": "markdown",
   "metadata": {},
   "source": [
    "This representation of the data is close to the structure of a data file such as `life-expectancy-at-birth-total-years.csv`. Further below we show how a MultiIndex object can be constructed from its columns."
   ]
  },
  {
   "cell_type": "markdown",
   "metadata": {},
   "source": [
    "The `stack()` operation is reversed through `unstack()`. The resulting object `res3` is a DataFrame with the same format and the same content as the initial DataFrame `res1`."
   ]
  },
  {
   "cell_type": "code",
   "execution_count": null,
   "metadata": {},
   "outputs": [],
   "source": [
    "res3 = res2.unstack()\n",
    "display(res3)\n",
    "print(res3.index)"
   ]
  },
  {
   "cell_type": "markdown",
   "metadata": {},
   "source": [
    "MultiIndex objects can be defined in several ways. If individual tuple elements are separate columns of a data file, they can be stored in arrays which in turn yields a MultiIndex object through the `from_arrays()` method. Together with the column vector of data from the same file, a Series object just as `res2` can then be constructed from the MultiIndex.\n",
    "\n",
    "The `from_arrays()` approach to MultIndex definition is demonstrated in the code cell below."
   ]
  },
  {
   "cell_type": "code",
   "execution_count": null,
   "metadata": {},
   "outputs": [],
   "source": [
    "cities = ['Bremen', 'Bremen', 'Bremen', 'Dresden', 'Dresden', 'Dresden', \n",
    "          'Essen', 'Essen', 'Essen', 'Stuttgart', 'Stuttgart', 'Stuttgart']\n",
    "print('Array of city names:')\n",
    "print(cities)\n",
    "years = [1970, 1990, 2010, 1970, 1990, 2010, \n",
    "         1970, 1990, 2010, 1970, 1990, 2010]\n",
    "print('\\nArray of years:')\n",
    "print(years)\n",
    "mulind4 = pd.MultiIndex.from_arrays([cities,years])\n",
    "print('\\nMultiIndex constructed from the two arrays:')\n",
    "print(mulind4)"
   ]
  },
  {
   "cell_type": "markdown",
   "metadata": {},
   "source": [
    "With the resident numbers provided as a single vector, a suitable Series object is created using the MultiIndex."
   ]
  },
  {
   "cell_type": "code",
   "execution_count": null,
   "metadata": {},
   "outputs": [],
   "source": [
    "residents = [592533,551219,547340,502432,490571,523058,\n",
    "             696419,626973,574635,634202,579988,606588]\n",
    "print('Array of resident numbers:')\n",
    "print(residents)\n",
    "res4 = pd.Series(residents,index=mulind4)\n",
    "print('\\nSeries constructed from MultiIndex and array of resident numbers:')\n",
    "print(res4)\n",
    "print('\\nUnstacking the Series produces the following DataFrame:')\n",
    "display(res4.unstack())"
   ]
  },
  {
   "cell_type": "markdown",
   "metadata": {},
   "source": [
    "For further options of MultiIndex construction, see the documentation of the MultiIndex methods `from_tuples()` and `from_product()`."
   ]
  },
  {
   "cell_type": "markdown",
   "metadata": {},
   "source": [
    "### Exercise: Hierarchical indexing"
   ]
  },
  {
   "cell_type": "markdown",
   "metadata": {},
   "source": [
    "Consult the Pandas documentation to understand the logic and the syntax of the MultiIndex method `from_product()`. Construct a MultiIndex object similar to `res4` in the German city residents example above, then create a Series object that is unstacked to obtain a DataFrame of the same format as `res1`. "
   ]
  },
  {
   "cell_type": "code",
   "execution_count": null,
   "metadata": {},
   "outputs": [],
   "source": [
    "### Array of resident numbers.\n",
    "residents = [592533,551219,547340,502432,490571,523058,\n",
    "             696419,626973,574635,634202,579988,606588]\n",
    "### MultiIndex constructed from product.\n",
    "\n",
    "### Series constructed from MultiIndex.\n",
    "\n",
    "### Unstacking the Series produces a DataFrame.\n"
   ]
  },
  {
   "cell_type": "markdown",
   "metadata": {},
   "source": [
    "### Hierarchical indexing applied to life expectancy data "
   ]
  },
  {
   "cell_type": "markdown",
   "metadata": {},
   "source": [
    "The `MultiIndex.from_arrays()` approach is applied to the life expectancy data stored in the DataFrame `leb_full`."
   ]
  },
  {
   "cell_type": "code",
   "execution_count": null,
   "metadata": {},
   "outputs": [],
   "source": [
    "display(leb_full)"
   ]
  },
  {
   "cell_type": "markdown",
   "metadata": {},
   "source": [
    "Store the column of life expectancy values."
   ]
  },
  {
   "cell_type": "code",
   "execution_count": null,
   "metadata": {},
   "outputs": [],
   "source": [
    "life_exp_values = leb_full.iloc[:,3].values\n",
    "print(life_exp_values)"
   ]
  },
  {
   "cell_type": "markdown",
   "metadata": {},
   "source": [
    "Construct the MultiIndex object from the `'Code'` and `'Year'` columns."
   ]
  },
  {
   "cell_type": "code",
   "execution_count": null,
   "metadata": {},
   "outputs": [],
   "source": [
    "codes = leb_full['Code'].values\n",
    "years = leb_full['Year'].values\n",
    "mulind = pd.MultiIndex.from_arrays([codes,years])\n",
    "print(mulind)"
   ]
  },
  {
   "cell_type": "markdown",
   "metadata": {},
   "source": [
    "Using the array of life expectancy values with the MultiIndex object as an index, we construct a Series object that is then unstacked to yield a DataFrame in the desired format."
   ]
  },
  {
   "cell_type": "code",
   "execution_count": null,
   "metadata": {
    "scrolled": false
   },
   "outputs": [],
   "source": [
    "leb = pd.Series(life_exp_values,index=mulind).unstack()\n",
    "display(leb.head())"
   ]
  },
  {
   "cell_type": "markdown",
   "metadata": {},
   "source": [
    "Rows and columns are swapped through the application of `transpose()`."
   ]
  },
  {
   "cell_type": "code",
   "execution_count": null,
   "metadata": {},
   "outputs": [],
   "source": [
    "display(leb.transpose().head())"
   ]
  },
  {
   "cell_type": "markdown",
   "metadata": {},
   "source": [
    "The `describe()` method yields summary statistics of a DataFrame."
   ]
  },
  {
   "cell_type": "code",
   "execution_count": null,
   "metadata": {},
   "outputs": [],
   "source": [
    "display(leb.describe().transpose().head())"
   ]
  },
  {
   "cell_type": "markdown",
   "metadata": {},
   "source": [
    "## GroupBy mechanism"
   ]
  },
  {
   "cell_type": "markdown",
   "metadata": {},
   "source": [
    "The summary statistics computed from the restructured life expectancy DataFrame `leb` are examples of aggregates. If only such results of aggregation operations or related functions are sought, one may invoke the Pandas GroupBy mechanism with the original DataFrame `leb_full`, thus effectively skipping the potentially resource-consuming restructuring step.\n",
    "\n",
    "The GroupBy mechanism is usually understood as a sequence of three operations.\n",
    "1. *Split* a DataFrame according to the values of a specific key to produced groups.\n",
    "2. *Apply* a function (aggregation, transformation, filtering, ...) within each group. \n",
    "3. *Combine* the results into an array."
   ]
  },
  {
   "cell_type": "markdown",
   "metadata": {},
   "source": [
    "As an example, the following line produces life expectancy summary statistics directly from the original DataFrame `leb_full`.\n",
    "\n",
    "- `'Year'` is the key, defining yearly groups of the countries contributing data.\n",
    "- `'Life exp.'` indicates which column is supposed to be aggregated or, more generally, processed by the applied function.\n",
    "- `describe()`: is the operation applied to the data."
   ]
  },
  {
   "cell_type": "code",
   "execution_count": null,
   "metadata": {},
   "outputs": [],
   "source": [
    "leb_full.groupby('Year')['Life exp.'].describe().head()"
   ]
  },
  {
   "cell_type": "markdown",
   "metadata": {},
   "source": [
    "If a particular statistic is of interest, replace `describe()` by the appropriate function."
   ]
  },
  {
   "cell_type": "code",
   "execution_count": null,
   "metadata": {},
   "outputs": [],
   "source": [
    "leb_full.groupby('Year')['Life exp.'].quantile(0.75).head()"
   ]
  },
  {
   "cell_type": "markdown",
   "metadata": {},
   "source": [
    "User-defined subsets of summary statistics are display using `aggregate()`."
   ]
  },
  {
   "cell_type": "code",
   "execution_count": null,
   "metadata": {},
   "outputs": [],
   "source": [
    "leb_full.groupby('Year')['Life exp.'].aggregate(['min','mean','max']).head()"
   ]
  },
  {
   "cell_type": "markdown",
   "metadata": {},
   "source": [
    "More general functions can be incorporated into the split-apply-combine scheme by means of the `apply()` method. The function defined in the following cell computes the interquartile range of an array."
   ]
  },
  {
   "cell_type": "code",
   "execution_count": null,
   "metadata": {},
   "outputs": [],
   "source": [
    "def iqr(x): return np.quantile(x,0.75)-np.quantile(x,0.25)\n",
    "leb_full.groupby('Year')['Life exp.'].apply(iqr).head()"
   ]
  },
  {
   "cell_type": "markdown",
   "metadata": {},
   "source": [
    "### Exercise: GroupBy mechanism"
   ]
  },
  {
   "cell_type": "markdown",
   "metadata": {},
   "source": [
    "The `groupby()` function accepts not only column labels as keys but also lists, dictionaries, NumPy arrays, Pandas series, and user-defined functions. See the Pandas documentation for further information on the logic and the syntax of the function `groupby()`. Armed with this information, aggregate the life expectancy data from the DataFrame `leb_full` in decades, using `min`, `mean`, and `max` as aggregation functions.\n",
    "\n",
    "*Hint*: Consult [section 3.08 Aggregation and Grouping](https://jakevdp.github.io/PythonDataScienceHandbook/03.08-aggregation-and-grouping.html) of the \n",
    "[Python Data Science Handbook by Jake Vanderplas](https://jakevdp.github.io/PythonDataScienceHandbook/) for an effective implementation of decade aggregation."
   ]
  },
  {
   "cell_type": "code",
   "execution_count": null,
   "metadata": {},
   "outputs": [],
   "source": [
    "### Construct the variable decade as in section 3.08 of the PDSH by Jake Vanderplas.\n",
    "\n",
    "### Apply groupby() to obtain decadal aggregation of min, mean, max.\n"
   ]
  },
  {
   "cell_type": "markdown",
   "metadata": {},
   "source": [
    "## Pivot tables"
   ]
  },
  {
   "cell_type": "markdown",
   "metadata": {},
   "source": [
    "Following [section 3.09 Pivot Tables](https://jakevdp.github.io/PythonDataScienceHandbook/03.09-pivot-tables.html) of the [Python Data Science Handbook by Jake Vanderplas](https://jakevdp.github.io/PythonDataScienceHandbook/), we introduce pivot tables as an extension of the GroupBy logic from Pandas Series to DataFrame objects using a dataset of Titanic passengers, available through the Python package Seaborn (requires internet access)."
   ]
  },
  {
   "cell_type": "code",
   "execution_count": null,
   "metadata": {
    "scrolled": false
   },
   "outputs": [],
   "source": [
    "import seaborn as sns\n",
    "titanic = sns.load_dataset('titanic')\n",
    "display(titanic)\n",
    "### Uncommenting the next line stores the data in a csv file (for offline work).\n",
    "#titanic.to_csv('titanic.csv')\n",
    "### Uncommenting the next line loads the data from the local csv file 'titanic.csv'.\n",
    "#titanic = pd.read_csv('titanic.csv')"
   ]
  },
  {
   "cell_type": "markdown",
   "metadata": {},
   "source": [
    "Applying the GroupBy syntax to the `survived` column with binary values `1` and `0`, using `sex` and `class` as keys and `mean` as the aggregation function, produces the following table of survival rates."
   ]
  },
  {
   "cell_type": "code",
   "execution_count": null,
   "metadata": {},
   "outputs": [],
   "source": [
    "titanic.groupby(['sex', 'class'])['survived'].aggregate('mean').unstack()"
   ]
  },
  {
   "cell_type": "markdown",
   "metadata": {},
   "source": [
    "Since this kind of operation on tabular data is very common, it is customized by means of the Pandas function `pivot_table()`."
   ]
  },
  {
   "cell_type": "code",
   "execution_count": null,
   "metadata": {},
   "outputs": [],
   "source": [
    "titanic.pivot_table('survived', index='sex', columns='class', aggfunc='mean')"
   ]
  },
  {
   "cell_type": "markdown",
   "metadata": {},
   "source": [
    "### Exercise: Pivot tables"
   ]
  },
  {
   "cell_type": "markdown",
   "metadata": {},
   "source": [
    "See the Pandas documentation for further keyword arguments of `pivot_table()`. Study the application to birthrate data in [section 3.09 Pivot Tables](https://jakevdp.github.io/PythonDataScienceHandbook/03.09-pivot-tables.html) of the [Python Data Science Handbook by Jake Vanderplas](https://jakevdp.github.io/PythonDataScienceHandbook/)."
   ]
  },
  {
   "cell_type": "markdown",
   "metadata": {},
   "source": [
    "---\n",
    "---"
   ]
  },
  {
   "cell_type": "markdown",
   "metadata": {},
   "source": [
    "## Solutions"
   ]
  },
  {
   "cell_type": "markdown",
   "metadata": {},
   "source": [
    "### Solution: Hierarchical indexing"
   ]
  },
  {
   "cell_type": "code",
   "execution_count": null,
   "metadata": {},
   "outputs": [],
   "source": [
    "### Array of resident numbers.\n",
    "residents = [592533,551219,547340,502432,490571,523058,\n",
    "             696419,626973,574635,634202,579988,606588]\n",
    "### MultiIndex constructed from product.\n",
    "mulind5 = pd.MultiIndex.from_product([['Bremen','Dresden','Essen','Stuttgart'],\n",
    "                                      [1970,1990,2010]])\n",
    "print('MultiIndex constructed from product:')\n",
    "print(mulind5)\n",
    "### Series constructed from MultiIndex.\n",
    "res5 = pd.Series(residents,index=mulind5)\n",
    "print('\\nSeries constructed from MultiIndex and array of resident numbers:')\n",
    "print(res5)\n",
    "### Unstacking the Series produces a DataFrame.\n",
    "print('\\nUnstacking the Series produces the following DataFrame:')\n",
    "display(res5.unstack())"
   ]
  },
  {
   "cell_type": "markdown",
   "metadata": {},
   "source": [
    "### Solution: GroupBy mechanism"
   ]
  },
  {
   "cell_type": "code",
   "execution_count": null,
   "metadata": {},
   "outputs": [],
   "source": [
    "### Construct the variable decade as in section 3.08 of the PDSH by Jake Vanderplas.\n",
    "decade = 10*( leb_full['Year'] // 10 )\n",
    "decade = decade.astype(str)+'s'\n",
    "decade.name = 'Decade'\n",
    "### Apply groupby() to obtain decadal aggregation of min, mean, max.\n",
    "leb_full.groupby(decade)['Life exp.'].aggregate(['min','mean','max'])"
   ]
  },
  {
   "cell_type": "markdown",
   "metadata": {},
   "source": [
    "---\n",
    "---"
   ]
  }
 ],
 "metadata": {
  "anaconda-cloud": {},
  "kernelspec": {
   "display_name": "Python 3 (ipykernel)",
   "language": "python",
   "name": "python3"
  },
  "language_info": {
   "codemirror_mode": {
    "name": "ipython",
    "version": 3
   },
   "file_extension": ".py",
   "mimetype": "text/x-python",
   "name": "python",
   "nbconvert_exporter": "python",
   "pygments_lexer": "ipython3",
   "version": "3.10.9"
  }
 },
 "nbformat": 4,
 "nbformat_minor": 1
}
