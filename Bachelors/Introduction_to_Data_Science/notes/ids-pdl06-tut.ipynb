{
 "cells": [
  {
   "cell_type": "markdown",
   "metadata": {
    "collapsed": true
   },
   "source": [
    "**ids-pdl06-tut.ipynb**: This Jupyter notebook is provided by Joachim Vogt for the *Python Data Lab* of the module *CH-700 Introduction to Data Science* offered in Fall 2023 at Constructor University. Jupyter notebooks and other learning resources are available from a dedicated *module platform*."
   ]
  },
  {
   "cell_type": "markdown",
   "metadata": {},
   "source": [
    "# Control flow statements"
   ]
  },
  {
   "cell_type": "markdown",
   "metadata": {},
   "source": [
    "This tutorial provides an introduction to Python control structures such as loops and conditional statements, exerting control on the flow of a program. In this context also list comprehensions and dictionaries are presented. Follow the instructions below to learn to \n",
    "\n",
    "- [ ] construct conditional `if(-elif)-else` control structures and expressions,\n",
    "- [ ] implement `for` loops, \n",
    "- [ ] construct `while` loops,\n",
    "- [ ] discern the logic and the syntax of `for` loops and `while` loops,\n",
    "- [ ] translate `for` loops, possibly combined with conditional statements, to list comprehensions, \n",
    "- [ ] apply dictionaries in `for` loops.\n",
    "\n",
    "If you wish to keep track of your progress, you may edit this markdown cell, check a box in the list above after having worked through the respective part of this notebook, and save the file.\n",
    "\n",
    "*Short exercises* are embedded in this notebook. *Sample solutions* can be found at the end of the document."
   ]
  },
  {
   "cell_type": "markdown",
   "metadata": {},
   "source": [
    "## Conditional statements"
   ]
  },
  {
   "cell_type": "markdown",
   "metadata": {},
   "source": [
    "Python provides the `if` statement, possibly combined with `elif` and `else`, to allow for executing particular pieces of code depending on a condition, i.e., the truth value of a boolean expression."
   ]
  },
  {
   "cell_type": "markdown",
   "metadata": {},
   "source": [
    "### `if` control structure"
   ]
  },
  {
   "cell_type": "markdown",
   "metadata": {},
   "source": [
    "The basic `if` construction is as follows.\n",
    "\n",
    "    if <CondIf>:\n",
    "        <InstIf1>\n",
    "        <InstIf2>\n",
    "        ...\n",
    "        <InstIfN>\n",
    "        \n",
    "After the `if` statement, a boolean variable `<CondIf>` is followed by the colon `:`. Each line in the series `<InstIf1>`, `<InstIf2>`, ..., `<InstIfN>` *must be indented* by four blank characters (four whitespaces). The instructions are executed if and only if `<CondIf>` equals to `True`."
   ]
  },
  {
   "cell_type": "markdown",
   "metadata": {},
   "source": [
    "The following example illustrates the syntax of this conditional statement. Depending on the numerical value assigned to `Number`, a message is printed or not."
   ]
  },
  {
   "cell_type": "code",
   "execution_count": null,
   "metadata": {},
   "outputs": [],
   "source": [
    "Number = 1.1\n",
    "if Number>1:\n",
    "    print('Number is greater than unity.')"
   ]
  },
  {
   "cell_type": "markdown",
   "metadata": {},
   "source": [
    "### `if-else` control structure"
   ]
  },
  {
   "cell_type": "markdown",
   "metadata": {},
   "source": [
    "The `if` construction can be amended by an `else` block as follows.\n",
    "\n",
    "    if <CondIf>:\n",
    "        <InstIf1>\n",
    "        <InstIf2>\n",
    "        ...\n",
    "    else:\n",
    "        <InstElse1>\n",
    "        <InstElse2>\n",
    "        ...\n",
    "            \n",
    "The series of instructions `<InstElse1>`, `<InstElse2>`, ..., also to be indented by four blank characters (whitespaces), is executed if and only if the boolean variable `<CondIf>` equals to `False`."
   ]
  },
  {
   "cell_type": "markdown",
   "metadata": {},
   "source": [
    "The example from above can be used to demonstrate the extended syntax of the `if-else` construction. Depending on the numerical value assigned to `Number` and thus the truth value of the boolean expression `Number>1`, one out of two messages is printed."
   ]
  },
  {
   "cell_type": "code",
   "execution_count": null,
   "metadata": {},
   "outputs": [],
   "source": [
    "Number = 0.9\n",
    "if Number>1:\n",
    "    print('Number is greater than unity.')\n",
    "else:\n",
    "    print('Number is smaller than or equal to unity.')    "
   ]
  },
  {
   "cell_type": "markdown",
   "metadata": {},
   "source": [
    "### `if-elif-else` control structure"
   ]
  },
  {
   "cell_type": "markdown",
   "metadata": {},
   "source": [
    "Adding `elif` blocks to the `if-else` construction allows for evaluating multiple boolean conditions. The following setup includes one such `elif` block, more of them could be added before the `else` block.\n",
    "\n",
    "    if <CondIf>:\n",
    "        <InstIf1>\n",
    "        <InstIf2>\n",
    "        ...\n",
    "    elif <CondElifA>:\n",
    "        <InstElifA1>\n",
    "        <InstElifA2>\n",
    "        ...\n",
    "    else:\n",
    "        <InstElse1>\n",
    "        <InstElse2>\n",
    "        ...\n",
    "            \n",
    "The logic and syntay of each `elif` block is the same as for the `if` blocks. The instructions after the `else` statement are executed only of the boolean expressions `<CondIf>`, `<CondElifA>` (and possibly `<CondElifB>`, `<CondElifC>`, ... for additional `elif` blocks) all equal to `False`."
   ]
  },
  {
   "cell_type": "markdown",
   "metadata": {},
   "source": [
    "Let us again return to the example from above for illustration of the general principle."
   ]
  },
  {
   "cell_type": "code",
   "execution_count": null,
   "metadata": {},
   "outputs": [],
   "source": [
    "Number = 1.0\n",
    "if Number>1:\n",
    "    print('Number is greater than unity.')\n",
    "elif Number<1:\n",
    "    print('Number is smaller than unity.')\n",
    "else:\n",
    "    print('Number is equal to unity.')    "
   ]
  },
  {
   "cell_type": "markdown",
   "metadata": {},
   "source": [
    "### Conditional `if-else` expression"
   ]
  },
  {
   "cell_type": "markdown",
   "metadata": {},
   "source": [
    "Python offers a conditional expression similar to the `if-else` construction that does not qualify as a control structure as it does not (re-)direct the flow of a piece of code.\n",
    "\n",
    "    <InstIf> if <CondIf> else <InstElse>"
   ]
  },
  {
   "cell_type": "markdown",
   "metadata": {},
   "source": [
    "The example used for the `if-else` control structure translates into the following conditional expression."
   ]
  },
  {
   "cell_type": "code",
   "execution_count": null,
   "metadata": {},
   "outputs": [],
   "source": [
    "Number = 0.9\n",
    "print('Number is greater than unity.') if Number>1 else print('Number is smaller than or equal to unity.')    "
   ]
  },
  {
   "cell_type": "markdown",
   "metadata": {},
   "source": [
    "### Exercise: Conditional statements"
   ]
  },
  {
   "cell_type": "markdown",
   "metadata": {},
   "source": [
    "Consider the following piece of Python code and anticipate what happens for different values of the parameters `Choice` and `Number`. Uncomment the respective lines in the parameter definition section to check your prediction. "
   ]
  },
  {
   "cell_type": "code",
   "execution_count": null,
   "metadata": {},
   "outputs": [],
   "source": [
    "### Parameter definition section.\n",
    "Choice = ''\n",
    "#Choice = 'A'\n",
    "#Choice = 'B'\n",
    "#Choice = 'C'\n",
    "Number = 1\n",
    "#Number = 3.0\n",
    "#Number = 5+0j\n",
    "### Option A\n",
    "if Choice=='A':\n",
    "    Number = Number + 1\n",
    "### Option B\n",
    "elif Choice=='B':\n",
    "    if type(Number)==int:\n",
    "        Number = Number + 2\n",
    "    elif type(Number)==float:\n",
    "        Number = Number + 3\n",
    "    elif type(Number)==complex:\n",
    "        Number = Number + 4\n",
    "    else:\n",
    "        print('*** Number: unknown data type.')\n",
    "### Option C\n",
    "elif Choice=='C':\n",
    "    if Number<2:\n",
    "        Number = Number + 5\n",
    "    else:\n",
    "        Number = Number - 1\n",
    "### else block\n",
    "else:\n",
    "    print('*** Choice: non-supported value.')\n",
    "### Print resulting value of the variable Number.\n",
    "print('Number = {}'.format(Number))"
   ]
  },
  {
   "cell_type": "markdown",
   "metadata": {},
   "source": [
    "## `for` loop"
   ]
  },
  {
   "cell_type": "markdown",
   "metadata": {},
   "source": [
    "Repeated execution of instructions is accomplished by means of *loops*. A Python `for` loop carries out a series of instructions for each instance from a given collection of objects adhering to a specific format. Such collections are called *iterables*.\n",
    "\n",
    "    for <Var> in <Iterable>:\n",
    "        <InstFor1>\n",
    "        <InstFor2>\n",
    "        ...\n",
    "        \n",
    "As for the conditional statements discussed above, the block of instructions `<InstFor1>`, `<InstFor2>`, ..., must follow the general *indentation requirement* (four whitespaces)."
   ]
  },
  {
   "cell_type": "markdown",
   "metadata": {},
   "source": [
    "In the following example, `range(5)` provides the iterable, with its individual entries picked up successively by the variable `i`. "
   ]
  },
  {
   "cell_type": "code",
   "execution_count": null,
   "metadata": {},
   "outputs": [],
   "source": [
    "for i in range(5):\n",
    "    print(i)"
   ]
  },
  {
   "cell_type": "markdown",
   "metadata": {},
   "source": [
    "Python lists and string variables may also serve as iterables."
   ]
  },
  {
   "cell_type": "code",
   "execution_count": null,
   "metadata": {},
   "outputs": [],
   "source": [
    "### for loop with a list as iterable\n",
    "print('Individual elements of a list:')\n",
    "ListOfFruits = ['Apples','Bananas','Oranges','Pears']\n",
    "for Fruit in ListOfFruits:\n",
    "    print(Fruit)\n",
    "### for loop with a string as iterable\n",
    "print('\\nIndividual characters of a string:')\n",
    "String = 'Python'\n",
    "for char in String:\n",
    "    print(char)"
   ]
  },
  {
   "cell_type": "markdown",
   "metadata": {},
   "source": [
    "If not only the elements of an iterable but also the indices are required for processing the block of instructions, it is convenient to apply the Python functiom `enumerate()`."
   ]
  },
  {
   "cell_type": "code",
   "execution_count": null,
   "metadata": {},
   "outputs": [],
   "source": [
    "print('Indices and elements of a list:')\n",
    "ListOfFruits = ['Apple','Banana','Cherry']\n",
    "for Index,Fruit in enumerate(ListOfFruits):\n",
    "    print(Index,Fruit)"
   ]
  },
  {
   "cell_type": "markdown",
   "metadata": {},
   "source": [
    "To further manage the flow within a `for` block of instructions, Python offers additional control statements. See the Python documentation for further information.\n",
    "\n",
    "- `continue`: In a particular instance of the iterable, the remaining instructions within the block are ignored, and control is returned to the beginning of the  loop.\n",
    "- `break`: The loop is interrupted, no further instructions from the `for` block are executed, no further instances of the iterable are visited, and the code is continued at the next instruction after the `for` loop.\n",
    "- `else`: The `for` loop may be amended by an `else` block of instructions as in `if(-elif)-else` constructions that are executed only if no `break` occurs within the loop.\n",
    "- `pass`: This statement allows for empty loops."
   ]
  },
  {
   "cell_type": "markdown",
   "metadata": {},
   "source": [
    "### Exercise: `for` loop"
   ]
  },
  {
   "cell_type": "markdown",
   "metadata": {},
   "source": [
    "Consider the following piece of Python code and anticipate the outcome. Run the code cell to check your prediction. "
   ]
  },
  {
   "cell_type": "code",
   "execution_count": null,
   "metadata": {},
   "outputs": [],
   "source": [
    "### Define several iterables.\n",
    "Iter1 = range(2,5)\n",
    "Iter2 = '234'\n",
    "Iter3 = [2,3.0,'four']\n",
    "### Loop over the first iterable.\n",
    "print('First iterable:')\n",
    "for k in Iter1:\n",
    "    print(k,k+k)\n",
    "### Loop over the second iterable.\n",
    "print('\\nSecond iterable:')\n",
    "for k in Iter2:\n",
    "    print(k,k+k)\n",
    "### Loop over the third iterable.\n",
    "print('\\nThird iterable:')\n",
    "for k in Iter3:\n",
    "    print(k,k+k)"
   ]
  },
  {
   "cell_type": "markdown",
   "metadata": {},
   "source": [
    "## `while` loop"
   ]
  },
  {
   "cell_type": "markdown",
   "metadata": {},
   "source": [
    "A Python `while` loop carries out a series of instructions depending on the truth value of a boolean expression. The syntax is as follows.\n",
    "\n",
    "    while <CondWhile>:\n",
    "        <InstWhile1>\n",
    "        <InstWhile2>\n",
    "        ...\n",
    "        \n",
    "As for the conditional statements and the `for` loop discussed above, the block of instructions `<InstWhile1>`, `<InstWhile2>`, ..., must follow the general *indentation requirement* (four whitespaces)."
   ]
  },
  {
   "cell_type": "markdown",
   "metadata": {},
   "source": [
    "The logic of a `for` loop can be implemented with a counter that needs to be initialized before the `while` statement, and then incremented inside the block of instructions. In the following cell, `i += 1` is synonymous to `i = i+1`."
   ]
  },
  {
   "cell_type": "code",
   "execution_count": null,
   "metadata": {
    "scrolled": false
   },
   "outputs": [],
   "source": [
    "i = 0\n",
    "while (i<5):\n",
    "    print(i)\n",
    "    i += 1"
   ]
  },
  {
   "cell_type": "markdown",
   "metadata": {},
   "source": [
    "As illustrated by the following example where a small integer number is to be found using a series of guesses, `while` loops can handle constructions without necessarily incrementing a counter. Note that the function `input()` prints a message and accepts input from the keyboard."
   ]
  },
  {
   "cell_type": "code",
   "execution_count": null,
   "metadata": {},
   "outputs": [],
   "source": [
    "### Parameter settings.\n",
    "from numpy.random import randint\n",
    "Target = randint(1,4)   #.. set target number\n",
    "Guess = 0               #.. initialize variable to store guess\n",
    "print('The target number is either 1, 2, or 3.')\n",
    "### Enter guesses as long as the target number is not found.\n",
    "while (Guess!=Target):\n",
    "    Guess = int(input('Enter your guess : '))\n",
    "### Check that the while loop has correctly terminated with Guess equaling Target.\n",
    "print('Target : {}'.format(Target))\n",
    "print('Guess  : {}'.format(Guess))"
   ]
  },
  {
   "cell_type": "markdown",
   "metadata": {},
   "source": [
    "As with `for` loops, the flow within a `which` block of instructions can be managed further by means of additional control statements such as `continue`, `break`, `else`, and `pass`.  See the Python documentation for further information."
   ]
  },
  {
   "cell_type": "markdown",
   "metadata": {},
   "source": [
    "### Exercise: `while` loop"
   ]
  },
  {
   "cell_type": "markdown",
   "metadata": {},
   "source": [
    "Create an extended version of the `while` loop example for guessing a number.\n",
    "\n",
    "- The set of possible target integers is {1,2,...,9}.\n",
    "- The loop is terminated when a negative number is entered.\n",
    "- The user is informed if the guess is smaller or larger than the target number.\n",
    "- The maximum number of trials is three.\n",
    "\n",
    "The code cell below is incomplete and does not produce correct results. Complete the code according to the specifications. More concretely, replace the number `42` with appropriate boolean expressions, and `pass` with the appropriate instruction."
   ]
  },
  {
   "cell_type": "code",
   "execution_count": null,
   "metadata": {},
   "outputs": [],
   "source": [
    "### Parameter settings.\n",
    "from numpy.random import randint\n",
    "MaxTrials = 3            #.. set maximum number of trials\n",
    "Trials = 0               #.. initialize trial counter\n",
    "Target = randint(1,10)   #.. set target number\n",
    "Guess = 0                #.. initialize variable to store guess\n",
    "print('The target number is a random positive one-digit integer (1,2,...,9).')\n",
    "### Enter guesses as long as\n",
    "### (a) the entries are non-negative, \n",
    "### (b) the entries are not equal to the target number, and \n",
    "### (c) the total number of previous trials is smaller than three.\n",
    "while ((Guess>=0) and (Guess!=Target) and (42)):\n",
    "    Guess = int(input('\\nEnter your guess (or a negative number to quit) : '))\n",
    "### Increment trial counter.\n",
    "    pass\n",
    "### Check if Guess is negative.\n",
    "    if 42:\n",
    "        print('Negative entry. Quit guessing exercise.')\n",
    "### Check if Guess is smaller than Target.\n",
    "    elif 42:\n",
    "        print('Your guess was too small.')\n",
    "### Check if Guess is larger than Target.\n",
    "    elif 42:\n",
    "        print('Your guess was too large.')\n",
    "### Guess equals Target.\n",
    "    else:\n",
    "        print('Your guess was correct!')\n",
    "### Print Target, Guess, Trials.\n",
    "print('\\nTarget : {}'.format(Target))\n",
    "print('Guess  : {}'.format(Guess))\n",
    "print('Trials : {}'.format(Trials))"
   ]
  },
  {
   "cell_type": "markdown",
   "metadata": {},
   "source": [
    "## List comprehensions"
   ]
  },
  {
   "cell_type": "markdown",
   "metadata": {},
   "source": [
    "Using `for` loops, lists can be built as in the following example."
   ]
  },
  {
   "cell_type": "code",
   "execution_count": null,
   "metadata": {},
   "outputs": [],
   "source": [
    "lst1 = [1,'Four',9.0]   #.. list with input values\n",
    "lst2 = []               #.. initialize output list\n",
    "for elem in lst1:\n",
    "    lst2.append(elem+elem)\n",
    "print('Output list constructed using a for loop:')\n",
    "print(lst2)"
   ]
  },
  {
   "cell_type": "markdown",
   "metadata": {},
   "source": [
    "*List comprehensions* facilitate this type of list construction. "
   ]
  },
  {
   "cell_type": "code",
   "execution_count": null,
   "metadata": {},
   "outputs": [],
   "source": [
    "lst1 = [1,'Four',9.0]   #.. list with input values\n",
    "lst3 = [elem+elem for elem in lst1]\n",
    "print('Output list constructed using a list comprehension:')\n",
    "print(lst3)"
   ]
  },
  {
   "cell_type": "markdown",
   "metadata": {},
   "source": [
    "Nested `for` loops are supported in list comprehensions."
   ]
  },
  {
   "cell_type": "code",
   "execution_count": null,
   "metadata": {},
   "outputs": [],
   "source": [
    "lst4 = []               #.. initialize output list\n",
    "for char1 in 'ABC':\n",
    "    for char2 in '123':\n",
    "        lst4.append(char1+char2)\n",
    "print('Output list constructed using two nested for loops.')\n",
    "print(lst4)\n",
    "print('\\nOutput list constructed using a list comprehension:')\n",
    "lst5 = [char1+char2 for char1 in 'ABC' for char2 in '123']\n",
    "print(lst5)"
   ]
  },
  {
   "cell_type": "markdown",
   "metadata": {},
   "source": [
    "List comprehensions can be *filtered* using one or several `if` statement *following* the `for` loop(s)."
   ]
  },
  {
   "cell_type": "code",
   "execution_count": null,
   "metadata": {},
   "outputs": [],
   "source": [
    "print('List comprehension without filtering:')\n",
    "print([char1+char2 for char1 in 'ABC' for char2 in 'BCD'])\n",
    "print('\\nList comprehension with filtering:')\n",
    "print([char1+char2 for char1 in 'ABC' for char2 in 'BCD' if char1!=char2])"
   ]
  },
  {
   "cell_type": "markdown",
   "metadata": {},
   "source": [
    "This type of `if` filtering must be distinguished from the self-contained conditional `if-else` expression that can be part of the instruction to be carried out within the `for` loop(s)."
   ]
  },
  {
   "cell_type": "code",
   "execution_count": null,
   "metadata": {},
   "outputs": [],
   "source": [
    "lst1 = [1,'Four',9.0]   #.. list with input values\n",
    "from math import sqrt\n",
    "### Construction of output list using a for loop and an if-else construct.\n",
    "lst6 = []               #.. initialize output list\n",
    "for elem in lst1:\n",
    "    if type(elem)!=str:\n",
    "        lst6.append(sqrt(elem))\n",
    "    else:\n",
    "        lst6.append('SqrtOf'+elem)\n",
    "print('Output list constructed using a for loop combined with an if-else statement:')\n",
    "print(lst6)\n",
    "### Construction of output list using a list comprehension.\n",
    "lst7 = [sqrt(elem) if type(elem)!=str else 'SqrtOf'+elem for elem in lst1]\n",
    "print('\\nOutput list constructed using a list comprehension:')\n",
    "print(lst7)"
   ]
  },
  {
   "cell_type": "markdown",
   "metadata": {},
   "source": [
    "Related to list comprehensions are *generators*. See the Python documentation for further information."
   ]
  },
  {
   "cell_type": "markdown",
   "metadata": {},
   "source": [
    "### Exercise: List comprehensions"
   ]
  },
  {
   "cell_type": "markdown",
   "metadata": {},
   "source": [
    "In the code cell below, lists are constructed using for loops, possibly combined with conditional statements. Translate the list constructions into list comprehensions. "
   ]
  },
  {
   "cell_type": "code",
   "execution_count": null,
   "metadata": {},
   "outputs": [],
   "source": [
    "lst1 = [4,'Five',8.3,11]    #.. list with input values\n",
    "\n",
    "### Construction of first output list using a for loop.\n",
    "lst2 = []                   #.. initialize output list\n",
    "for elem in lst1:\n",
    "    lst2.append(elem*3)\n",
    "print('First output list constructed using a for loop:')\n",
    "print(lst2)\n",
    "### Construction of first output list using a list comprehension.\n",
    "lst3 = []\n",
    "print('\\nFirst output list constructed using a list comprehension:')\n",
    "print(lst3)\n",
    "\n",
    "### Construction of second output list using a for loop and nested if-else statements.\n",
    "lst2 = []                   #.. initialize output list\n",
    "for elem in lst1:\n",
    "    if type(elem)==int:\n",
    "        if elem%2==0:\n",
    "            lst2.append('even')\n",
    "        else:\n",
    "            lst2.append('odd')\n",
    "    else:\n",
    "        lst2.append('non-integer')\n",
    "print('\\nSecond output list constructed using a for loop combined with nested if-else statements:')\n",
    "print(lst2)\n",
    "### Construction of second output list using a list comprehension.\n",
    "lst3 = []\n",
    "print('\\nSecond output list constructed using a list comprehension:')\n",
    "print(lst3)\n",
    "\n",
    "### Construction of third output list using two nested for loops.\n",
    "lst2 = []                   #.. initialize output list\n",
    "for elem1 in lst1[2:]:\n",
    "    for elem2 in lst1[:-2]:\n",
    "        lst2.append((elem1,elem2))\n",
    "print('\\nThird output list constructed using two nested for loops:')\n",
    "print(lst2)\n",
    "### Construction of third output list using a list comprehension.\n",
    "lst3 = []\n",
    "print('\\nThird output list constructed using a list comprehension:')\n",
    "print(lst3)"
   ]
  },
  {
   "cell_type": "markdown",
   "metadata": {},
   "source": [
    "## Dictionaries"
   ]
  },
  {
   "cell_type": "markdown",
   "metadata": {},
   "source": [
    "Python dictionaries are data structures mapping key to values, i.e., they consist of (key:value) pairs. Depending on the Python version, these associative arrays may be ordered or unordered. The following illustrate example may be understood as a data base for different types of fruit."
   ]
  },
  {
   "cell_type": "code",
   "execution_count": null,
   "metadata": {},
   "outputs": [],
   "source": [
    "DictOfFruits = {'Apples':19,'Bananas':13,'Oranges':17,'Pears':11}\n",
    "print('Dictionary : ',DictOfFruits)\n",
    "print('Keys       : ',DictOfFruits.keys())\n",
    "print('Values     : ',DictOfFruits.values())\n",
    "print('Items      : ',DictOfFruits.items())"
   ]
  },
  {
   "cell_type": "markdown",
   "metadata": {},
   "source": [
    "In dictionaries, individual entries (values and items) are indexed by keys."
   ]
  },
  {
   "cell_type": "code",
   "execution_count": null,
   "metadata": {},
   "outputs": [],
   "source": [
    "print(DictOfFruits['Oranges'])"
   ]
  },
  {
   "cell_type": "markdown",
   "metadata": {},
   "source": [
    "When dictionaries enter loops, the keys are used to refer to entries."
   ]
  },
  {
   "cell_type": "code",
   "execution_count": null,
   "metadata": {},
   "outputs": [],
   "source": [
    "for key in DictOfFruits:\n",
    "    print(key+' left in stock : '+str(DictOfFruits[key]))"
   ]
  },
  {
   "cell_type": "markdown",
   "metadata": {},
   "source": [
    "---\n",
    "---"
   ]
  },
  {
   "cell_type": "markdown",
   "metadata": {},
   "source": [
    "## Solutions"
   ]
  },
  {
   "cell_type": "markdown",
   "metadata": {},
   "source": [
    "### Solution: `while` loop"
   ]
  },
  {
   "cell_type": "code",
   "execution_count": null,
   "metadata": {},
   "outputs": [],
   "source": [
    "### Parameter settings.\n",
    "from numpy.random import randint\n",
    "MaxTrials = 3            #.. set maximum number of trials\n",
    "Trials = 0               #.. initialize trial counter\n",
    "Target = randint(1,10)   #.. set target number\n",
    "Guess = 0                #.. initialize variable to store guess\n",
    "print('The target number is a random positive one-digit integer (1,2,...,9).')\n",
    "### Enter guesses as long as\n",
    "### (a) the entries are non-negative, \n",
    "### (b) the entries are not equal to the target number, and \n",
    "### (c) the total number of previous trials is smaller than three.\n",
    "while ((Guess>=0) and (Guess!=Target) and (Trials<MaxTrials)):\n",
    "    Guess = int(input('\\nEnter your guess (or a negative number to quit) : '))\n",
    "### Increment trial counter.\n",
    "    Trials += 1\n",
    "### Check if Guess is negative.\n",
    "    if Guess<0:\n",
    "        print('Negative entry. Quit guessing exercise.')\n",
    "### Check if Guess is smaller than Target.\n",
    "    elif Guess<Target:\n",
    "        print('Your guess was too small.')\n",
    "### Check if Guess is larger than Target.\n",
    "    elif Guess>Target:\n",
    "        print('Your guess was too large.')\n",
    "### Guess equals Target.\n",
    "    else:\n",
    "        print('Your guess was correct!')\n",
    "### Print Target, Guess, Trials.\n",
    "print('\\nTarget : {}'.format(Target))\n",
    "print('Guess  : {}'.format(Guess))\n",
    "print('Trials : {}'.format(Trials))"
   ]
  },
  {
   "cell_type": "markdown",
   "metadata": {},
   "source": [
    "### Solution: List comprehensions"
   ]
  },
  {
   "cell_type": "code",
   "execution_count": null,
   "metadata": {},
   "outputs": [],
   "source": [
    "lst1 = [4,'Five',8.3,11]    #.. list with input values\n",
    "\n",
    "### Construction of first output list using a for loop.\n",
    "lst2 = []                   #.. initialize output list\n",
    "for elem in lst1:\n",
    "    lst2.append(elem*3)\n",
    "print('First output list constructed using a for loop:')\n",
    "print(lst2)\n",
    "### Construction of first output list using a list comprehension.\n",
    "lst3 = [elem*3 for elem in lst1]\n",
    "print('\\nFirst output list constructed using a list comprehension:')\n",
    "print(lst3)\n",
    "\n",
    "### Construction of second output list using a for loop and nested if-else statements.\n",
    "lst2 = []                   #.. initialize output list\n",
    "for elem in lst1:\n",
    "    if type(elem)==int:\n",
    "        if elem%2==0:\n",
    "            lst2.append('even')\n",
    "        else:\n",
    "            lst2.append('odd')\n",
    "    else:\n",
    "        lst2.append('non-integer')\n",
    "print('\\nSecond output list constructed using a for loop combined with nested if-else statements:')\n",
    "print(lst2)\n",
    "### Construction of second output list using a list comprehension.\n",
    "lst3 = [('even' if elem%2==0 else 'odd') if type(elem)==int else 'non-integer' for elem in lst1]\n",
    "print('\\nSecond output list constructed using a list comprehension:')\n",
    "print(lst3)\n",
    "\n",
    "### Construction of third output list using two nested for loops.\n",
    "lst2 = []                   #.. initialize output list\n",
    "for elem1 in lst1[2:]:\n",
    "    for elem2 in lst1[:-2]:\n",
    "        lst2.append((elem1,elem2))\n",
    "print('\\nThird output list constructed using two nested for loops:')\n",
    "print(lst2)\n",
    "### Construction of third output list using a list comprehension.\n",
    "lst3 = [(elem1,elem2) for elem1 in lst1[2:] for elem2 in lst1[:-2]]\n",
    "print('\\nThird output list constructed using a list comprehension:')\n",
    "print(lst3)"
   ]
  },
  {
   "cell_type": "markdown",
   "metadata": {},
   "source": [
    "---\n",
    "---"
   ]
  }
 ],
 "metadata": {
  "anaconda-cloud": {},
  "kernelspec": {
   "display_name": "Python 3 (ipykernel)",
   "language": "python",
   "name": "python3"
  },
  "language_info": {
   "codemirror_mode": {
    "name": "ipython",
    "version": 3
   },
   "file_extension": ".py",
   "mimetype": "text/x-python",
   "name": "python",
   "nbconvert_exporter": "python",
   "pygments_lexer": "ipython3",
   "version": "3.10.9"
  }
 },
 "nbformat": 4,
 "nbformat_minor": 1
}
