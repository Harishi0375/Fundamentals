{
 "cells": [
  {
   "cell_type": "markdown",
   "metadata": {
    "collapsed": true
   },
   "source": [
    "**ids-pdl08-tut.ipynb**: This Jupyter notebook is provided by Joachim Vogt for the *Python Data Lab* of the module *CH-700 Introduction to Data Science* offered in Fall 2023 at Constructor University. Jupyter notebooks and other learning resources are available from a dedicated *module platform*."
   ]
  },
  {
   "cell_type": "markdown",
   "metadata": {},
   "source": [
    "# Pandas basics"
   ]
  },
  {
   "cell_type": "markdown",
   "metadata": {},
   "source": [
    "This tutorial provides an introduction to the Python package Pandas. Follow the instructions below to learn to\n",
    "\n",
    "- [ ] construct Pandas Series objects from dictionaries, lists, and arrays,\n",
    "- [ ] select elements in a Pandas Series using label-based and integer-based methods,\n",
    "- [ ] construct Pandas DataFrame objects from dictionaries, lists, and arrays,\n",
    "- [ ] select elements in a Pandas DataFrame using label-based and integer-based methods,\n",
    "- [ ] join/merge Pandas DataFrame objects, \n",
    "- [ ] operate on columns in a Pandas DataFrame, and add new columns,\n",
    "- [ ] store tabular data from a file in a Pandas DataFrame,\n",
    "- [ ] extract and restructure tabular data using Pandas DataFrame objects.\n",
    "\n",
    "If you wish to keep track of your progress, you may edit this markdown cell, check a box in the list above after having worked through the respective part of this notebook, and save the file.\n",
    "\n",
    "*Short exercises* are embedded in this notebook. *Sample solutions* can be found at the end of the document."
   ]
  },
  {
   "cell_type": "markdown",
   "metadata": {},
   "source": [
    "## Preparation"
   ]
  },
  {
   "cell_type": "markdown",
   "metadata": {},
   "source": [
    "The following data file is expected to reside in the working directory. Identify the file on the module platform and upload it to the same folder as this Jupyter notebook.\n",
    "\n",
    "- `life-expectancy-at-birth-total-years.csv`: Life expectancy at birth 1960-2019, published by the [World Bank, 2021-07-30](http://data.worldbank.org/data-catalog/world-development-indicators), available from [Our World in Data](https://ourworldindata.org/grapher/life-expectancy-at-birth-total-years)."
   ]
  },
  {
   "cell_type": "markdown",
   "metadata": {},
   "source": [
    "Run the following code cell to import standard Python data science libraries. The NumPy module facilitates efficient processing of numerical arrays, and is usually imported as `np`. From the matplotlib library we import the package `pyplot` using the standard abbreviation `plt`. The magic command `%matplotlib inline` (IPython shell) allows for inline display of graphics."
   ]
  },
  {
   "cell_type": "code",
   "execution_count": null,
   "metadata": {},
   "outputs": [],
   "source": [
    "import numpy as np\n",
    "import matplotlib.pyplot as plt\n",
    "%matplotlib inline"
   ]
  },
  {
   "cell_type": "markdown",
   "metadata": {},
   "source": [
    "### Importing Pandas"
   ]
  },
  {
   "cell_type": "markdown",
   "metadata": {},
   "source": [
    "It is common practice to import the Pandas library using the prefix `pd`."
   ]
  },
  {
   "cell_type": "code",
   "execution_count": null,
   "metadata": {},
   "outputs": [],
   "source": [
    "import pandas as pd"
   ]
  },
  {
   "cell_type": "markdown",
   "metadata": {},
   "source": [
    "### Pandas documentation and tutorials"
   ]
  },
  {
   "cell_type": "markdown",
   "metadata": {},
   "source": [
    "Pandas is hosted at [https://pandas.pydata.org](https://pandas.pydata.org), with extensive [documentation](https://pandas.pydata.org/docs) and [tutorials](https://pandas.pydata.org/docs/getting_started/intro_tutorials/). If you are familiar with other tools for analyses of tabular data (R, SQL, spreadsheets, SAS, Stata), it may be worthwhile comparing terminologies, see the page [Comparisons with other tools](https://pandas.pydata.org/docs/getting_started/comparisons/)."
   ]
  },
  {
   "cell_type": "markdown",
   "metadata": {},
   "source": [
    "Note the official spelling is *pandas* (lower case). In this tutorial the package name is capitalized (*Pandas*) to avoid confusion with a bunch of bears."
   ]
  },
  {
   "cell_type": "markdown",
   "metadata": {},
   "source": [
    "## Pandas Series"
   ]
  },
  {
   "cell_type": "markdown",
   "metadata": {},
   "source": [
    "A Pandas Series object stores a one-dimensional labeled array, similar to a Python dictionary, but amended and optimized for data science operations. Python dictionaries relate to Pandas Series objects in a similar way as Python lists relate to NumPy ndarray objects, with the former being more flexible regarding data types, and the latter being optimized for efficient numerical processing."
   ]
  },
  {
   "cell_type": "markdown",
   "metadata": {},
   "source": [
    "### Pandas Series from Python dictionaries"
   ]
  },
  {
   "cell_type": "markdown",
   "metadata": {},
   "source": [
    "Recall that Python dictionaries are collections of key:value pairs."
   ]
  },
  {
   "cell_type": "code",
   "execution_count": null,
   "metadata": {},
   "outputs": [],
   "source": [
    "dct1 = { 'a':10, 'b':20 , 'c':30, 'd':40}\n",
    "print('Dictionary : ',dct1)\n",
    "print('Keys       : ',dct1.keys())\n",
    "print('Values     : ',dct1.values())"
   ]
  },
  {
   "cell_type": "markdown",
   "metadata": {},
   "source": [
    "When a Python dictionary is turned into a Pandas Series object, the keys are stored in a Pandas Index object."
   ]
  },
  {
   "cell_type": "code",
   "execution_count": null,
   "metadata": {},
   "outputs": [],
   "source": [
    "ser1 = pd.Series(dct1)\n",
    "print('Series :')\n",
    "print(ser1)\n",
    "print('\\nIndex  : ',ser1.index)\n",
    "print('Values : ',ser1.values)"
   ]
  },
  {
   "cell_type": "markdown",
   "metadata": {},
   "source": [
    "### Pandas Series from Python lists and NumPy arrays"
   ]
  },
  {
   "cell_type": "markdown",
   "metadata": {},
   "source": [
    "Series can be constructed not only from dictionaries but also from lists or ndarray objects, with the index array provided through a keyword argument of the `Series()` function. "
   ]
  },
  {
   "cell_type": "code",
   "execution_count": null,
   "metadata": {},
   "outputs": [],
   "source": [
    "ser2 = pd.Series([10,20,30,40],index=['a','b','c','d'])\n",
    "print(ser2)"
   ]
  },
  {
   "cell_type": "markdown",
   "metadata": {},
   "source": [
    "If a Series is defined without explicit reference to an index, it is derived from the integer positions."
   ]
  },
  {
   "cell_type": "code",
   "execution_count": null,
   "metadata": {},
   "outputs": [],
   "source": [
    "ser3 = pd.Series([10,20,30,40])\n",
    "print(ser3)\n",
    "print('\\nIndex  : ',ser3.index)"
   ]
  },
  {
   "cell_type": "markdown",
   "metadata": {},
   "source": [
    "### Selection of elements in a Pandas Series"
   ]
  },
  {
   "cell_type": "markdown",
   "metadata": {},
   "source": [
    "The most intuitive way of selecting individual elements of a Series is through the index. Slicing produces another Series object, with the end element included in the result. The `values` attribute extracts the array of elements."
   ]
  },
  {
   "cell_type": "code",
   "execution_count": null,
   "metadata": {},
   "outputs": [],
   "source": [
    "ser1 = pd.Series( { 'a':10, 'b':20 , 'c':30, 'd':40} )\n",
    "print(\"ser1['c'] : \",ser1['c'])\n",
    "print(\"ser1['b':'d'].values : \",ser1['b':'d'].values)\n",
    "print(\"\\nser1['b':'d'] : \")\n",
    "print(ser1['b':'d'])"
   ]
  },
  {
   "cell_type": "markdown",
   "metadata": {},
   "source": [
    "Series elements may also be referenced through their integer position along the index, with the usual logic of Python lists and NumPy arrays (e.g., end elements are omitted)."
   ]
  },
  {
   "cell_type": "code",
   "execution_count": null,
   "metadata": {},
   "outputs": [],
   "source": [
    "print(\"ser1[2] : \",ser1[2])\n",
    "print(\"ser1[1:3].values : \",ser1[1:3].values)\n",
    "print(\"\\nser1[1:3] : \")\n",
    "print(ser1[1:3])"
   ]
  },
  {
   "cell_type": "markdown",
   "metadata": {},
   "source": [
    "In cases where the index is formed from an array of integers, slicing may lead to ambiguities, and then it is saver to reference objects through `.loc` (label-based selection) and `.iloc` (integer-based selection)."
   ]
  },
  {
   "cell_type": "code",
   "execution_count": null,
   "metadata": {},
   "outputs": [],
   "source": [
    "ser4 = pd.Series( { 1:10, 2:20, 3:30, 4:40 } )\n",
    "print(\"ser4 : \")\n",
    "print(ser4)\n",
    "print(\"\\nser4[1:3].values      : \",ser4[1:3].values)\n",
    "print(\"ser4.loc[1:3].values  : \",ser4.loc[1:3].values)\n",
    "print(\"ser4.iloc[1:3].values : \",ser4.iloc[1:3].values)"
   ]
  },
  {
   "cell_type": "markdown",
   "metadata": {},
   "source": [
    "The referencing syntax can be applied to re-assign values, or even define a new element to th Series."
   ]
  },
  {
   "cell_type": "code",
   "execution_count": null,
   "metadata": {},
   "outputs": [],
   "source": [
    "ser5 = pd.Series( { 'a':10, 'b':20 , 'c':30, 'd':40} )\n",
    "print(ser5)\n",
    "ser5['c'] = 33\n",
    "ser5['e'] = 55\n",
    "print()\n",
    "print(ser5)"
   ]
  },
  {
   "cell_type": "markdown",
   "metadata": {},
   "source": [
    "### Operations on Series objects"
   ]
  },
  {
   "cell_type": "markdown",
   "metadata": {},
   "source": [
    "Operations involving two or more Series objects are naturally aligned with common elements of their index arrays. In the following example, the two Series objects `ser1` and `ser6` share the indices `a`, `c`, `d` but not `b` and `e`. The object `ser7`, defined through an operation involving both `ser1` and `ser6`, contains all index elements from both Series objects but the associated values are defined only for those indices that are shared."
   ]
  },
  {
   "cell_type": "code",
   "execution_count": null,
   "metadata": {},
   "outputs": [],
   "source": [
    "ser1 = pd.Series( { 'a':10, 'b':20 , 'c':30, 'd':40} )\n",
    "ser6 = pd.Series( { 'a':1, 'c':3 , 'd':4, 'e':5 } )\n",
    "ser7 = ser1-ser6\n",
    "print(ser7)"
   ]
  },
  {
   "cell_type": "markdown",
   "metadata": {},
   "source": [
    "Undefined values (`ǸaN`, not-a-number) can be eliminated from a Series by means of the `dropna()` method, with the keyword `inplace` controlling if the Series itself is altered, or a copy is produced (default behavior)."
   ]
  },
  {
   "cell_type": "code",
   "execution_count": null,
   "metadata": {},
   "outputs": [],
   "source": [
    "ser7.dropna(inplace=True)\n",
    "print(ser7)"
   ]
  },
  {
   "cell_type": "markdown",
   "metadata": {},
   "source": [
    "### Exercise: Pandas Series"
   ]
  },
  {
   "cell_type": "markdown",
   "metadata": {},
   "source": [
    "According to [Wikipedia (accessed on 2022-07-26)](https://de.wikipedia.org/wiki/Liste_der_Gro%C3%9F-_und_Mittelst%C3%A4dte_in_Deutschland), the resident numbers of Bremen, Dresden, Essen, Stuttgart in the years 1970, 1990, 2010 were as follows.\n",
    "\n",
    " City      | 1970   | 1990   | 2010   | \n",
    ":----------|:------:|:------:|:------:|\n",
    " Bremen    | 592533 | 551219 | 547340 |\n",
    " Dresden   | 502432 | 490571 | 523058 |\n",
    " Essen     | 696419 | 626973 | 574635 |\n",
    " Stuttgart | 634202 | 579988 | 606588 |\n",
    "\n",
    "In the cell below, store the three sets of resident numbers for the years 1970, 1990, 2010 in Pandas Series `ser1970`, `ser1990`, `ser2010`, respectively, and complete the code according to the instructions given as comments."
   ]
  },
  {
   "cell_type": "code",
   "execution_count": null,
   "metadata": {},
   "outputs": [],
   "source": [
    "### Construct ser1970 from a dictionary.\n",
    "ser1970 = pd.Series({'Bremen':592533,'Dresden':502432,'Essen':696419,'Stuttgart':634202})\n",
    "print('Residents in the year 1970:')\n",
    "print(ser1970)\n",
    "### Construct ser1990 using a list of resident numbers and a separate index array.\n",
    "ser1990 = pd.Series([551219,490571,626973,579988],\n",
    "                    index=['Bremen','Dresden','Essen','Stuttgart'])\n",
    "print('\\nResidents in the year 1990:')\n",
    "print(ser1990)\n",
    "### Copy ser1990 to initialize ser2010, and then re-assign the four values.\n",
    "ser2010 = ser1990.copy()\n",
    "ser2010['Bremen'] = 547340\n",
    "ser2010['Dresden'] = 523058\n",
    "ser2010['Essen'] = 574635\n",
    "ser2010['Stuttgart'] = 606588\n",
    "print('\\nResidents in the year 2010:')\n",
    "print(ser2010)\n",
    "### Compute the change from 1970 to 1990 and store in serdiff1\n",
    "serdiff1 = 100*(ser1990-ser1970)/ser1970\n",
    "print('\\nPercentage change in resident number from 1970 to 1990:')\n",
    "print(serdiff1)\n",
    "### Compute the percentage change from 1990 to 2010 and store in serdiff2\n",
    "serdiff2 = 100*(ser2010-ser1990)/ser1990\n",
    "print('\\nPercentage change in resident number from 1990 to 2010:')\n",
    "print(serdiff2)"
   ]
  },
  {
   "cell_type": "markdown",
   "metadata": {},
   "source": [
    "## Pandas DataFrame"
   ]
  },
  {
   "cell_type": "markdown",
   "metadata": {},
   "source": [
    "A Pandas DataFrame object stores a two-dimensional labeled array, producing a spreadsheet-like representation of the data."
   ]
  },
  {
   "cell_type": "markdown",
   "metadata": {},
   "source": [
    "### Construction of Pandas DataFrame objects"
   ]
  },
  {
   "cell_type": "markdown",
   "metadata": {},
   "source": [
    "Pandas DataFrame objects can be constructed in many different ways, e.g., from a dictionary of lists or NumPy arrays having the same length. Column titles are automatically generated from the keys of the dictionary."
   ]
  },
  {
   "cell_type": "code",
   "execution_count": null,
   "metadata": {},
   "outputs": [],
   "source": [
    "df1 = pd.DataFrame( {'City':['Bremen','Dresden','Essen','Stuttgart'],\n",
    "                     'Residents in 1970':[592533,502432,696419,634202],\n",
    "                     'Residents in 1990':[551219,490571,626973,579988],\n",
    "                     'Residents in 2010':[547340,523058,574635,606588]} )\n",
    "display(df1)\n",
    "print('Index : ',df1.index)"
   ]
  },
  {
   "cell_type": "markdown",
   "metadata": {},
   "source": [
    "Since an index is not explicitly specified, the integer positions of the list or array elements are used. As for Pandas Series, this default behavior can be changed by means of the keyword `index`."
   ]
  },
  {
   "cell_type": "code",
   "execution_count": null,
   "metadata": {},
   "outputs": [],
   "source": [
    "df2 = pd.DataFrame( {'Residents in 1970':[592533,502432,696419,634202],\n",
    "                     'Residents in 1990':[551219,490571,626973,579988],\n",
    "                     'Residents in 2010':[547340,523058,574635,606588]},\n",
    "                   index=['Bremen','Dresden','Essen','Stuttgart'])\n",
    "display(df2)\n",
    "print('Index : ',df2.index)"
   ]
  },
  {
   "cell_type": "markdown",
   "metadata": {},
   "source": [
    "The (named) columns of a DataFrame can be understood as individual Pandas Series with shared index arrays."
   ]
  },
  {
   "cell_type": "code",
   "execution_count": null,
   "metadata": {},
   "outputs": [],
   "source": [
    "cities = ['Bremen','Dresden','Essen','Stuttgart']\n",
    "ser1970 = pd.Series([592533,502432,696419,634202],index=cities)\n",
    "ser1990 = pd.Series([551219,490571,626973,579988],index=cities)\n",
    "ser2010 = pd.Series([547340,523058,574635,606588],index=cities)\n",
    "df3 = pd.DataFrame({'Residents in 1970':ser1970,\n",
    "                    'Residents in 1990':ser1990,\n",
    "                    'Residents in 2010':ser2010})\n",
    "display(df3)\n",
    "print('Index : ',df3.index)"
   ]
  },
  {
   "cell_type": "markdown",
   "metadata": {},
   "source": [
    "If the data are available as a two-dimensional array, a DataFrame object can be constructed by specifying the titles of both the rows (keyword `index`) and the columns (keyword `columns`).  "
   ]
  },
  {
   "cell_type": "code",
   "execution_count": null,
   "metadata": {},
   "outputs": [],
   "source": [
    "res2d = np.array([[592533,551219,547340],\n",
    "                  [502432,490571,523058],\n",
    "                  [696419,626973,574635],\n",
    "                  [634202,579988,606588]])\n",
    "df4 = pd.DataFrame(res2d,index=['Bremen','Dresden','Essen','Stuttgart'],\n",
    "                   columns=['Residents in 1970','Residents in 1990','Residents in 2010'])\n",
    "display(df4)"
   ]
  },
  {
   "cell_type": "markdown",
   "metadata": {},
   "source": [
    "Results of operations on columns can be easily included in the DataFrame. In the following example, the percentage changes 1970-1990 and 1990-2010 are computed and included in the DataFrame as two additional columns."
   ]
  },
  {
   "cell_type": "code",
   "execution_count": null,
   "metadata": {},
   "outputs": [],
   "source": [
    "df5 = pd.DataFrame(res2d,index=['Bremen','Dresden','Essen','Stuttgart'],\n",
    "                   columns=['Residents in 1970','Residents in 1990','Residents in 2010'])\n",
    "df5['Change 1970-1990 [%]'] = 100*(df5['Residents in 1990']-df5['Residents in 1970'])/df5['Residents in 1970']\n",
    "df5['Change 1990-2010 [%]'] = 100*(df5['Residents in 2010']-df5['Residents in 1990'])/df5['Residents in 1990']\n",
    "display(df5)"
   ]
  },
  {
   "cell_type": "markdown",
   "metadata": {},
   "source": [
    "Pandas DataFrame objects can be constructed directly from data files in a variety of formats. See, e.g., the documentation of the Pandas functions `read_csv()`, `read_excel()`, `read_sql()`. "
   ]
  },
  {
   "cell_type": "markdown",
   "metadata": {},
   "source": [
    "### Selection of elements in a Pandas DataFrame"
   ]
  },
  {
   "cell_type": "markdown",
   "metadata": {},
   "source": [
    "Element selection in Pandas DataFrame objects is demonstrated using the following example."
   ]
  },
  {
   "cell_type": "code",
   "execution_count": null,
   "metadata": {},
   "outputs": [],
   "source": [
    "arr2d = np.arange(15).reshape(3,5)\n",
    "df6 = pd.DataFrame(arr2d,index=['one','two','three'],columns=['A','B','C','D','E'])\n",
    "display(df6)"
   ]
  },
  {
   "cell_type": "markdown",
   "metadata": {},
   "source": [
    "To select a *single column* from a Pandas DataFrame, it suffices to index it with the corresponding label, i.e., to enter the label in square brackets. The result is returned as a Pandas Series."
   ]
  },
  {
   "cell_type": "code",
   "execution_count": null,
   "metadata": {},
   "outputs": [],
   "source": [
    "display(df6['B'])"
   ]
  },
  {
   "cell_type": "markdown",
   "metadata": {},
   "source": [
    "While entering a single label in square brackets (*indexing*) selects a column, a range of labels (*slicing*) affects the rows."
   ]
  },
  {
   "cell_type": "code",
   "execution_count": null,
   "metadata": {},
   "outputs": [],
   "source": [
    "display(df6['one':'two'])"
   ]
  },
  {
   "cell_type": "markdown",
   "metadata": {},
   "source": [
    "For more general selections based on labels (for both rows and columns), apply the `.loc` method, accepting row (index) and column specifications separated by a comma in a variety of formats. One may also specify lists of column or rows, or boolean masks. In the following code cell, uncomment individual lines to see the effects of the selection."
   ]
  },
  {
   "cell_type": "code",
   "execution_count": null,
   "metadata": {},
   "outputs": [],
   "source": [
    "display(df6.loc[:,'B'])                 #.. Single column returned as a Series.\n",
    "#display(df6.loc[:,'B':'D'])             #.. Range of columns returned as a DataFrame.\n",
    "#display(df6.loc['one',:])               #.. Single row returned as a Series.\n",
    "#display(df6.loc['one':'two',:])         #.. Range of rows returned as a DataFrame.\n",
    "#display(df6.loc['one':'two','B':'D'])   #.. Sub-array returned as a DataFrame.\n",
    "#display(df6.loc['one':'two',['B','D']]) #.. Sub-array returned as a DataFrame.\n",
    "#display(df6.loc[df6['B']>3,:])          #.. Select rows where df['B']>3."
   ]
  },
  {
   "cell_type": "markdown",
   "metadata": {},
   "source": [
    "Selections based on the integer positions within a Pandas DataFrame are accomplished by the `.iloc` method.  In the following code cell, uncomment individual lines and observe the results."
   ]
  },
  {
   "cell_type": "code",
   "execution_count": null,
   "metadata": {},
   "outputs": [],
   "source": [
    "#display(df6.iloc[:,1])     #.. Single column returned as a Series.\n",
    "#display(df6.iloc[:,1:4])   #.. Range of columns returned as a DataFrame.\n",
    "#display(df6.iloc[0,:])     #.. Single row returned as a Series.\n",
    "#display(df6.iloc[:-1,:])   #.. Range of rows returned as a DataFrame.\n",
    "#display(df6.iloc[:-1,1:4]) #.. Sub-array returned as a DataFrame."
   ]
  },
  {
   "cell_type": "markdown",
   "metadata": {},
   "source": [
    "Further options for selecting elements of a DataFrame are the `.at`, `.iat`, `.ix` methods, see the Pandas documentation."
   ]
  },
  {
   "cell_type": "markdown",
   "metadata": {},
   "source": [
    "### Operations on DataFrame objects"
   ]
  },
  {
   "cell_type": "markdown",
   "metadata": {},
   "source": [
    "The Pandas package builds on the NumPy module with its efficient array handling and numerical operations. NumPy universal functions can be applied to Pandas objects in accordance with requirements regarding their indices (index preservation and alignment)."
   ]
  },
  {
   "cell_type": "code",
   "execution_count": null,
   "metadata": {},
   "outputs": [],
   "source": [
    "arr1d = np.arange(8).reshape(4,2)\n",
    "df7 = pd.DataFrame(arr1d,index=['a','b','c','d'],columns=['x','y'])\n",
    "df7['sqrt(x)'] = np.sqrt(df7['x'])\n",
    "df7['sin(pi*x/4)'] = np.sin(np.pi*df7['x']/4)\n",
    "df7['exp(-y)'] = np.exp(-df7['y'])\n",
    "df7['y^2-x^2'] = df7['y']**2 - df7['x']**2\n",
    "display(df7)"
   ]
  },
  {
   "cell_type": "markdown",
   "metadata": {},
   "source": [
    "The concepts of index preservation and alignment are demonstrated also in the following example where two Pandas Series with non-identical index arrays are combined into a DataFrame. Missing values (`NaN`) are naturally propagated in the operations. "
   ]
  },
  {
   "cell_type": "code",
   "execution_count": null,
   "metadata": {},
   "outputs": [],
   "source": [
    "xs = pd.Series([0,2,4,6],index=['a','b','c','d'])\n",
    "ys = pd.Series([1,3,5,7],index=['a','b','c','e'])\n",
    "df8 = pd.DataFrame({'x':xs,'y':ys})\n",
    "df8['sqrt(x)'] = np.sqrt(df8['x'])\n",
    "df8['sin(pi*x/4)'] = np.sin(np.pi*df8['x']/4)\n",
    "df8['exp(-y)'] = np.exp(-df8['y'])\n",
    "df8['y^2-x^2'] = df8['y']**2 - df8['x']**2\n",
    "display(df8)"
   ]
  },
  {
   "cell_type": "markdown",
   "metadata": {},
   "source": [
    "In the same way as for Pandas Series, rows with undefined data can be removed from a DataFrame through `.dropna()`, and an arbitrary row by `.drop()`."
   ]
  },
  {
   "cell_type": "code",
   "execution_count": null,
   "metadata": {},
   "outputs": [],
   "source": [
    "df8.dropna(inplace=True)\n",
    "display(df8)\n",
    "df8.drop('b',inplace=True)\n",
    "display(df8)"
   ]
  },
  {
   "cell_type": "markdown",
   "metadata": {},
   "source": [
    "In the example above, the two Series `x` and `y` are combined based on the union of their indices. Such an operation is called joining or merging. In the cell below, the logic is implemented using DataFrame objects instead of Series."
   ]
  },
  {
   "cell_type": "code",
   "execution_count": null,
   "metadata": {},
   "outputs": [],
   "source": [
    "xdf = pd.DataFrame([0,2,4,6],index=['a','b','c','d'],columns=['x'])\n",
    "ydf = pd.DataFrame([1,3,5,7],index=['a','b','c','e'],columns=['y'])\n",
    "df9 = xdf.join(ydf,how='outer')\n",
    "df9['sqrt(x)'] = np.sqrt(df9['x'])\n",
    "df9['sin(pi*x/4)'] = np.sin(np.pi*df9['x']/4)\n",
    "df9['exp(-y)'] = np.exp(-df9['y'])\n",
    "df9['y^2-x^2'] = df9['y']**2 - df9['x']**2\n",
    "display(df9)"
   ]
  },
  {
   "cell_type": "markdown",
   "metadata": {},
   "source": [
    "### Exercise: Pandas DataFrame"
   ]
  },
  {
   "cell_type": "markdown",
   "metadata": {},
   "source": [
    "Complete the code cell below according to the instructions included as comments."
   ]
  },
  {
   "cell_type": "code",
   "execution_count": null,
   "metadata": {},
   "outputs": [],
   "source": [
    "### Define a Pandas DataFrame with columns 'x' and 'y'.\n",
    "dfxy = pd.DataFrame({'x':np.arange(5,9),'y':np.arange(1,5)},index=list('abcd'))\n",
    "### Add a new column 'x+y' with the sum of the columns 'x' and 'y'.\n",
    "dfxy['x+y'] = dfxy['x']+dfxy['y']\n",
    "### Add a new column 'x-y' with the difference of first two columns 'x' and 'y'.\n",
    "dfxy['x-y'] = dfxy['x']-dfxy['y']\n",
    "### Add a new column 'x*y' with the product of first two columns 'x' and 'y'.\n",
    "dfxy['x*y'] = dfxy['x']*dfxy['y']\n",
    "### Add a new column 'x/y' with the quotient of first two columns 'x' and 'y'.\n",
    "dfxy['x/y'] = dfxy['x']/dfxy['y']\n",
    "### Display the resulting DataFrame.\n",
    "display(dfxy)\n",
    "### Using .loc, extract (and display) the column labeled 'x+y'.\n",
    "display(dfxy.loc[:,'x+y'])\n",
    "### Using .iloc, extract  (and display) the row labeled 'c'.\n",
    "display(dfxy.iloc[2,:])\n",
    "### Using .loc, extract the sub-array with columns 'x-y','x/y' and rows 'b','c'.\n",
    "display(dfxy.loc['b':'c',['x-y','x/y']])\n",
    "### Using .iloc, extract the sub-array with columns 'x+y','x-y','x*y' and rows 'a','c'.\n",
    "display(dfxy.iloc[[0,2],2:5])\n",
    "### Using .drop(), remove the row 'c' and re-display the DataFrame.\n",
    "dfxy.drop('c',axis=0,inplace=True)\n",
    "display(dfxy)"
   ]
  },
  {
   "cell_type": "markdown",
   "metadata": {},
   "source": [
    "## Life expectancy at birth 1960-2019"
   ]
  },
  {
   "cell_type": "markdown",
   "metadata": {},
   "source": [
    "The file `life-expectancy-at-birth-total-years.csv` provides data on the life expectancy at birth in the period 1960-2019 as published by the [World Bank on 2021-07-30](http://data.worldbank.org/data-catalog/world-development-indicators), and made available through [Our World in Data](https://ourworldindata.org/grapher/life-expectancy-at-birth-total-years). In the working directory listing, the content of this text file is displayed after clicking on the file name. Data columns are separated by commas. The first line names the variables that are listed. Single countries come with a three-letter abbreviation (`Code`) which is not provided for groups of countries."
   ]
  },
  {
   "cell_type": "markdown",
   "metadata": {},
   "source": [
    "Using the Pandas function `read_csv()`, the data are loaded and stored in a DataFrame."
   ]
  },
  {
   "cell_type": "code",
   "execution_count": null,
   "metadata": {},
   "outputs": [],
   "source": [
    "leb_full = pd.read_csv('life-expectancy-at-birth-total-years.csv')\n",
    "display(leb_full)"
   ]
  },
  {
   "cell_type": "markdown",
   "metadata": {},
   "source": [
    "The data for Australia (Code: AUS) are identified through a boolean array."
   ]
  },
  {
   "cell_type": "code",
   "execution_count": null,
   "metadata": {},
   "outputs": [],
   "source": [
    "ind_aus = leb_full['Code']=='AUS'\n",
    "display(leb_full[ind_aus].head())"
   ]
  },
  {
   "cell_type": "markdown",
   "metadata": {},
   "source": [
    "A new DataFrame with the life expectancy data for Australia is created and displayed."
   ]
  },
  {
   "cell_type": "code",
   "execution_count": null,
   "metadata": {},
   "outputs": [],
   "source": [
    "leb = pd.DataFrame({'Year':leb_full[ind_aus].iloc[:,2].values,\n",
    "                    'Life exp. (AUS)':leb_full[ind_aus].iloc[:,3].values})\n",
    "display(leb.head())"
   ]
  },
  {
   "cell_type": "markdown",
   "metadata": {},
   "source": [
    "The data for Brazil (BRA), China (CHN), France (FRA), Nigeria (NGA), and the United States (USA) are added to the DataFrame using the Pandas function `merge()`, operating on the common `Year` column.\n",
    "\n",
    "*Note on computational efficiency*: This code example is meant to illustrate DataFrame building using the methods introduced in the context of the current tutorial. More efficient Pandas tools exist, e.g., the `groupby()` method."
   ]
  },
  {
   "cell_type": "code",
   "execution_count": null,
   "metadata": {
    "scrolled": false
   },
   "outputs": [],
   "source": [
    "Codes = ['BRA','CHN','FRA','NGA','USA']\n",
    "for code in Codes:\n",
    "    ind = leb_full['Code']==code\n",
    "    leb = leb.merge(pd.DataFrame({'Year':leb_full[ind].iloc[:,2].values,\n",
    "                    'Life exp. ('+code+')':leb_full[ind].iloc[:,3].values}))\n",
    "Codes.insert(0,'AUS')\n",
    "display(leb.head())"
   ]
  },
  {
   "cell_type": "markdown",
   "metadata": {},
   "source": [
    "Plot the life expectancy time series for all selected countries."
   ]
  },
  {
   "cell_type": "code",
   "execution_count": null,
   "metadata": {},
   "outputs": [],
   "source": [
    "for code in Codes:\n",
    "    plt.plot(leb['Year'],leb['Life exp. ('+code+')'],label=code)\n",
    "plt.legend()\n",
    "plt.grid()\n",
    "plt.title('Life expectancy at birth (data from World Bank)')\n",
    "plt.xlabel('Year')\n",
    "plt.ylabel('Total life expectancy [years]')"
   ]
  },
  {
   "cell_type": "markdown",
   "metadata": {},
   "source": [
    "Using the function `pairplot()` from the Seaborn module, univariate and bivariate statistical distributions are visualized in a matrix showing histograms on the main diagonal and scatter plots otherwise."
   ]
  },
  {
   "cell_type": "code",
   "execution_count": null,
   "metadata": {},
   "outputs": [],
   "source": [
    "import seaborn as sns\n",
    "sns.set()\n",
    "sns.pairplot(leb.iloc[:,1:])"
   ]
  },
  {
   "cell_type": "markdown",
   "metadata": {},
   "source": [
    "The function `describe()` is called to obtain basic statistics of the numerical data in the DataFrame."
   ]
  },
  {
   "cell_type": "code",
   "execution_count": null,
   "metadata": {},
   "outputs": [],
   "source": [
    "leb.describe()"
   ]
  },
  {
   "cell_type": "markdown",
   "metadata": {},
   "source": [
    "### Exercise: Life expectancy at birth 1960-2019"
   ]
  },
  {
   "cell_type": "markdown",
   "metadata": {},
   "source": [
    "Using the life expectancy data from the file `life-expectancy-at-birth-total-years.csv`, construct a Pandas DataFrame with rows containing time series of data from the single countries, and columns containing the data from single years."
   ]
  },
  {
   "cell_type": "markdown",
   "metadata": {},
   "source": [
    "From the DataFrame `leb_full`, eliminate rows with undefined data using the Pandas function `.dropna()`. Identify the data for the year 1960 through a boolean array `ind_1960`. Construct a new DataFrame `leby` with data from the year 1960, then display the first five rows."
   ]
  },
  {
   "cell_type": "code",
   "execution_count": null,
   "metadata": {},
   "outputs": [],
   "source": []
  },
  {
   "cell_type": "markdown",
   "metadata": {},
   "source": [
    "Successively add new columns of life expectancy data for each year in the range from 1961 to 2019. Display the first five rows final DataFrame.\n",
    "\n",
    "*Note on computational efficiency*: This exercise is meant to illustrate DataFrame building using the methods introduced in the context of the current tutorial. More efficient Pandas tools exist, e.g., the `groupby()` method."
   ]
  },
  {
   "cell_type": "code",
   "execution_count": null,
   "metadata": {},
   "outputs": [],
   "source": []
  },
  {
   "cell_type": "markdown",
   "metadata": {},
   "source": [
    "Call the function `describe()` to obtain a DataFrame `leby_stat` with basic statistics of the yearly distributions."
   ]
  },
  {
   "cell_type": "code",
   "execution_count": null,
   "metadata": {},
   "outputs": [],
   "source": []
  },
  {
   "cell_type": "markdown",
   "metadata": {},
   "source": [
    "Plot time series of the yearly means, minima, quartiles, and maxima. "
   ]
  },
  {
   "cell_type": "code",
   "execution_count": null,
   "metadata": {},
   "outputs": [],
   "source": []
  },
  {
   "cell_type": "markdown",
   "metadata": {},
   "source": [
    "---\n",
    "---"
   ]
  },
  {
   "cell_type": "markdown",
   "metadata": {},
   "source": [
    "## Solutions"
   ]
  },
  {
   "cell_type": "markdown",
   "metadata": {},
   "source": [
    "### Solution: Pandas Series"
   ]
  },
  {
   "cell_type": "code",
   "execution_count": null,
   "metadata": {},
   "outputs": [],
   "source": [
    "### Construct ser1970 from a dictionary.\n",
    "ser1970 = pd.Series({'Bremen':592533,'Dresden':502432,'Essen':696419,'Stuttgart':634202})\n",
    "print('Residents in the year 1970:')\n",
    "print(ser1970)\n",
    "### Construct ser1990 using a list of resident numbers and a separate index array.\n",
    "ser1990 = pd.Series([551219,490571,626973,579988],\n",
    "                    index=['Bremen','Dresden','Essen','Stuttgart'])\n",
    "print('\\nResidents in the year 1990:')\n",
    "print(ser1990)\n",
    "### Copy ser1990 to initialize ser2010, and then re-assign the four values.\n",
    "ser2010 = ser1990.copy()\n",
    "ser2010['Bremen'] = 547340\n",
    "ser2010['Dresden'] = 523058\n",
    "ser2010['Essen'] = 574635\n",
    "ser2010['Stuttgart'] = 606588\n",
    "print('\\nResidents in the year 2010:')\n",
    "print(ser2010)\n",
    "### Compute the change from 1970 to 1990 and store in serdiff1\n",
    "serdiff1 = 100*(ser1990-ser1970)/ser1970\n",
    "print('\\nPercentage change in resident number from 1970 to 1990:')\n",
    "print(serdiff1)\n",
    "### Compute the percentage change from 1990 to 2010 and store in serdiff2\n",
    "serdiff2 = 100*(ser2010-ser1990)/ser1990\n",
    "print('\\nChange in resident number from 1990 to 2010:')\n",
    "print(serdiff2)"
   ]
  },
  {
   "cell_type": "markdown",
   "metadata": {},
   "source": [
    "### Solution: Pandas DataFrame"
   ]
  },
  {
   "cell_type": "code",
   "execution_count": null,
   "metadata": {},
   "outputs": [],
   "source": [
    "### Define a Pandas DataFrame with columns 'x' and 'y'.\n",
    "dfxy = pd.DataFrame({'x':np.arange(5,9),'y':np.arange(1,5)},index=list('abcd'))\n",
    "### Add a new column 'x+y' with the sum of the columns 'x' and 'y'.\n",
    "dfxy['x+y'] = dfxy['x']+dfxy['y']\n",
    "### Add a new column 'x-y' with the difference of first two columns 'x' and 'y'.\n",
    "dfxy['x-y'] = dfxy['x']-dfxy['y']\n",
    "### Add a new column 'x*y' with the product of first two columns 'x' and 'y'.\n",
    "dfxy['x*y'] = dfxy['x']*dfxy['y']\n",
    "### Add a new column 'x/y' with the quotient of first two columns 'x' and 'y'.\n",
    "dfxy['x/y'] = dfxy['x']/dfxy['y']\n",
    "### Display the resulting DataFrame.\n",
    "display(dfxy)\n",
    "### Using .loc, extract (and display) the column labeled 'x+y'.\n",
    "display(dfxy.loc[:,'x+y'])\n",
    "### Using .iloc, extract  (and display) the row labeled 'c'.\n",
    "display(dfxy.iloc[2,:])\n",
    "### Using .loc, extract the sub-array with columns 'x-y','x/y' and rows 'b','c'.\n",
    "display(dfxy.loc['b':'c',['x-y','x/y']])\n",
    "### Using .iloc, extract the sub-array with columns 'x+y','x-y','x*y' and rows 'a','c'.\n",
    "display(dfxy.iloc[[0,2],2:5])\n",
    "### Using .drop(), remove the row 'c' and re-display the DataFrame.\n",
    "dfxy.drop('c',axis=0,inplace=True)\n",
    "display(dfxy)"
   ]
  },
  {
   "cell_type": "markdown",
   "metadata": {},
   "source": [
    "### Solution: Life expectancy at birth 1960-2019"
   ]
  },
  {
   "cell_type": "code",
   "execution_count": null,
   "metadata": {},
   "outputs": [],
   "source": [
    "### From leb_full eliminate rows with undefined data using .dropna(). \n",
    "leb_full.dropna(inplace=True)\n",
    "### Identify the data for the year 1960 through a boolean array ind_1960. \n",
    "ind_1960 = leb_full['Year']==1960\n",
    "### Construct a new DataFrame `leby` with data from the year 1960.\n",
    "leby = pd.DataFrame({'Code':leb_full[ind_1960].iloc[:,1].values,\n",
    "                    1960:leb_full[ind_1960].iloc[:,3].values})\n",
    "### Display the first five rows of leby.\n",
    "display(leby.head())"
   ]
  },
  {
   "cell_type": "code",
   "execution_count": null,
   "metadata": {},
   "outputs": [],
   "source": [
    "### Successively add new columns of data for each year from 1961 to 2019.\n",
    "for year in range(1961,2020):\n",
    "    ind = leb_full['Year']==year\n",
    "    leby = leby.merge(pd.DataFrame({'Code':leb_full[ind].iloc[:,1].values,\n",
    "                                    year:leb_full[ind].iloc[:,3].values}))\n",
    "### Display the first five rows final DataFrame.\n",
    "display(leby.head())"
   ]
  },
  {
   "cell_type": "code",
   "execution_count": null,
   "metadata": {},
   "outputs": [],
   "source": [
    "### Call describe() to obtain a DataFrame leby_stat with basic statistics.\n",
    "leby_stat = leby.describe()\n",
    "### Display the DataFrame.\n",
    "display(leby_stat)"
   ]
  },
  {
   "cell_type": "code",
   "execution_count": null,
   "metadata": {},
   "outputs": [],
   "source": [
    "### Plot time series of the yearly means, minima, quartiles, and maxima. \n",
    "for k in [1,3,4,5,6,7]:\n",
    "    plt.plot(leby_stat.columns,leby_stat.iloc[k,:],label=leby_stat.index[k])\n",
    "plt.legend()\n",
    "plt.title('Life expectancy statistics (data from World Bank)')\n",
    "plt.xlabel('Year')\n",
    "plt.ylabel('Total life expectancy [years]')"
   ]
  },
  {
   "cell_type": "markdown",
   "metadata": {},
   "source": [
    "---\n",
    "---"
   ]
  }
 ],
 "metadata": {
  "anaconda-cloud": {},
  "kernelspec": {
   "display_name": "Python 3 (ipykernel)",
   "language": "python",
   "name": "python3"
  },
  "language_info": {
   "codemirror_mode": {
    "name": "ipython",
    "version": 3
   },
   "file_extension": ".py",
   "mimetype": "text/x-python",
   "name": "python",
   "nbconvert_exporter": "python",
   "pygments_lexer": "ipython3",
   "version": "3.10.9"
  }
 },
 "nbformat": 4,
 "nbformat_minor": 1
}
