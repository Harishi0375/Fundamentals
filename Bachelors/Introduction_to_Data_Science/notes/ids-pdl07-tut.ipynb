{
 "cells": [
  {
   "cell_type": "markdown",
   "metadata": {},
   "source": [
    "**ids-pdl07-tut.ipynb**: This Jupyter notebook is provided by Joachim Vogt for the *Python Data Lab* of the module *CH-700 Introduction to Data Science* offered in Fall 2023 at Constructor University. Jupyter notebooks and other learning resources are available from a dedicated *module platform*."
   ]
  },
  {
   "cell_type": "markdown",
   "metadata": {},
   "source": [
    "# Python scripts and functions"
   ]
  },
  {
   "cell_type": "markdown",
   "metadata": {},
   "source": [
    "This tutorial is concerned with Python scripts and functions. The underlying concepts are demonstrated by means of a basic operation in signal processing, namely, finite differencing applied to discrete variables. Follow the instructions below to learn to\n",
    "\n",
    "- [ ] apply the finite differencing operation to NumPy arrays,\n",
    "- [ ] compute numerical approximations of function derivatives,\n",
    "- [ ] store and run Python script files,\n",
    "- [ ] compose and call Python functions, \n",
    "- [ ] save and import Python functions,\n",
    "- [ ] work with NumPy polynomial objects.\n",
    "\n",
    "If you wish to keep track of your progress, you may edit this markdown cell, check a box in the list above after having worked through the respective part of this notebook, and save the file.\n",
    "\n",
    "*Short exercises* are embedded in this notebook. *Sample solutions* can be found at the end of the document."
   ]
  },
  {
   "cell_type": "markdown",
   "metadata": {},
   "source": [
    "## Preparation"
   ]
  },
  {
   "cell_type": "markdown",
   "metadata": {},
   "source": [
    "The following Python script and module files are expected to reside in the working directory. Identify the files on the module platform and upload them to the same folder as this Jupyter notebook.\n",
    "\n",
    "- `print_dfodx.py`: sample script file provided for the section *Python scripts*.\n",
    "- `eqdist.py`: sample module file provided for the section *Function imports*."
   ]
  },
  {
   "cell_type": "markdown",
   "metadata": {},
   "source": [
    "Run the following code cell to import standard Python data science libraries. The NumPy module facilitates efficient processing of numerical arrays, and is usually imported as `np`. From the matplotlib library we import the package `pyplot` using the standard abbreviation `plt`. The magic command `%matplotlib inline` (IPython shell) allows for inline display of graphics."
   ]
  },
  {
   "cell_type": "code",
   "execution_count": null,
   "metadata": {},
   "outputs": [],
   "source": [
    "import numpy as np\n",
    "import matplotlib.pyplot as plt\n",
    "%matplotlib inline"
   ]
  },
  {
   "cell_type": "markdown",
   "metadata": {},
   "source": [
    "## Differencing of discrete variables"
   ]
  },
  {
   "cell_type": "markdown",
   "metadata": {},
   "source": [
    "Differencing of discrete variables is a basic operation entering a variety of data analysis and modeling tasks such as approximating rates of change or finding data gaps in time series."
   ]
  },
  {
   "cell_type": "markdown",
   "metadata": {},
   "source": [
    "### Efficient differencing of NumPy arrays"
   ]
  },
  {
   "cell_type": "markdown",
   "metadata": {},
   "source": [
    "Consider a NumPy array `x`. The arrays `x[1:]`  and `x[:-1]` extract sub-arrays with elements `x[1],x[2],...,x[-1]` and `x[0],x[1],x[2],...,x[-2]`, respectively."
   ]
  },
  {
   "cell_type": "code",
   "execution_count": null,
   "metadata": {},
   "outputs": [],
   "source": [
    "x = np.array([1,2,4,6,7,8])\n",
    "print('Array x=x[:] :',x[:])\n",
    "print('Array x[1:]  :',x[1:])\n",
    "print('Array x[:-1] :',x[:-1])"
   ]
  },
  {
   "cell_type": "markdown",
   "metadata": {},
   "source": [
    "The set of differences `x[1]-x[0],x[2]-x[1],x[3]-x[2],...` (i.e., $x_{j+1}-x_j,j=0,1,2,\\ldots$) are thus elements of the array `x[1:]-x[:-1]`."
   ]
  },
  {
   "cell_type": "code",
   "execution_count": null,
   "metadata": {},
   "outputs": [],
   "source": [
    "x = np.array([1,2,4,6,7,8])\n",
    "dx = x[1:] - x[:-1]\n",
    "print('Array x     : ',x)\n",
    "print('Differences : ',dx)"
   ]
  },
  {
   "cell_type": "markdown",
   "metadata": {},
   "source": [
    "The same procedure can be applied to obtain the set of arithmetic means $\\bar{x}_j = \\frac{1}{2}(x_{j+1}+x_j), j=0,1,2,\\ldots$ of successive elements in a numerical array."
   ]
  },
  {
   "cell_type": "code",
   "execution_count": null,
   "metadata": {},
   "outputs": [],
   "source": [
    "x = np.array([1,2,4,6,7,8],dtype=float)\n",
    "xm = 0.5*( x[1:] + x[:-1] )\n",
    "print('Array x          : ',x)\n",
    "print('Arithmetic means : ',xm)"
   ]
  },
  {
   "cell_type": "markdown",
   "metadata": {},
   "source": [
    "### Numerical differentiation"
   ]
  },
  {
   "cell_type": "markdown",
   "metadata": {},
   "source": [
    "Suppose an ordinary function $f = f(x)$ is approximated by discrete values $f_0,f_1,f_2,\\ldots$ on a numerical grid $x_0,x_1,x_2,\\ldots$, then the so-called *centered finite differencing approximation* $f^\\ast_j = f^\\ast (\\bar{x}_j)$ of the derivative $f'(x) = \\frac{\\mathrm{d} f}{\\mathrm{d} x}$ is given by\n",
    "$$\n",
    "f^\\ast_j \\; = \\; \\frac{f_{j+1}-f_j}{x_{j+1}-x_j} ~,~ j=0,1,2,\\ldots\n",
    "$$\n",
    "This approximation is second-order accurate, implying that the derivatives of quadratic polynomials at points $\\bar{x}_j = \\frac{1}{2}(x_{j+1}+x_j), j=0,1,2,\\ldots$ are reproduced exactly."
   ]
  },
  {
   "cell_type": "code",
   "execution_count": null,
   "metadata": {},
   "outputs": [],
   "source": [
    "### Define and display numerical grid x and grid function f.\n",
    "x = np.array([1,2,4,6,7,8],dtype=float)\n",
    "f = x**2 - 5*x - 8\n",
    "print('Grid     x : ',x)\n",
    "print('Function f : ',f)\n",
    "print()\n",
    "\n",
    "### Compute arithmetic means and differences.\n",
    "xm = 0.5*( x[1:] + x[:-1] )\n",
    "dx = x[1:] - x[:-1]\n",
    "df = f[1:] - f[:-1]\n",
    "\n",
    "### Compute approximate and exact derivatives.\n",
    "dfodx_approx = df/dx\n",
    "dfodx_exact  = 2*xm - 5\n",
    "\n",
    "### Print results.\n",
    "print('First derivative of function f')\n",
    "print('* Array of arithmetic means         : ',xm)\n",
    "print('* Finite differencing approximation : ',dfodx_approx)\n",
    "print('* Evaluation of exact derivative    : ',dfodx_exact)"
   ]
  },
  {
   "cell_type": "markdown",
   "metadata": {},
   "source": [
    "### Exercise: Differencing of discrete variables"
   ]
  },
  {
   "cell_type": "markdown",
   "metadata": {},
   "source": [
    "Repeat the previous example using the same numerical grid `x` but evaluating the cubic function $f(x) = x^3 - 9x^2 + 80$. Convince yourself that the centered differencing approximation does not exactly reproduce the values of the first derivative $f'(x) = 3 x^2 - 18x$."
   ]
  },
  {
   "cell_type": "code",
   "execution_count": null,
   "metadata": {},
   "outputs": [],
   "source": [
    "### Define numerical grid x and grid function f.\n",
    "\n",
    "### Compute arithmetic means and differences.\n",
    "\n",
    "### Compute approximate and exact derivatives.\n",
    "\n",
    "### Print results.\n"
   ]
  },
  {
   "cell_type": "markdown",
   "metadata": {},
   "source": [
    "## Python scripts"
   ]
  },
  {
   "cell_type": "markdown",
   "metadata": {},
   "source": [
    "A Python script consists of a series of instructions that are executed as a block. Python scripts are usually stored as separate files with the extension `.py`, and can then be run, e.g., within an IPython shell (or Jupyter notebook code cell) or from the terminal prompt. Suppose the script is named `script.py`, then in a terminal window enter after the prompt:\n",
    "\n",
    "    python script.py\n",
    "\n",
    "In an IPython shell, you may run the script with or without the extension `.py` using the magic command `%run`:\n",
    "\n",
    "    %run script.py\n",
    "    %run script"
   ]
  },
  {
   "cell_type": "markdown",
   "metadata": {},
   "source": [
    "To demonstrate the syntax and the underlying logic, reconsider the example from the previous section. Necessary imports need to be included to make the script self-contained. The instructions are assembled in the following code cell."
   ]
  },
  {
   "cell_type": "code",
   "execution_count": null,
   "metadata": {},
   "outputs": [],
   "source": [
    "### Include necessary imports.\n",
    "import numpy as np\n",
    "\n",
    "### Define and display numerical grid x and grid function f.\n",
    "x = np.array([1,2,4,6,7,8],dtype=float)\n",
    "f = x**2 - 5*x - 8\n",
    "print('Grid     x : ',x)\n",
    "print('Function f : ',f)\n",
    "print()\n",
    "\n",
    "### Compute arithmetic means and differences.\n",
    "xm = 0.5*( x[1:] + x[:-1] )\n",
    "dx = x[1:] - x[:-1]\n",
    "df = f[1:] - f[:-1]\n",
    "\n",
    "### Compute approximate and exact derivatives.\n",
    "dfodx_approx = df/dx\n",
    "dfodx_exact  = 2*xm - 5\n",
    "\n",
    "### Print results.\n",
    "print('First derivative of function f')\n",
    "print('* Array of arithmetic means         : ',xm)\n",
    "print('* Finite differencing approximation : ',dfodx_approx)\n",
    "print('* Evaluation of exact derivative    : ',dfodx_exact)"
   ]
  },
  {
   "cell_type": "markdown",
   "metadata": {},
   "source": [
    "The same series of instructions can be found in the file `print_dfodx.py`. If you are running this Jupyter notebook in the Classic Notebook interface, select the tab showing the working directory and click on the file. In JupyterLab, navigate to the working directory and select the file in the directory/file menu (on the left). In the new tab that opens, the file content is displayed and may be modified. At present we do not change the file but simply run `print_dfodx.py` by executing the following code cell."
   ]
  },
  {
   "cell_type": "code",
   "execution_count": null,
   "metadata": {},
   "outputs": [],
   "source": [
    "%run print_dfodx.py"
   ]
  },
  {
   "cell_type": "markdown",
   "metadata": {},
   "source": [
    "To demonstrate execution in a terminal window using the Classic Notebook interface, go back to the browser tab showing the working directory, click on the `New` button and select `Terminal`. In JupyterLab, a terminal window can be directly opened from the Launcher. After the prompt enter\n",
    "\n",
    "    python print_dfodx.py"
   ]
  },
  {
   "cell_type": "markdown",
   "metadata": {},
   "source": [
    "Execution of the script in a stand-alone IPython shell can also be demonstrated using the open terminal window. After the prompt enter\n",
    "\n",
    "    ipython\n",
    "\n",
    "to open an IPython shell, then enter\n",
    "\n",
    "    %run print_dfodx.py\n",
    "\n",
    "or\n",
    "\n",
    "    %run print_dfodx"
   ]
  },
  {
   "cell_type": "markdown",
   "metadata": {},
   "source": [
    "Now return to the tab showing the content of the file `print_dfodx.py`. In the definition of the function `f`, change the constant coefficient from `-8` to `-4` so that the function definition reads `f = x**2 - 5*x - 4` (this should affect the function values but not the derivatives). Save the modified file, then run the script again. If you want to distinguish the two versions, you may store the new file under another name such as `print_dfodx_modified.py` before running the script."
   ]
  },
  {
   "cell_type": "code",
   "execution_count": null,
   "metadata": {},
   "outputs": [],
   "source": [
    "#%run print_dfodx\n",
    "%run print_dfodx_modified"
   ]
  },
  {
   "cell_type": "markdown",
   "metadata": {},
   "source": [
    "### Exercise: Python scripts"
   ]
  },
  {
   "cell_type": "markdown",
   "metadata": {},
   "source": [
    "In the following cell, a numerical grid and a grid function are defined, exact and approximate derivatives are computed, and the results are graphically displayed. Familiarize with the code and run the cell."
   ]
  },
  {
   "cell_type": "code",
   "execution_count": null,
   "metadata": {
    "scrolled": false
   },
   "outputs": [],
   "source": [
    "### Define and display numerical grid x and grid function f.\n",
    "x = np.array([-5,-4,-3,0,1,4,5],dtype=float)\n",
    "f = x**3 - 20*x + 25\n",
    "\n",
    "### Compute arithmetic means and differences.\n",
    "xm = 0.5*( x[1:] + x[:-1] )\n",
    "dx = x[1:] - x[:-1]\n",
    "df = f[1:] - f[:-1]\n",
    "\n",
    "### Compute approximate and exact derivatives.\n",
    "dfodx_approx = df/dx\n",
    "dfodx_exact  = 3*xm**2 - 20\n",
    "\n",
    "### Plot results.\n",
    "fig,axs = plt.subplots(1,2,figsize=(10,4))\n",
    "axs[0].plot(x,f,'b--')\n",
    "axs[0].set_title('Grid function')\n",
    "axs[0].set_xlabel('Numerical grid coordinate')\n",
    "axs[1].plot(xm,dfodx_exact,'g--',label='Exact derivative')\n",
    "axs[1].plot(xm,dfodx_approx,'rx',label='Approximate derivative')\n",
    "axs[1].set_title('First derivative')\n",
    "axs[1].set_xlabel('Numerical grid coordinate')\n",
    "axs[1].legend()"
   ]
  },
  {
   "cell_type": "markdown",
   "metadata": {},
   "source": [
    "If you are running this Jupyter notebook in the Classic Notebook interface, click on `New` and select `Text File`. A new tab opens for storing a file. In JupyterLab, a `Text File` option can be accessed directly from the Launcher. Rename the file to `plot_dfodx.py`. Copy the content of the cell above (e.g., using your mouse) and paste it into the interface offered under the new tab. Add the necessary imports to make your script self-contained. Change the linestyle from dashed (`--`) to dotted (`:`), and the red crosses (`rx`) to black diamonds. Save the file and run the script to create the graphics. Here, `plt.show()` needs to be added for inline display. "
   ]
  },
  {
   "cell_type": "code",
   "execution_count": null,
   "metadata": {},
   "outputs": [],
   "source": [
    "%run plot_dfodx\n",
    "plt.show()"
   ]
  },
  {
   "cell_type": "markdown",
   "metadata": {},
   "source": [
    "## Python functions"
   ]
  },
  {
   "cell_type": "markdown",
   "metadata": {},
   "source": [
    "Compared to scripts, Python functions are characterized by a well-defined interface for exchanging information. Variables are accepted on input, and returned on output. Unless explicitly enforced, instructions and variable assignments are not visible to the calling instance (e.g., IPython shell, script, function). The basic syntax of Python functions is as follows.\n",
    "\n",
    "    def funct(arg1,arg2,...,kwarg1=def1,kwarg2=def2,...):\n",
    "        ''' docstring: brief description of the function '''\n",
    "        <statement>\n",
    "        <statement>\n",
    "        ...\n",
    "        return var1,var2,...\n",
    "        \n",
    "Here `funct` is the name of the function, `arg1,arg2,...` are mandatory input variables (arguments), `kwarg1,kwarg2,...` are optional input variables (keyword arguments) with corresponding default values `def1,def2,...`, and `var1,var2,...` are the output variables. The so-called `docstring` gives a brief characterization of the function that is displayed when `help(funct)` is entered."
   ]
  },
  {
   "cell_type": "markdown",
   "metadata": {},
   "source": [
    "### Arguments and return variables"
   ]
  },
  {
   "cell_type": "markdown",
   "metadata": {},
   "source": [
    "To demonstrate the syntax and the underlying logic in the cell below, the centered differencing approximation of the first derivative is provided through the function `numdif()`."
   ]
  },
  {
   "cell_type": "code",
   "execution_count": null,
   "metadata": {},
   "outputs": [],
   "source": [
    "def numdif(x,f):\n",
    "    '''\n",
    "    Centered differencing approximation of the first derivative.\n",
    "    Arguments\n",
    "    * x     : numerical grid.\n",
    "    * f     : grid function.\n",
    "    On return\n",
    "    * dfodx : approximation of the first derivative.\n",
    "    * xm    : arithmetic means of consecutive numerical grid points.\n",
    "    '''\n",
    "    dx = x[1:] - x[:-1]\n",
    "    df = f[1:] - f[:-1]\n",
    "    dfodx = df/dx\n",
    "    xm = 0.5*( x[1:] + x[:-1] )\n",
    "    return dfodx,xm"
   ]
  },
  {
   "cell_type": "markdown",
   "metadata": {},
   "source": [
    "After running the above code cell, the function `numdif()` is available in the current Python/notebook session, as can be checked by displaying the docstring."
   ]
  },
  {
   "cell_type": "code",
   "execution_count": null,
   "metadata": {},
   "outputs": [],
   "source": [
    "help(numdif)"
   ]
  },
  {
   "cell_type": "markdown",
   "metadata": {},
   "source": [
    "Using `numdif()`, the code to compute approximate derivatives assumes a more compact form."
   ]
  },
  {
   "cell_type": "code",
   "execution_count": null,
   "metadata": {},
   "outputs": [],
   "source": [
    "### Define and display numerical grid x and grid function f.\n",
    "x = np.array([1,2,4,6,7,8],dtype=float)\n",
    "f = x**2 - 5*x - 8\n",
    "print('Grid     x : ',x)\n",
    "print('Function f : ',f)\n",
    "print()\n",
    "\n",
    "### Compute approximate derivatives and arithmetic means.\n",
    "dfodx_approx,xm = numdif(x,f)\n",
    "\n",
    "### Compute exact derivatives.\n",
    "dfodx_exact = 2*xm - 5\n",
    "\n",
    "### Print results.\n",
    "print('First derivative of function f')\n",
    "print('* Array of arithmetic means         : ',xm)\n",
    "print('* Finite differencing approximation : ',dfodx_approx)\n",
    "print('* Evaluation of exact derivative    : ',dfodx_exact)"
   ]
  },
  {
   "cell_type": "markdown",
   "metadata": {},
   "source": [
    "### Keyword arguments"
   ]
  },
  {
   "cell_type": "markdown",
   "metadata": {},
   "source": [
    "To illustrate the concept of keyword arguments, consider the task of creating an equidistant numerical grid with a total of `N` points starting at an initial position `xinit`. The grid spacing `deltax` is implemented as a keyword parameter defaulting to unity (`deltax=1`)."
   ]
  },
  {
   "cell_type": "code",
   "execution_count": null,
   "metadata": {},
   "outputs": [],
   "source": [
    "def eqdistgrid(xinit,N,deltax=1):\n",
    "    '''\n",
    "    Create equidistant numerical grid.\n",
    "    Arguments\n",
    "    * xinit  : initial grid coordinate.\n",
    "    * N      : total number of grid points.\n",
    "    Keyword arguments\n",
    "    * deltax : grid spacing.\n",
    "    On return\n",
    "    * grid   : equidistant numerical grid.\n",
    "    '''\n",
    "    grid = np.linspace(xinit,xinit+(N-1)*deltax,N)\n",
    "    return grid"
   ]
  },
  {
   "cell_type": "markdown",
   "metadata": {},
   "source": [
    "After running the code cell above, the function `eqdistgrid()` can be called in any way indicated in the following cell. Study the instructions and anticipate the results. Which statement produces an error message? Uncomment individual lines to check your prediction."
   ]
  },
  {
   "cell_type": "code",
   "execution_count": null,
   "metadata": {},
   "outputs": [],
   "source": [
    "print(eqdistgrid(1,5,deltax=2))\n",
    "#print(eqdistgrid(1,5,2))\n",
    "#print(eqdistgrid(1,5))\n",
    "#print(eqdistgrid(1))"
   ]
  },
  {
   "cell_type": "markdown",
   "metadata": {},
   "source": [
    "In addition to the `def` syntax, Python offers also the so-called `lambda` mechanism for defining functions. The definitions in the two code cells below implement the same function."
   ]
  },
  {
   "cell_type": "code",
   "execution_count": null,
   "metadata": {},
   "outputs": [],
   "source": [
    "def f(x,y,z=0): return x**2-y+z"
   ]
  },
  {
   "cell_type": "code",
   "execution_count": null,
   "metadata": {},
   "outputs": [],
   "source": [
    "f = lambda x,y,z=0: x**2-y+z"
   ]
  },
  {
   "cell_type": "markdown",
   "metadata": {},
   "source": [
    "For further information on the `lambda` mechanism see the Python documentation."
   ]
  },
  {
   "cell_type": "markdown",
   "metadata": {},
   "source": [
    "### Exercise: Python functions"
   ]
  },
  {
   "cell_type": "markdown",
   "metadata": {},
   "source": [
    "This exercise is concerned with a basic time series filtering operation called *boxcar smoothing*. An equidistant time grid is assumed. With an input time series $u_0,u_1,u_2,\\ldots,u_N$ and an assumed half-width $h$ of the boxcar filter, an element $v_k$ of the output series is the average of the input elements within $\\pm h$ around index $k$:\n",
    "$$\n",
    "v_k = \\frac{1}{2h+1} \\sum_{j=-h}^h u_k ~,~ k=h,h+1,\\ldots,N-h-1,N-h ~.\n",
    "$$\n",
    "For simplicity, the elements $v_k$ within half-width $h$ of the left and right boundary ($k=0,1,\\ldots,h-1$ and $k=N-h+1,\\ldots,N-1,N$) are to be set to $u_k$, i.e., the respective elements of the input time series."
   ]
  },
  {
   "cell_type": "markdown",
   "metadata": {},
   "source": [
    "In the code cell below, replace the `pass` statement in the function `boxcar()` with an implementation of the filtering operation. Run the cell to plot the filtered signal together with the input time series."
   ]
  },
  {
   "cell_type": "code",
   "execution_count": null,
   "metadata": {},
   "outputs": [],
   "source": [
    "def boxcar(u,h=1):\n",
    "    '''\n",
    "    Boxcar filtering in the interior of a time series u.\n",
    "    Arguments\n",
    "    * u : input time series.\n",
    "    Keyword arguments\n",
    "    * h : filter half-width.\n",
    "    On return\n",
    "    * v : filtered time series.\n",
    "    '''\n",
    "    v = u.copy()\n",
    "    #.. Implement boxcar filter using a for loop.\n",
    "    for k in range(h,len(u)-h+1):\n",
    "        pass\n",
    "    return v\n",
    "\n",
    "### Define uniform time array.\n",
    "t = np.linspace(0,2,201)\n",
    "\n",
    "### Generate sinusoidal signal contaminated by noise.\n",
    "u = np.sin(2*np.pi*t) + 0.2*np.random.randn(len(t))\n",
    "\n",
    "### Produce the filtered signal.\n",
    "halfwidth = 5\n",
    "v = boxcar(u,h=halfwidth)\n",
    "\n",
    "### Plot input and filtered signal.\n",
    "plt.figure(figsize=(8,4))\n",
    "plt.plot(t,u,label='Input time series')\n",
    "plt.plot(t,v,label='Filtered time series')\n",
    "plt.title('Boxcar filtering exercise (half-width: {})'.format(halfwidth))\n",
    "plt.xlabel('Time [s]')\n",
    "plt.ylabel('Signal [arb. units]')\n",
    "plt.legend()"
   ]
  },
  {
   "cell_type": "markdown",
   "metadata": {},
   "source": [
    "## Function imports"
   ]
  },
  {
   "cell_type": "markdown",
   "metadata": {},
   "source": [
    "Python functions can be stored in modules and then imported. In this section of the notebook, function file handling is explained using numerical differentiation restricted to the case of equidistant numerical grids. The values\n",
    "$$\n",
    "f^\\ast_j \\; = \\; \\frac{f_{j+1}-f_{j-1}}{2 \\Delta x} ~,~ j=1,2,\\ldots\n",
    "$$\n",
    "are second-order approximations of the first derivative $f'(x) = \\frac{\\mathrm{d} f}{\\mathrm{d} x}$ on the interior points of the numerical grid (i.e., the left and right boundary points are excluded)."
   ]
  },
  {
   "cell_type": "markdown",
   "metadata": {},
   "source": [
    "This formula is implemented in the function `eqdistdif1()` as part of the file `eqdist.py`, representing a minimal module (with two functions) available through the `import` mechanism. As before, select the browser tab showing the working directory (in the Classic Notebook interface; in JupyterLab use the directory/file menu on the left) and click on the file `eqdist.py`. Importing the module creates a dedicated namespace."
   ]
  },
  {
   "cell_type": "code",
   "execution_count": null,
   "metadata": {},
   "outputs": [],
   "source": [
    "import eqdist\n",
    "#help(eqdist)"
   ]
  },
  {
   "cell_type": "markdown",
   "metadata": {},
   "source": [
    "The usage of the two functions is demonstrated below."
   ]
  },
  {
   "cell_type": "code",
   "execution_count": null,
   "metadata": {},
   "outputs": [],
   "source": [
    "### Define and display numerical grid x and grid function f.\n",
    "x = eqdist.eqdistgrid(-5,21,deltax=0.5)\n",
    "f = x**3 - 20*x + 25\n",
    "\n",
    "### Compute approximate and exact derivatives.\n",
    "dfodx_approx = eqdist.eqdistdif1(f,deltax=0.5)\n",
    "xint = x[1:-1]\n",
    "dfodx_exact  = 3*xint**2 - 20\n",
    "\n",
    "### Plot results.\n",
    "fig,axs = plt.subplots(1,2,figsize=(10,4))\n",
    "axs[0].plot(x,f,'b--')\n",
    "axs[0].set_title('Grid function')\n",
    "axs[0].set_xlabel('Numerical grid coordinate')\n",
    "axs[1].plot(xint,dfodx_exact,'g--',label='Exact derivative')\n",
    "axs[1].plot(xint,dfodx_approx,'rx',label='Approximate derivative')\n",
    "axs[1].set_title('First derivative')\n",
    "axs[1].set_xlabel('Numerical grid coordinate')\n",
    "axs[1].legend()"
   ]
  },
  {
   "cell_type": "markdown",
   "metadata": {},
   "source": [
    "### Exercise: Function imports"
   ]
  },
  {
   "cell_type": "markdown",
   "metadata": {},
   "source": [
    "Create a module file named `myfilter.py` containing the two functions `eqdistgrid()` and `boxcar()`. Run the following cell to check if the module was correctly saved."
   ]
  },
  {
   "cell_type": "code",
   "execution_count": null,
   "metadata": {},
   "outputs": [],
   "source": [
    "### Import the newly created module myfilter.\n",
    "import myfilter\n",
    "\n",
    "### Generate time array and noisy sinusoidal signal.\n",
    "t = myfilter.eqdistgrid(0,201,deltax=0.01)\n",
    "u = np.sin(2*np.pi*t) + 0.2*np.random.randn(len(t))\n",
    "\n",
    "### Apply boxcar filter to the noisy signal.\n",
    "halfwidth = 5\n",
    "v = myfilter.boxcar(u,h=halfwidth)\n",
    "\n",
    "### Plot noisy input signal and filtered time series.\n",
    "plt.figure(figsize=(8,4))\n",
    "plt.plot(t,u,label='Input time series')\n",
    "plt.plot(t,v,label='Filtered time series')\n",
    "plt.title('Boxcar filtering exercise (half-width: {})'.format(halfwidth))\n",
    "plt.xlabel('Time [s]')\n",
    "plt.ylabel('Signal [arb. units]')\n",
    "plt.legend()"
   ]
  },
  {
   "cell_type": "markdown",
   "metadata": {},
   "source": [
    "## Polynomial objects in NumPy"
   ]
  },
  {
   "cell_type": "markdown",
   "metadata": {},
   "source": [
    "In preparation of the coding practice exercises supplementing this tutorial notebook, NumPy polynomial objects are briefly summarized. A polynomial is defined using its coefficients stored in a list. The example below creates a polynomial object for $p(x) = 1 + 2x + 3x^2$ so that the list of coefficients is `[1,2,3]`."
   ]
  },
  {
   "cell_type": "code",
   "execution_count": null,
   "metadata": {},
   "outputs": [],
   "source": [
    "from numpy.polynomial import Polynomial\n",
    "p = Polynomial([4,3,2,1])\n",
    "print('Polynomial:')\n",
    "display(p)"
   ]
  },
  {
   "cell_type": "markdown",
   "metadata": {},
   "source": [
    "To numerically evaluate the function, polynomial objects accept single values or NumPy arrays."
   ]
  },
  {
   "cell_type": "code",
   "execution_count": null,
   "metadata": {},
   "outputs": [],
   "source": [
    "print('p(1) = ',p(1))\n",
    "x = np.arange(-2,3,dtype=float)\n",
    "print('x    = ',x)\n",
    "print('p(x) = ',p(x))"
   ]
  },
  {
   "cell_type": "markdown",
   "metadata": {},
   "source": [
    "Derivatives of polynomial objects are available through the attribute `deriv`."
   ]
  },
  {
   "cell_type": "code",
   "execution_count": null,
   "metadata": {},
   "outputs": [],
   "source": [
    "print('First derivative:')\n",
    "display(p.deriv())\n",
    "print('Second derivative:')\n",
    "display(p.deriv(m=2))"
   ]
  },
  {
   "cell_type": "markdown",
   "metadata": {},
   "source": [
    "---\n",
    "---"
   ]
  },
  {
   "cell_type": "markdown",
   "metadata": {},
   "source": [
    "## Solutions"
   ]
  },
  {
   "cell_type": "markdown",
   "metadata": {},
   "source": [
    "### Solution: Differencing of NumPy arrays"
   ]
  },
  {
   "cell_type": "code",
   "execution_count": null,
   "metadata": {},
   "outputs": [],
   "source": [
    "### Define numerical grid x and grid function f.\n",
    "x = np.array([1,2,4,6,7,8],dtype=float)\n",
    "f = x**3 - 9*x**2 + 80\n",
    "print('Grid     x : ',x)\n",
    "print('Function f : ',f)\n",
    "print()\n",
    "\n",
    "### Compute arithmetic means and differences.\n",
    "xm = 0.5*( x[1:] + x[:-1] )\n",
    "dx = x[1:] - x[:-1]\n",
    "df = f[1:] - f[:-1]\n",
    "\n",
    "### Compute approximate and exact derivatives.\n",
    "dfodx_approx = df/dx\n",
    "dfodx_exact  = 3*xm**2 - 18*xm\n",
    "\n",
    "### Print results.\n",
    "print('First derivative of function f')\n",
    "print('* Array of arithmetic means         : ',xm)\n",
    "print('* Finite differencing approximation : ',dfodx_approx)\n",
    "print('* Evaluation of exact derivative    : ',dfodx_exact)"
   ]
  },
  {
   "cell_type": "markdown",
   "metadata": {},
   "source": [
    "### Solution: Python scripts"
   ]
  },
  {
   "cell_type": "markdown",
   "metadata": {},
   "source": [
    "See the file `plot_dfodx_solution.py` on the module platform."
   ]
  },
  {
   "cell_type": "markdown",
   "metadata": {},
   "source": [
    "### Solution: Python functions"
   ]
  },
  {
   "cell_type": "code",
   "execution_count": null,
   "metadata": {},
   "outputs": [],
   "source": [
    "def boxcar(u,h=1):\n",
    "    '''\n",
    "    Boxcar filtering in the interior of a time series u.\n",
    "    Arguments\n",
    "    * u : input time series.\n",
    "    Keyword arguments\n",
    "    * h : filter half-width.\n",
    "    On return\n",
    "    * v : filtered time series.\n",
    "    '''\n",
    "    v = u.copy()\n",
    "    #.. Implement boxcar filter using a for loop.\n",
    "    for k in range(h,len(u)-h+1):\n",
    "        v[k] = u[k-h:k+h+1].sum()/(2*h+1)\n",
    "    return v\n",
    "\n",
    "### Define uniform time array.\n",
    "t = np.linspace(0,2,201)\n",
    "\n",
    "### Generate sinusoidal signal contaminated by noise.\n",
    "u = np.sin(2*np.pi*t) + 0.2*np.random.randn(len(t))\n",
    "\n",
    "### Produce the filtered signal.\n",
    "halfwidth = 5\n",
    "v = boxcar(u,h=halfwidth)\n",
    "\n",
    "### Plot input and filtered signal.\n",
    "plt.figure(figsize=(8,4))\n",
    "plt.plot(t,u,label='Input time series')\n",
    "plt.plot(t,v,label='Filtered time series')\n",
    "plt.title('Boxcar filtering exercise (half-width: {})'.format(halfwidth))\n",
    "plt.xlabel('Time [s]')\n",
    "plt.ylabel('Signal [arb. units]')\n",
    "plt.legend()"
   ]
  },
  {
   "cell_type": "markdown",
   "metadata": {},
   "source": [
    "### Solution: Function imports"
   ]
  },
  {
   "cell_type": "markdown",
   "metadata": {},
   "source": [
    "See the file `myfilter_solution.py` on the module platform."
   ]
  },
  {
   "cell_type": "markdown",
   "metadata": {},
   "source": [
    "---\n",
    "---"
   ]
  }
 ],
 "metadata": {
  "anaconda-cloud": {},
  "kernelspec": {
   "display_name": "Python 3 (ipykernel)",
   "language": "python",
   "name": "python3"
  },
  "language_info": {
   "codemirror_mode": {
    "name": "ipython",
    "version": 3
   },
   "file_extension": ".py",
   "mimetype": "text/x-python",
   "name": "python",
   "nbconvert_exporter": "python",
   "pygments_lexer": "ipython3",
   "version": "3.10.9"
  }
 },
 "nbformat": 4,
 "nbformat_minor": 4
}
