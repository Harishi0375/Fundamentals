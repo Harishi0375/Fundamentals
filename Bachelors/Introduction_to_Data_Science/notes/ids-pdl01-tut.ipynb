{
 "cells": [
  {
   "cell_type": "markdown",
   "metadata": {},
   "source": [
    "**ids-pdl01-tut.ipynb**: This Jupyter notebook is provided by Joachim Vogt for the *Python Data Lab* of the module *CH-700 Introduction to Data Science* offered in Fall 2023 at Constructor University. Jupyter notebooks and other learning resources are available from a dedicated *module platform*."
   ]
  },
  {
   "cell_type": "markdown",
   "metadata": {},
   "source": [
    "# Introduction to the Python Data Lab"
   ]
  },
  {
   "cell_type": "markdown",
   "metadata": {},
   "source": [
    "The first session of the *Python Data Lab* introduces the computational setup, tools, and infrastructure used in the module _Introduction to Data Science_. Tutorials and exercises are offered through *Jupyter notebooks* such as this one, integrating text, Python code, and graphics in a single document. Using standard web browsers, Jupyter notebooks can be run locally on desktop or laptop computers, or on a Jupyter notebook server such as the JupyterHub provided by Constructor University's *Computational Laboratory for Analysis, Modeling, and Visualization (CLAMV)*."
   ]
  },
  {
   "cell_type": "markdown",
   "metadata": {},
   "source": [
    "In this tutorial, the basic functionality of a Jupyter notebook is demonstrated using data from public repositories. Before you start, observe the difference between _markdown cells_ and _code cells_. This text resides in a _markdown cell_. The cell below is an example of a _code cell_ with a Python instruction. To run the code, click on the cell to activate it, and then click on the `Run` button in the menu."
   ]
  },
  {
   "cell_type": "code",
   "execution_count": null,
   "metadata": {},
   "outputs": [],
   "source": [
    "print('Hello World!')"
   ]
  },
  {
   "cell_type": "markdown",
   "metadata": {},
   "source": [
    "Now navigate through the notebook from top to bottom, execute the code cells sequentially, and observe the output that is generated. There is no need to add any entries to this document.  To refresh the notebook and recover the initial state, choose the `Kernel` menu and select `Restart & Clear Output`."
   ]
  },
  {
   "cell_type": "markdown",
   "metadata": {},
   "source": [
    "## Preparation"
   ]
  },
  {
   "cell_type": "markdown",
   "metadata": {},
   "source": [
    "The following data files are expected to reside in the working directory. Identify the files on the module platform and upload them to the same folder as this Jupyter notebook.\n",
    "\n",
    "- `co2_mm_mlo.txt`: [Mauna Loa CO$_2$ monthly mean data](https://gml.noaa.gov/webdata/ccgg/trends/co2/co2_mm_mlo.txt) hosted by [NOAA's Global Monitoring Laboratory](https://gml.noaa.gov/).\n",
    "- `PIA01141.tif`: grayscale image of a region on Mars containing the geologic _Face on Mars_ formation, photographed by NASA's Viking 1 Orbiter on July 25, 1976. The file is available from [NASA's JPL Photojournal website](https://photojournal.jpl.nasa.gov/catalog/PIA01141).\n",
    "- `march2014_1920x1200.jpeg`: [color image](https://www.nasa.gov/sites/default/files/thumbnails/image/march2014_1920x1200.jpeg) (Credit: NASA/USGS Landsat; Geoscience Australia) featured on [this NASA website](https://www.nasa.gov/image-feature/color-explosion-beautiful-earth). The source image was taken in May 2013 by the Landsat 8 satellite over Western Australia, and then enhanced. \n",
    "- `life-expectancy-at-birth-total-years.csv`: Life expectancy at birth 1960-2019, published by the [World Bank, 2021-07-30](http://data.worldbank.org/data-catalog/world-development-indicators), available from [Our World in Data](https://ourworldindata.org/grapher/life-expectancy-at-birth-total-years).\n",
    "- `gdp-per-capita-in-us-dollar-world-bank.csv`: GDP per capita in constant 2010 US dollars 1960-2020, published by the [World Bank, 2021-07-30](http://data.worldbank.org/data-catalog/world-development-indicators), available from [Our World in Data](https://ourworldindata.org/grapher/gdp-per-capita-in-us-dollar-world-bank)."
   ]
  },
  {
   "cell_type": "markdown",
   "metadata": {},
   "source": [
    "Run the following code cell to import standard Python data science libraries, and to allow for inline display of graphics. "
   ]
  },
  {
   "cell_type": "code",
   "execution_count": null,
   "metadata": {},
   "outputs": [],
   "source": [
    "import numpy as np\n",
    "import matplotlib.pyplot as plt\n",
    "import seaborn\n",
    "from PIL import Image\n",
    "import pandas as pd\n",
    "%matplotlib inline"
   ]
  },
  {
   "cell_type": "markdown",
   "metadata": {},
   "source": [
    "## Mauna Loa CO$_2$ time series"
   ]
  },
  {
   "cell_type": "markdown",
   "metadata": {},
   "source": [
    "The file `co2_mm_mlo.txt` as obtained from [NOAA's Global Monitoring Laboratory](https://gml.noaa.gov/) contains monthly mean atmospheric CO$_2$ concentrations measured at the Mauna Loa observatory. Click on the filename in the directory listing to display the content of this plain text file. Note the contextual information is in a header separated from the data stored in several columns.   "
   ]
  },
  {
   "cell_type": "markdown",
   "metadata": {},
   "source": [
    "The code in the following cells loads two columns from the Mauna Loa CO$_2$ data file: fractional year and monthly CO$_2$ concentration values. The data are displayed as a line plot. The CO$_2$ measurements constitute a one-dimensional array of numerical values (data vector)."
   ]
  },
  {
   "cell_type": "code",
   "execution_count": null,
   "metadata": {
    "scrolled": false
   },
   "outputs": [],
   "source": [
    "year,data = np.genfromtxt('co2_mm_mlo.txt',usecols=(2,3),unpack=True)\n",
    "plt.figure(figsize=(8,5))\n",
    "plt.plot(year,data)\n",
    "plt.title('Mauna Loa CO$_2$ time series')\n",
    "plt.xlabel('Year')\n",
    "plt.ylabel('CO$_2$ [ppm]')\n",
    "plt.grid()\n",
    "print('Shape of the data array: {}'.format(data.shape))"
   ]
  },
  {
   "cell_type": "markdown",
   "metadata": {},
   "source": [
    "## Grayscale image of a geologic formation on Mars"
   ]
  },
  {
   "cell_type": "markdown",
   "metadata": {},
   "source": [
    "The Viking 1 Orbiter image is loaded and displayed. As for 8-bit images, intensities are in the range 0-255. The underlying numerical values form a two-dimensional array of numerical values (data matrix)."
   ]
  },
  {
   "cell_type": "code",
   "execution_count": null,
   "metadata": {
    "scrolled": false
   },
   "outputs": [],
   "source": [
    "data = np.asarray(Image.open('PIA01141.tif'))\n",
    "plt.figure(figsize=(8,5))\n",
    "plt.imshow(data,cmap='gray')\n",
    "plt.title('Geologic formation on Mars')\n",
    "plt.xlabel('Horizontal dimension [pixels]')\n",
    "plt.ylabel('Vertical dimension [pixels]')\n",
    "plt.colorbar()\n",
    "print('Shape of the data array: {}'.format(data.shape))"
   ]
  },
  {
   "cell_type": "markdown",
   "metadata": {},
   "source": [
    "## Color image taken by Landsat"
   ]
  },
  {
   "cell_type": "markdown",
   "metadata": {},
   "source": [
    "Color images are stored in several two-dimensional arrays. Each of the arrays (also called channels) represents one color according to a color model, typically RGB (red-green-blue). A four-channel version of the RGB model is RGBA, with the channel A (alpha) quantifying transparency."
   ]
  },
  {
   "cell_type": "markdown",
   "metadata": {},
   "source": [
    "The following code loads and displays the Landsat 8 image, and then shows the three color channels as grayscale plots. The figure is saved as a graphics file in your local directory. Check the directory listing when you run the code."
   ]
  },
  {
   "cell_type": "code",
   "execution_count": null,
   "metadata": {},
   "outputs": [],
   "source": [
    "data = np.asarray(Image.open('march2014_1920x1200.jpeg'))\n",
    "print('Shape of the data array: {}'.format(data.shape))\n",
    "plt.figure(figsize=(13,8))\n",
    "plt.subplot(2,2,1)\n",
    "plt.imshow(data,vmin=0,vmax=255)\n",
    "colstr = ['(red)','(green)','(blue)']\n",
    "plt.title('Color image: all channels')\n",
    "plt.ylabel('Vertical dimension [pixels]')\n",
    "for k in range(3):\n",
    "    plt.subplot(2,2,k+2)\n",
    "    plt.imshow(data[...,k],cmap='gray',vmin=0,vmax=255)\n",
    "    plt.title('Color image: channel {} '.format(k)+colstr[k])\n",
    "    if k>0: plt.xlabel('Horizontal dimension [pixels]')\n",
    "    if 1==k%2: plt.ylabel('Vertical dimension [pixels]')\n",
    "#---plt.savefig('landsat8_color_channels.png',facecolor=None,bbox_inches='tight')"
   ]
  },
  {
   "cell_type": "markdown",
   "metadata": {},
   "source": [
    "## Tabular data on life expectancy and GDP"
   ]
  },
  {
   "cell_type": "markdown",
   "metadata": {},
   "source": [
    "The file `life-expectancy-at-birth-total-years.csv` provides data on the life expectancy at birth in the period 1960-2019 as published by the [World Bank on 2021-07-30](http://data.worldbank.org/data-catalog/world-development-indicators), and made available through [Our World in Data](https://ourworldindata.org/grapher/life-expectancy-at-birth-total-years). Click on the filename in the directory listing to display the content of this text file. Data columns are separated by commas. The first line names the variables that are listed. Single countries come with a three-letter abbreviation (`Code`) which is not provided for groups of countries."
   ]
  },
  {
   "cell_type": "markdown",
   "metadata": {},
   "source": [
    "The life expectancy data file is conveniently imported and displayed using the Pandas package."
   ]
  },
  {
   "cell_type": "code",
   "execution_count": null,
   "metadata": {},
   "outputs": [],
   "source": [
    "df1 = pd.read_csv('life-expectancy-at-birth-total-years.csv')\n",
    "display(df1)"
   ]
  },
  {
   "cell_type": "markdown",
   "metadata": {},
   "source": [
    "We proceed in the same way with the file `gdp-per-capita-in-us-dollar-world-bank.csv` containing data on GDP per capita in constant 2010 US dollars 1960-2020, also published by the [World Bank on 2021-07-30](http://data.worldbank.org/data-catalog/world-development-indicators), and made available through [Our World in Data](https://ourworldindata.org/grapher/gdp-per-capita-in-us-dollar-world-bank). Click on the filename in the directory listing to display the content of this comma-separated text file to study the structure."
   ]
  },
  {
   "cell_type": "markdown",
   "metadata": {},
   "source": [
    "The GDP per capita data are imported and displayed using Pandas."
   ]
  },
  {
   "cell_type": "code",
   "execution_count": null,
   "metadata": {},
   "outputs": [],
   "source": [
    "df2 = pd.read_csv('gdp-per-capita-in-us-dollar-world-bank.csv')\n",
    "display(df2)"
   ]
  },
  {
   "cell_type": "markdown",
   "metadata": {},
   "source": [
    "The data sets are merged, keeping only those rows with valid data for both life expectancy and GDP per capita, and eliminating groups of countries from the list. Inconveniently long column labels are abbreviated."
   ]
  },
  {
   "cell_type": "code",
   "execution_count": null,
   "metadata": {},
   "outputs": [],
   "source": [
    "df3 = pd.merge(df1,df2)\n",
    "df3.dropna(inplace=True)\n",
    "df3 = df3[df3['Entity']!='World']\n",
    "df3.rename(columns={df3.columns[3]:'Life exp.',df3.columns[4]:'GDP/cap.'},\n",
    "           inplace=True,errors='raise')\n",
    "display(df3)"
   ]
  },
  {
   "cell_type": "code",
   "execution_count": null,
   "metadata": {},
   "outputs": [],
   "source": [
    "plt.figure(figsize=(13,6))\n",
    "plt.subplot(1,2,1)\n",
    "Years = [1965,1990,2015]\n",
    "for year in Years:\n",
    "    df4 = df3[df3['Year']==year]\n",
    "    plt.scatter(df4['GDP/cap.'],df4['Life exp.'],label='{}'.format(year))\n",
    "plt.legend()\n",
    "plt.grid()\n",
    "plt.title('World Development Indicators: Distributions')\n",
    "plt.xlabel('GDP per capita [2010 US$]')\n",
    "plt.ylabel('Life expectancy [Years]')\n",
    "plt.xscale('log')\n",
    "plt.subplot(1,2,2)\n",
    "Countries = ['Australia','Brazil','China','France','Nigeria','United States']\n",
    "for country in Countries:\n",
    "    df4 = df3[df3['Entity']==country]\n",
    "    plt.plot(df4['GDP/cap.'],df4['Life exp.'],label=country)\n",
    "plt.legend()\n",
    "plt.grid()\n",
    "plt.title('World Development Indicators: Trajectories')\n",
    "plt.xlabel('GDP per capita [2010 US$]')\n",
    "plt.ylabel('Life expectancy [Years]')\n",
    "plt.xscale('log')\n",
    "#---plt.savefig('income_lifespan.png',facecolor=None,bbox_inches='tight')"
   ]
  },
  {
   "cell_type": "markdown",
   "metadata": {},
   "source": [
    "See the [Gapminder World Health Chart](https://www.gapminder.org/fw/world-health-chart) for further information on the evolution of Global Health."
   ]
  },
  {
   "cell_type": "markdown",
   "metadata": {},
   "source": [
    "---\n",
    "---"
   ]
  }
 ],
 "metadata": {
  "kernelspec": {
   "display_name": "Python 3 (ipykernel)",
   "language": "python",
   "name": "python3"
  },
  "language_info": {
   "codemirror_mode": {
    "name": "ipython",
    "version": 3
   },
   "file_extension": ".py",
   "mimetype": "text/x-python",
   "name": "python",
   "nbconvert_exporter": "python",
   "pygments_lexer": "ipython3",
   "version": "3.10.9"
  }
 },
 "nbformat": 4,
 "nbformat_minor": 4
}
