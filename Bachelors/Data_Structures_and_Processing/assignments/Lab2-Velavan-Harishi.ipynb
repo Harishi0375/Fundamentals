{
 "cells": [
  {
   "cell_type": "markdown",
   "id": "0fae778a",
   "metadata": {
    "nbgrader": {
     "grade": false,
     "grade_id": "cell-0acf8e7ddaac2089",
     "locked": true,
     "schema_version": 3,
     "solution": false,
     "task": false
    },
    "slideshow": {
     "slide_type": ""
    },
    "tags": []
   },
   "source": [
    "# Data Structures and Processing\n",
    "\n",
    "## Week2: Introduction to Python (Cont.)\n"
   ]
  },
  {
   "cell_type": "markdown",
   "id": "78f50c42",
   "metadata": {
    "nbgrader": {
     "grade": false,
     "grade_id": "cell-20a38328e0393ae5",
     "locked": true,
     "schema_version": 3,
     "solution": false,
     "task": false
    }
   },
   "source": [
    "## Note\n",
    "\n",
    "Although we have covered the section on custom function or user defined function at the end of week 2's content, we would like to incorporate into practice right from beginning for two reasons:\n",
    "\n",
    "* defining function becomes natural to you, and that you be able to extract out of your blocks a utility that could be used as many times as you please.\n",
    "\n",
    "* we would like to run small tests against your functions to see if your utilities work as expected in several different scenarios.  This is called unit testing the functions, code or utility."
   ]
  },
  {
   "cell_type": "markdown",
   "id": "5bc25686",
   "metadata": {
    "nbgrader": {
     "grade": false,
     "grade_id": "cell-54b3251e8cbdac05",
     "locked": true,
     "schema_version": 3,
     "solution": false,
     "task": false
    }
   },
   "source": [
    "## Revisiting Personal Database\n",
    "\n",
    "Recall that in the previous Jupyter notebook, we have asked you to make a small database, which you could use it for personal use.  We want to make it more functional and close to a real use case.\n",
    "\n",
    "Let us describe the expectations and provide a framework.\n",
    "\n",
    "* The database file `bibliox.txt` is stored on the disk.\n",
    "* Each line of the file `biblio.txt` is a dictionary entry of a record.  Here is how a sample line in the file looks like.\n",
    "\n",
    "    `{\"id\": \"skiena2017data\", \"title\": \"The data science design manual\", \"authors\": [\"Steven Skiena\"], \"year\": 2017, \"publisher\": \"Springer\"}`\n",
    "\n",
    "We expect\n",
    "\n",
    "* a function named `biblio_from_file` that could read the lines of the file `biblio.txt` and return a list of `dict` objects in Python.  The function should be able to take the name of the file as an argument.\n",
    "\n",
    "* a function named `biblio_to_file` that takes a `list` of  `dict`s and writes its content to a given file name.  We use this function to ship the data to a file on computer.\n",
    "\n",
    "* a function named `biblio_add_record` that takes a list as a first argument (the list of records) and a `dict` element (a new record) and adds the record to the list of others. This function should returs a list with additional record.\n",
    "\n",
    "* a function named `biblio_record_presenet` that takes a list as a first argument (the list of records), and a `dict` element as a second argument and determines if a record is present in the list.\n",
    "\n",
    "* a function named `biblio_query_record_by_author` that takes a list as a first argument (the list of records), and a `str` element as a second argument (the name of an author for an entry), and returns the list of all the matching records.\n",
    "\n",
    "* a function named `biblio_remove_record` that takes a list as a first argument (the list of records), and a `dict` element as a second argument and removes it from the database. The function should return the biblio list without the record."
   ]
  },
  {
   "cell_type": "markdown",
   "id": "60b42b88",
   "metadata": {
    "nbgrader": {
     "grade": false,
     "grade_id": "cell-afdb69c7a799080b",
     "locked": true,
     "schema_version": 3,
     "solution": false,
     "task": false
    }
   },
   "source": [
    "## Hints for a Solution to the Task on Personal Database\n",
    "\n",
    "In the following sections, we are going to provide some hints that might be useful in writing down all the utilities desired for the task of a functional database.  You are suggested to think about them on your own and ignore the hints at first, but you are very welcomed to have a look at our suggestions, and provide your own solution."
   ]
  },
  {
   "cell_type": "markdown",
   "id": "80fd234c-e0a6-4e24-baa9-74f32135905c",
   "metadata": {
    "nbgrader": {
     "grade": false,
     "grade_id": "cell-25e60eb870ca7440",
     "locked": true,
     "schema_version": 3,
     "solution": false,
     "task": false
    }
   },
   "source": [
    "## Hints: Reading the database file\n",
    "\n",
    "\n",
    "### `biblio_from_file`\n",
    "\n",
    "We have suggested to write down a function that could read the contents of a file and returns a list of records.\n",
    "\n",
    "We suggest to break the task down into even smaller tasks or sub-tasks.  For example, we could use the `readlines()` method to read all the lines of the file into a `list` object.  This is easier.  If you look at an element of this list, you may notice that it is a `str` and contains a record together with some characters that we do not need, for example, the spaces or the braces `{`, `}`, or even the newline character `\\n`. Therefore, at this point, we should concentrate on working on a helpful utility that could parse the line and return a `dict` element.  If we succeed in this, then we can use an iterative structure--the `for` loop, together with the newly defined utility to obtain the list of records as we need it.\n",
    "\n",
    "Let us recall again how a line in the file looks like after it is read in.\n",
    "\n",
    "        '{\"id\": \"skiena2017data\", \"title\": \"The data science design manual\", \"authors\": [\"Steven Skiena\"], \"year\": 2017, \"publisher\": \"Springer\"}\\n'\n",
    "\n",
    "Notice that the line is read as string but it contains different \"strings\" signified by the use of the doubl quotation marks `\"`.\n",
    "\n",
    "Let us write our observations and write utilities to act on them.\n",
    "\n",
    "* The line contains the characters `{`, `}` and `\\n`, which we do not need.  This means that we need to write down a function that would remove them.  The utility should return the cleaned string.\n",
    "\n",
    "* After we have removed the undesired characters, the new string should look like the following\n",
    "\n",
    "        '\"id\": \"skiena2017data\", \"title\": \"The data science design manual\", \"authors\": [\"Steven Skiena\"], \"year\": 2017, \"publisher\": \"Springer\"'\n",
    "    \n",
    "* In the cleaned line, we have a different parts that are meant to be the `key-value` pair for the `dict` object--our record.  We see that these are separated by a `,`.  Therefore, we need to find a way to break the string into several different parts and obtain a list of strings containing these `key-value` strings.  A helpful `str` method for such a purpose is the `split()`, which takes a string argument and splits that string at exactly that and returns a list. In our case, we want to split at `,`, therefore, we would use `split(\",\")` on the new line.  Our record after applying the utlity would look like the following.\n",
    "\n",
    "        ['\"id\": \"skiena2017data\"',\n",
    "         ' \"title\": \"The data science design manual\"',\n",
    "         ' \"authors\": [\"Steven Skiena\"]',\n",
    "         ' \"year\": 2017',\n",
    "         ' \"publisher\": \"Springer\"']\n",
    "  \n",
    "  Notice that the second element in the above list is `' \"title\": \"The data science design manual\"'`. It has an extra white space at the beginning of the string.  We should make sure that our utility function takes care of it by removing the leading or the trailing spaces.  We do not know how many spaces there are, but they need to be removed.  A useful method for removing leading or trailing space is `strip()`. This method does not take any argument and removes the leading and the trailing spaces from a string, regardless of their number.\n",
    "\n",
    "  If we have defined our function correctly, then the output should look lik the following.\n",
    "  \n",
    "        ['\"id\": \"skiena2017data\"',\n",
    "         '\"title\": \"The data science design manual\"',\n",
    "         '\"authors\": [\"Steven Skiena\"]',\n",
    "         '\"year\": 2017',\n",
    "         '\"publisher\": \"Springer\"']\n",
    "         \n",
    "* Now need to actually take the members of the list and write down a utility that would return a dictionary.  We could divide this task into subtasks, where we first concentrate on a member of a list which should provide the `key-value` pair.  For example, let us concentrate on the string `'\"title\": \"The data science design manual\"`.  There might be several ways to go forward from here.  But one interesting way is to use our previosly defined utility which splitted the given string at `,`, removed the leading and trailing spaces, and returned a list.  Notice that we need the same utility but with a small change that the character at which we want to split now is not `,`, but it is `:`.  This takes us one step back, and motivates us to add the splitting charachter a part of our input parameters of our utility, because it would then provide us more control.\n",
    "\n",
    "  If the utility is redefined, or another utility is defined instead, we should have as our result the following list\n",
    "\n",
    "        ['title', 'The data science design manual']\n",
    "        \n",
    "   We can the first element (at index 0) as the key and the second element (at index 1) as the corresponding value to build a dictionary or add it to a dictionary.\n",
    "  "
   ]
  },
  {
   "cell_type": "code",
   "execution_count": 1,
   "id": "98863e5f",
   "metadata": {},
   "outputs": [],
   "source": [
    "import json\n",
    "def biblio_from_file(filename: str):\n",
    "    file_contents = []\n",
    "    try:\n",
    "        with open(filename, \"r\") as file:\n",
    "            for line in file.readlines():\n",
    "                file_contents.append(json.loads(line))\n",
    "    except FileNotFoundError:\n",
    "        print(f\"Error: File not found {filename}\")\n",
    "    return file_contents\n",
    "    "
   ]
  },
  {
   "cell_type": "code",
   "execution_count": 9,
   "id": "009c89e6",
   "metadata": {},
   "outputs": [],
   "source": [
    "assert type(biblio_from_file(\"biblio.txt\")) == list, \"The function does not return a list, as expected.\"\n",
    "assert type(biblio_from_file(\"biblio.txt\")[0]) == dict, \"The list does not contain dictionaries.\""
   ]
  },
  {
   "cell_type": "code",
   "execution_count": 8,
   "id": "268e6d42",
   "metadata": {},
   "outputs": [],
   "source": [
    "biblio = biblio_from_file(\"biblio.txt\")"
   ]
  },
  {
   "cell_type": "markdown",
   "id": "24b6b800-9d6a-4473-acd2-7a241ce6f3b0",
   "metadata": {
    "nbgrader": {
     "grade": false,
     "grade_id": "cell-c9a6e1e3e73e0ab7",
     "locked": true,
     "schema_version": 3,
     "solution": false,
     "task": false
    }
   },
   "source": [
    " By this point, you should be able to put all the utilities, defined above, together with iterative loops to build the function `biblio_from_file`.\n",
    "\n",
    "### `biblio_to_file`\n",
    "\n",
    "This function might be easier to write as compared to the previous `biblio_from_file`.\n",
    "\n",
    "The situaiton is that we have our record `biblio`, which is a list of `dict` objects – the records. We should be able to use the `for` statement to write each element of the list `biblio` as a line in the output file.  We leave the details for you to think and provide the solution."
   ]
  },
  {
   "cell_type": "code",
   "execution_count": 11,
   "id": "b3d14369-a67c-498c-857b-738fc4ef31f3",
   "metadata": {
    "nbgrader": {
     "grade": false,
     "grade_id": "cell-6b70252b4f8e2376",
     "locked": false,
     "schema_version": 3,
     "solution": true,
     "task": false
    }
   },
   "outputs": [],
   "source": [
    "import json\n",
    "def biblio_to_file(biblio: list, filename: str):\n",
    "    try:\n",
    "        with open(filename, \"w\") as outfile:\n",
    "            for l in biblio:\n",
    "                json.dump(l,outfile)\n",
    "    except FileNotFoundError:\n",
    "        print(\"file now found\") \n",
    "\n",
    "# this part is for testing\n",
    "biblio = [\n",
    "    {\"id\": \"skiena2017data\", \"title\": \"The data science design manual\", \"authors\": [\"Steven Skiena\"], \"year\": 2017, \"publisher\": \"Springer\"},\n",
    "    {\"id\": \"tufte1983visual\", \"title\": \"The visual display of quantitative information\", \"authors\": [\"Edward Tufte\"], \"year\": 1983, \"publisher\": \"Graphics Press\"},\n",
    "    {\"id\": \"knuth1986art\", \"title\": \"The Art of Computer Programming\", \"authors\": [\"Donald E. Knuth\"], \"year\": 1986, \"publisher\": \"Addison-Wesley\"}\n",
    "]\n",
    "\n",
    "filename = \"output.txt\"  \n",
    "\n",
    "biblio_to_file(biblio, filename)       \n"
   ]
  },
  {
   "cell_type": "markdown",
   "id": "e668b298-509f-4ab6-b447-3518963433d8",
   "metadata": {
    "nbgrader": {
     "grade": false,
     "grade_id": "cell-98dbfe200dfbfa89",
     "locked": true,
     "schema_version": 3,
     "solution": false,
     "task": false
    }
   },
   "source": [
    "### `biblio_add_record`\n",
    "\n",
    "This function is also easier to write.\n",
    "\n",
    "The situation is that we have a list and we want to add an element to it. A better version would be to see if the record is also available in `biblio`, before actually adding it.  There is no need to add a record if it is already a part of the database.  Therefore, before defining this function, we should defined the following which checks if a record is already present."
   ]
  },
  {
   "cell_type": "code",
   "execution_count": null,
   "id": "07428fff-0fd9-47eb-9c55-40b53bffb3fb",
   "metadata": {
    "nbgrader": {
     "grade": false,
     "grade_id": "cell-d075412b8b44fb76",
     "locked": false,
     "schema_version": 3,
     "solution": true,
     "task": false
    }
   },
   "outputs": [],
   "source": [
    "def biblio_add_record(biblio: list, record: dict):\n",
    "    for i in biblio:\n",
    "        if i == record:\n",
    "            return (\"already exists\")\n",
    "    return biblio.append(record)"
   ]
  },
  {
   "cell_type": "code",
   "execution_count": 28,
   "id": "e5f4b83f-49a7-4908-929e-fb459c395ee8",
   "metadata": {
    "nbgrader": {
     "grade": true,
     "grade_id": "cell-65ed98d7df10f024",
     "locked": true,
     "points": 5,
     "schema_version": 3,
     "solution": false,
     "task": false
    }
   },
   "outputs": [
    {
     "ename": "TypeError",
     "evalue": "argument of type 'bool' is not iterable",
     "output_type": "error",
     "traceback": [
      "\u001b[0;31m---------------------------------------------------------------------------\u001b[0m",
      "\u001b[0;31mTypeError\u001b[0m                                 Traceback (most recent call last)",
      "Cell \u001b[0;32mIn[28], line 2\u001b[0m\n\u001b[1;32m      1\u001b[0m xrecord \u001b[38;5;241m=\u001b[39m {\u001b[38;5;124m\"\u001b[39m\u001b[38;5;124mid\u001b[39m\u001b[38;5;124m\"\u001b[39m: \u001b[38;5;124m\"\u001b[39m\u001b[38;5;124mskiena2017dt\u001b[39m\u001b[38;5;124m\"\u001b[39m, \u001b[38;5;124m\"\u001b[39m\u001b[38;5;124mtitle\u001b[39m\u001b[38;5;124m\"\u001b[39m: \u001b[38;5;124m\"\u001b[39m\u001b[38;5;124mThe data science design mMnual\u001b[39m\u001b[38;5;124m\"\u001b[39m, \u001b[38;5;124m\"\u001b[39m\u001b[38;5;124mauthors\u001b[39m\u001b[38;5;124m\"\u001b[39m: [\u001b[38;5;124m\"\u001b[39m\u001b[38;5;124mSteven SSkiena\u001b[39m\u001b[38;5;124m\"\u001b[39m], \u001b[38;5;124m\"\u001b[39m\u001b[38;5;124myear\u001b[39m\u001b[38;5;124m\"\u001b[39m: \u001b[38;5;241m2017\u001b[39m, \u001b[38;5;124m\"\u001b[39m\u001b[38;5;124mpublisher\u001b[39m\u001b[38;5;124m\"\u001b[39m: \u001b[38;5;124m\"\u001b[39m\u001b[38;5;124mSSpringer\u001b[39m\u001b[38;5;124m\"\u001b[39m}\n\u001b[0;32m----> 2\u001b[0m \u001b[38;5;28;01massert\u001b[39;00m \u001b[43mxrecord\u001b[49m\u001b[43m \u001b[49m\u001b[38;5;129;43;01min\u001b[39;49;00m\u001b[43m \u001b[49m\u001b[43mbiblio_add_record\u001b[49m\u001b[43m(\u001b[49m\u001b[38;5;124;43m\"\u001b[39;49m\u001b[38;5;124;43mbiblio.text\u001b[39;49m\u001b[38;5;124;43m\"\u001b[39;49m\u001b[43m,\u001b[49m\u001b[43m \u001b[49m\u001b[43mxrecord\u001b[49m\u001b[43m)\u001b[49m\n",
      "\u001b[0;31mTypeError\u001b[0m: argument of type 'bool' is not iterable"
     ]
    }
   ],
   "source": [
    "xrecord = {\"id\": \"skiena2017dt\", \"title\": \"The data science design mMnual\", \"authors\": [\"Steven SSkiena\"], \"year\": 2017, \"publisher\": \"SSpringer\"}\n",
    "assert xrecord in biblio_add_record(\"biblio.text\", xrecord)\n",
    "\n"
   ]
  },
  {
   "cell_type": "markdown",
   "id": "8ce4def6-aa61-476c-8e19-c7b6253a73c6",
   "metadata": {
    "nbgrader": {
     "grade": false,
     "grade_id": "cell-69ee2615adeafca2",
     "locked": true,
     "schema_version": 3,
     "solution": false,
     "task": false
    }
   },
   "source": [
    "### `biblio_record_present`\n",
    "\n",
    "This function is one the simplest.  But we would like to have it for completion of our system.\n",
    "\n",
    "The situation is that we have a list and we want to check an object is in the list.  We use the infix operator `in` which returns one of the boolean values: `True` or `False`."
   ]
  },
  {
   "cell_type": "code",
   "execution_count": 17,
   "id": "eb2dcaa1-9401-418e-8335-972abe02e828",
   "metadata": {
    "nbgrader": {
     "grade": false,
     "grade_id": "cell-d06e3cd3cc3314f8",
     "locked": false,
     "schema_version": 3,
     "solution": true,
     "task": false
    }
   },
   "outputs": [],
   "source": [
    "# same as previous code just slight adjecements\n",
    "def biblio_record_present(biblio: list, record: dict):\n",
    "    for i in biblio:\n",
    "        if i == record:\n",
    "            return True #if present then true\n",
    "    return False\n",
    "    "
   ]
  },
  {
   "cell_type": "code",
   "execution_count": 27,
   "id": "528262b2-5ed5-4f27-9ebb-0812eed1ab87",
   "metadata": {
    "nbgrader": {
     "grade": true,
     "grade_id": "cell-964eee18bf246ac7",
     "locked": true,
     "points": 2,
     "schema_version": 3,
     "solution": false,
     "task": false
    }
   },
   "outputs": [
    {
     "ename": "NameError",
     "evalue": "name 'biblio_record_present' is not defined",
     "output_type": "error",
     "traceback": [
      "\u001b[0;31m---------------------------------------------------------------------------\u001b[0m",
      "\u001b[0;31mNameError\u001b[0m                                 Traceback (most recent call last)",
      "Cell \u001b[0;32mIn[27], line 2\u001b[0m\n\u001b[1;32m      1\u001b[0m xrecord \u001b[38;5;241m=\u001b[39m {\u001b[38;5;124m\"\u001b[39m\u001b[38;5;124mid\u001b[39m\u001b[38;5;124m\"\u001b[39m: \u001b[38;5;124m\"\u001b[39m\u001b[38;5;124mskiena2017data\u001b[39m\u001b[38;5;124m\"\u001b[39m, \u001b[38;5;124m\"\u001b[39m\u001b[38;5;124mtitle\u001b[39m\u001b[38;5;124m\"\u001b[39m: \u001b[38;5;124m\"\u001b[39m\u001b[38;5;124mThe data science design manual\u001b[39m\u001b[38;5;124m\"\u001b[39m, \u001b[38;5;124m\"\u001b[39m\u001b[38;5;124mauthors\u001b[39m\u001b[38;5;124m\"\u001b[39m: [\u001b[38;5;124m\"\u001b[39m\u001b[38;5;124mSteven Skiena\u001b[39m\u001b[38;5;124m\"\u001b[39m], \u001b[38;5;124m\"\u001b[39m\u001b[38;5;124myear\u001b[39m\u001b[38;5;124m\"\u001b[39m: \u001b[38;5;241m2017\u001b[39m, \u001b[38;5;124m\"\u001b[39m\u001b[38;5;124mpublisher\u001b[39m\u001b[38;5;124m\"\u001b[39m: \u001b[38;5;124m\"\u001b[39m\u001b[38;5;124mSpringer\u001b[39m\u001b[38;5;124m\"\u001b[39m}\n\u001b[0;32m----> 2\u001b[0m \u001b[38;5;28;01massert\u001b[39;00m \u001b[43mbiblio_record_present\u001b[49m(\u001b[38;5;124m\"\u001b[39m\u001b[38;5;124mbiblio.txt\u001b[39m\u001b[38;5;124m\"\u001b[39m, xrecord) \u001b[38;5;241m==\u001b[39m \u001b[38;5;28;01mTrue\u001b[39;00m \u001b[38;5;66;03m#using textfile hence assertion gives error same as previous\u001b[39;00m\n",
      "\u001b[0;31mNameError\u001b[0m: name 'biblio_record_present' is not defined"
     ]
    }
   ],
   "source": [
    "xrecord = {\"id\": \"skiena2017data\", \"title\": \"The data science design manual\", \"authors\": [\"Steven Skiena\"], \"year\": 2017, \"publisher\": \"Springer\"}\n",
    "assert biblio_record_present(\"biblio.txt\", xrecord) == True #using textfile hence assertion gives error same as previous"
   ]
  },
  {
   "cell_type": "markdown",
   "id": "144dd734-214a-4bf6-b2a9-02a7719f41f3",
   "metadata": {
    "nbgrader": {
     "grade": false,
     "grade_id": "cell-883daef22542fba1",
     "locked": true,
     "schema_version": 3,
     "solution": false,
     "task": false
    }
   },
   "source": [
    "### `biblio_query_record_by_author`\n",
    "\n",
    "This function filters for matching records and returns a list.\n",
    "\n",
    "To define this function, we basically rely on the `for` statement which would take each record (a `dict` object), let us call it `record`, and gets the value of authors by `record[\"author\"]`, which is a list of authors for a particular bibliographic entry.  We can then use our given string together with the `in` operator to determine the corresponding boolean value.  `True` would mean that the the `record` matches and we should append it to a temporary list that we are going to return.  We append using the `list` method `append()`. If `False` is returned, then it means that we ignore it."
   ]
  },
  {
   "cell_type": "code",
   "execution_count": 22,
   "id": "65f45ddb-4c4c-4bb9-b2da-cf49755c2c23",
   "metadata": {
    "nbgrader": {
     "grade": false,
     "grade_id": "cell-b3cb5e8e421ba323",
     "locked": false,
     "schema_version": 3,
     "solution": true,
     "task": false
    }
   },
   "outputs": [],
   "source": [
    "def biblio_query_record_by_author(biblio: list, author: str):\n",
    "    emptylist = []\n",
    "    for record in biblio:\n",
    "        if record.get(\"author\") == author:\n",
    "            return emptylist.append(record)"
   ]
  },
  {
   "cell_type": "code",
   "execution_count": 26,
   "id": "b19875a1-58fb-4213-b059-fd0c33fc3873",
   "metadata": {
    "nbgrader": {
     "grade": true,
     "grade_id": "cell-d972c1b4cf55b55f",
     "locked": true,
     "points": 5,
     "schema_version": 3,
     "solution": false,
     "task": false
    }
   },
   "outputs": [
    {
     "ename": "AttributeError",
     "evalue": "'str' object has no attribute 'get'",
     "output_type": "error",
     "traceback": [
      "\u001b[0;31m---------------------------------------------------------------------------\u001b[0m",
      "\u001b[0;31mAttributeError\u001b[0m                            Traceback (most recent call last)",
      "Cell \u001b[0;32mIn[26], line 2\u001b[0m\n\u001b[1;32m      1\u001b[0m xrecord \u001b[38;5;241m=\u001b[39m {\u001b[38;5;124m\"\u001b[39m\u001b[38;5;124mid\u001b[39m\u001b[38;5;124m\"\u001b[39m: \u001b[38;5;124m\"\u001b[39m\u001b[38;5;124mskiena2017data\u001b[39m\u001b[38;5;124m\"\u001b[39m, \u001b[38;5;124m\"\u001b[39m\u001b[38;5;124mtitle\u001b[39m\u001b[38;5;124m\"\u001b[39m: \u001b[38;5;124m\"\u001b[39m\u001b[38;5;124mThe data science design manual\u001b[39m\u001b[38;5;124m\"\u001b[39m, \u001b[38;5;124m\"\u001b[39m\u001b[38;5;124mauthors\u001b[39m\u001b[38;5;124m\"\u001b[39m: [\u001b[38;5;124m\"\u001b[39m\u001b[38;5;124mSteven Skiena\u001b[39m\u001b[38;5;124m\"\u001b[39m], \u001b[38;5;124m\"\u001b[39m\u001b[38;5;124myear\u001b[39m\u001b[38;5;124m\"\u001b[39m: \u001b[38;5;241m2017\u001b[39m, \u001b[38;5;124m\"\u001b[39m\u001b[38;5;124mpublisher\u001b[39m\u001b[38;5;124m\"\u001b[39m: \u001b[38;5;124m\"\u001b[39m\u001b[38;5;124mSpringer\u001b[39m\u001b[38;5;124m\"\u001b[39m}\n\u001b[0;32m----> 2\u001b[0m \u001b[38;5;28;01massert\u001b[39;00m xrecord \u001b[38;5;129;01min\u001b[39;00m \u001b[43mbiblio_query_record_by_author\u001b[49m\u001b[43m(\u001b[49m\u001b[38;5;124;43m\"\u001b[39;49m\u001b[38;5;124;43mbiblio.txt\u001b[39;49m\u001b[38;5;124;43m\"\u001b[39;49m\u001b[43m,\u001b[49m\u001b[43m \u001b[49m\u001b[38;5;124;43m\"\u001b[39;49m\u001b[38;5;124;43mSteven Skiena\u001b[39;49m\u001b[38;5;124;43m\"\u001b[39;49m\u001b[43m)\u001b[49m\n",
      "Cell \u001b[0;32mIn[22], line 4\u001b[0m, in \u001b[0;36mbiblio_query_record_by_author\u001b[0;34m(biblio, author)\u001b[0m\n\u001b[1;32m      2\u001b[0m emptylist \u001b[38;5;241m=\u001b[39m []\n\u001b[1;32m      3\u001b[0m \u001b[38;5;28;01mfor\u001b[39;00m record \u001b[38;5;129;01min\u001b[39;00m biblio:\n\u001b[0;32m----> 4\u001b[0m     \u001b[38;5;28;01mif\u001b[39;00m \u001b[43mrecord\u001b[49m\u001b[38;5;241;43m.\u001b[39;49m\u001b[43mget\u001b[49m(\u001b[38;5;124m\"\u001b[39m\u001b[38;5;124mauthor\u001b[39m\u001b[38;5;124m\"\u001b[39m) \u001b[38;5;241m==\u001b[39m author:\n\u001b[1;32m      5\u001b[0m         \u001b[38;5;28;01mreturn\u001b[39;00m emptylist\u001b[38;5;241m.\u001b[39mappend(record)\n",
      "\u001b[0;31mAttributeError\u001b[0m: 'str' object has no attribute 'get'"
     ]
    }
   ],
   "source": [
    "xrecord = {\"id\": \"skiena2017data\", \"title\": \"The data science design manual\", \"authors\": [\"Steven Skiena\"], \"year\": 2017, \"publisher\": \"Springer\"}\n",
    "assert xrecord in biblio_query_record_by_author(\"biblio.txt\", \"Steven Skiena\")"
   ]
  },
  {
   "cell_type": "markdown",
   "id": "d7967667-a68b-40e9-a701-d3a764c7e2e8",
   "metadata": {
    "nbgrader": {
     "grade": false,
     "grade_id": "cell-8511f5c8d7095e8e",
     "locked": true,
     "schema_version": 3,
     "solution": false,
     "task": false
    }
   },
   "source": [
    "### `biblio_query_record_by_key` (optional)\n",
    "\n",
    "We have not asked for this function, but it is worth thinking that we might want to retrieve list of records on the basis of other criteria than just the `author`.  One way is to define function for all possible keys that we could include, or the second option is to define a generate function that takes `key-value` pair as arguments and returns all the matched records.\n",
    "\n",
    "After having the `biblio_query_record_by_author` defined, it is not hard to define the abstracted version.  We leave it as a small exercise to think how to best do it."
   ]
  },
  {
   "cell_type": "code",
   "execution_count": null,
   "id": "0b2d82cf",
   "metadata": {},
   "outputs": [],
   "source": [
    "def biblio_query_record_by_author(biblio: list, key: str, value):\n",
    "    emptylist = []\n",
    "    for record in biblio:\n",
    "        if record.get(value) == key:\n",
    "            return emptylist.append(record)\n",
    "    pass"
   ]
  },
  {
   "cell_type": "markdown",
   "id": "c5224c04-1dca-4320-9828-8e10e285ff89",
   "metadata": {
    "nbgrader": {
     "grade": false,
     "grade_id": "cell-886b7eb96358ad8f",
     "locked": true,
     "schema_version": 3,
     "solution": false,
     "task": false
    }
   },
   "source": [
    "### `biblio_remove_record`\n",
    "\n",
    "The simplest thinking here is that we have a list of records and we want to remove the records if it is present.  Our function `biblio_record_present`, already defined, might be helpful to check if a record is present.\n",
    "\n",
    "Another way could be to use the `list` method `remove()` that takes the object as an argument that we want to remove.  There is a need to be careful here. If the object that we are trying to remove is not present in the first place, then the method `remove()` returns `TypeError`.  At this point, we can either our utility function or use the `try...except` to avoid the error."
   ]
  },
  {
   "cell_type": "code",
   "execution_count": 25,
   "id": "57b3f4e7-12e0-446a-be09-8b9b13f8781b",
   "metadata": {
    "nbgrader": {
     "grade": false,
     "grade_id": "cell-733a1907ce49b3c5",
     "locked": false,
     "schema_version": 3,
     "solution": true,
     "task": false
    }
   },
   "outputs": [],
   "source": [
    "def biblio_remove_record(biblio, record):\n",
    "    try:\n",
    "        if(biblio_record_present(biblio,record) == True):\n",
    "            biblio.remove(record)\n",
    "    except TypeError:\n",
    "        print(\"Does not exist\")"
   ]
  },
  {
   "cell_type": "code",
   "execution_count": null,
   "id": "0b0cdd3f-f12f-4e29-a985-2e8491b78934",
   "metadata": {
    "nbgrader": {
     "grade": true,
     "grade_id": "cell-b1db669c4f9e8d72",
     "locked": true,
     "points": 5,
     "schema_version": 3,
     "solution": false,
     "task": false
    }
   },
   "outputs": [],
   "source": [
    "xrecord = {\"id\": \"skiena2017data\", \"title\": \"The data science design manual\", \"authors\": [\"Steven Skiena\"], \"year\": 2017, \"publisher\": \"Springer\"}\n",
    "assert xrecord not in biblio_remove_record(\"biblio.txt\", xrecord)"
   ]
  }
 ],
 "metadata": {
  "kernelspec": {
   "display_name": "Python 3 (ipykernel)",
   "language": "python",
   "name": "python3"
  },
  "language_info": {
   "codemirror_mode": {
    "name": "ipython",
    "version": 3
   },
   "file_extension": ".py",
   "mimetype": "text/x-python",
   "name": "python",
   "nbconvert_exporter": "python",
   "pygments_lexer": "ipython3",
   "version": "3.12.2"
  }
 },
 "nbformat": 4,
 "nbformat_minor": 5
}
