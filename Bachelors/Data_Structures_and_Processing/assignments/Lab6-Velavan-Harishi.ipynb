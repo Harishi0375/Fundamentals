{
 "cells": [
  {
   "cell_type": "markdown",
   "id": "9578795f-723e-46cc-b7f4-faed37e6858e",
   "metadata": {},
   "source": [
    "# Data Structures and Processing\n",
    "\n",
    "## Week 8: Data Wrangling with Pandas"
   ]
  },
  {
   "cell_type": "markdown",
   "id": "e8b4d83d-aafa-4503-822b-25a9e318163f",
   "metadata": {
    "tags": []
   },
   "source": [
    "### Remarks:\n",
    "\n",
    "1. Press the `install requirements` button above to install the required packages.  See the `requirements.txt` for list of packages to be installed.\n",
    "\n",
    "2. Make sure that you are following the conventions.  For examples, `import pandas as pd`, which imports pandas packages and sets the abbreviation for it.\n",
    "\n",
    "3. Do not import the packages without the short names.  Doing so might lead to a namespace conflict, or unintended uses of functions coming from two libraries as a part of different implementations.\n",
    "\n",
    "4. We are assigning `None` to variables and use `pass` in the body of the functions, where we expect a solution from you.  Please replace these values and statements with your solution."
   ]
  },
  {
   "cell_type": "markdown",
   "id": "0c1d9d69-0a50-4804-93e5-113136c827ce",
   "metadata": {},
   "source": [
    "The exercises in this notebook are aligned with the material provided for the lecture."
   ]
  },
  {
   "cell_type": "markdown",
   "id": "b1aa9048-bfc7-4ee0-af22-fb0d78606569",
   "metadata": {},
   "source": [
    "### Load Libraries"
   ]
  },
  {
   "cell_type": "code",
   "execution_count": 70,
   "id": "2512a105-8759-4def-90bd-37977472539a",
   "metadata": {
    "tags": []
   },
   "outputs": [],
   "source": [
    "import numpy as np\n",
    "import pandas as pd"
   ]
  },
  {
   "cell_type": "markdown",
   "id": "e751bfb2-5db5-46d5-bd13-723193262db9",
   "metadata": {},
   "source": [
    "## MultiIndex\n"
   ]
  },
  {
   "cell_type": "markdown",
   "id": "ced24119-c44a-4e5d-b468-2e6a46103ef0",
   "metadata": {},
   "source": [
    "### Task 1\n",
    "\n",
    "Consider the `json` file named `entertain.json`(attached) and read it into a variable `df1` using the function `pd.read_json`."
   ]
  },
  {
   "cell_type": "code",
   "execution_count": 71,
   "id": "59d21efa-49bb-4360-ab8e-78edc62a5e0a",
   "metadata": {},
   "outputs": [],
   "source": [
    "# Your solution goes here.\n",
    "df1 = pd.read_json('entertain.json')"
   ]
  },
  {
   "cell_type": "code",
   "execution_count": 72,
   "id": "30355055",
   "metadata": {},
   "outputs": [],
   "source": [
    "assert df1.shape == (8, 6)"
   ]
  },
  {
   "cell_type": "markdown",
   "id": "51dbb8e8-81fd-4d49-9d4e-31502222b952",
   "metadata": {},
   "source": [
    "### Task 2\n",
    "\n",
    "We want to change the index of the imported `DataFrame`. More specifically, we would like to have two indexes.  The two indexes come from the columns named `\"rating\"` and `\"stars\"`.\n",
    "\n",
    "Define a new `DataFrame` by the name `df2` where `\"rating\"`and `\"stars\"` are indexes."
   ]
  },
  {
   "cell_type": "code",
   "execution_count": 73,
   "id": "c3105940-0c09-49e1-a5e0-55fc25aee127",
   "metadata": {},
   "outputs": [
    {
     "data": {
      "text/html": [
       "<div>\n",
       "<style scoped>\n",
       "    .dataframe tbody tr th:only-of-type {\n",
       "        vertical-align: middle;\n",
       "    }\n",
       "\n",
       "    .dataframe tbody tr th {\n",
       "        vertical-align: top;\n",
       "    }\n",
       "\n",
       "    .dataframe thead th {\n",
       "        text-align: right;\n",
       "    }\n",
       "</style>\n",
       "<table border=\"1\" class=\"dataframe\">\n",
       "  <thead>\n",
       "    <tr style=\"text-align: right;\">\n",
       "      <th></th>\n",
       "      <th></th>\n",
       "      <th>title</th>\n",
       "      <th>duration</th>\n",
       "      <th>actors</th>\n",
       "      <th>genre</th>\n",
       "    </tr>\n",
       "    <tr>\n",
       "      <th>rating</th>\n",
       "      <th>stars</th>\n",
       "      <th></th>\n",
       "      <th></th>\n",
       "      <th></th>\n",
       "      <th></th>\n",
       "    </tr>\n",
       "  </thead>\n",
       "  <tbody>\n",
       "    <tr>\n",
       "      <th rowspan=\"2\" valign=\"top\">PG-13</th>\n",
       "      <th>7.5</th>\n",
       "      <td>Quiz Show</td>\n",
       "      <td>133</td>\n",
       "      <td>[Ralph Fiennes, John Turturro, Rob Morrow]</td>\n",
       "      <td>NaN</td>\n",
       "    </tr>\n",
       "    <tr>\n",
       "      <th>7.6</th>\n",
       "      <td>Batman</td>\n",
       "      <td>126</td>\n",
       "      <td>[Michael Keaton, Jack Nicholson, Kim Basinger]</td>\n",
       "      <td>Action</td>\n",
       "    </tr>\n",
       "    <tr>\n",
       "      <th>R</th>\n",
       "      <th>8.2</th>\n",
       "      <td>The Wolf of Wall Street</td>\n",
       "      <td>180</td>\n",
       "      <td>[Leonardo DiCaprio, Jonah Hill, Margot Robbie]</td>\n",
       "      <td>Biography</td>\n",
       "    </tr>\n",
       "    <tr>\n",
       "      <th>PG</th>\n",
       "      <th>8.1</th>\n",
       "      <td>Jaws</td>\n",
       "      <td>124</td>\n",
       "      <td>[Roy Scheider, Robert Shaw, Richard Dreyfuss]</td>\n",
       "      <td>Drama</td>\n",
       "    </tr>\n",
       "    <tr>\n",
       "      <th>NaN</th>\n",
       "      <th>7.8</th>\n",
       "      <td>Belle de Jour</td>\n",
       "      <td>101</td>\n",
       "      <td>[Catherine Deneuve, Jean Sorel, Michel Piccoli]</td>\n",
       "      <td>Drama</td>\n",
       "    </tr>\n",
       "    <tr>\n",
       "      <th>PG-13</th>\n",
       "      <th>7.8</th>\n",
       "      <td>As Good as It Gets</td>\n",
       "      <td>139</td>\n",
       "      <td>[Jack Nicholson, Helen Hunt, Greg Kinnear]</td>\n",
       "      <td>Comedy</td>\n",
       "    </tr>\n",
       "    <tr>\n",
       "      <th>G</th>\n",
       "      <th>8.4</th>\n",
       "      <td>Toy Story 3</td>\n",
       "      <td>103</td>\n",
       "      <td>[Tom Hanks, Tim Allen, Joan Cusack]</td>\n",
       "      <td>Animation</td>\n",
       "    </tr>\n",
       "    <tr>\n",
       "      <th>PG</th>\n",
       "      <th>7.4</th>\n",
       "      <td>Manhattan Murder Mystery</td>\n",
       "      <td>104</td>\n",
       "      <td>[Woody Allen, Diane Keaton, Jerry Adler]</td>\n",
       "      <td>Comedy</td>\n",
       "    </tr>\n",
       "  </tbody>\n",
       "</table>\n",
       "</div>"
      ],
      "text/plain": [
       "                                 title  duration  \\\n",
       "rating stars                                       \n",
       "PG-13  7.5                   Quiz Show       133   \n",
       "       7.6                      Batman       126   \n",
       "R      8.2     The Wolf of Wall Street       180   \n",
       "PG     8.1                        Jaws       124   \n",
       "NaN    7.8               Belle de Jour       101   \n",
       "PG-13  7.8          As Good as It Gets       139   \n",
       "G      8.4                 Toy Story 3       103   \n",
       "PG     7.4    Manhattan Murder Mystery       104   \n",
       "\n",
       "                                                       actors      genre  \n",
       "rating stars                                                              \n",
       "PG-13  7.5         [Ralph Fiennes, John Turturro, Rob Morrow]        NaN  \n",
       "       7.6     [Michael Keaton, Jack Nicholson, Kim Basinger]     Action  \n",
       "R      8.2     [Leonardo DiCaprio, Jonah Hill, Margot Robbie]  Biography  \n",
       "PG     8.1      [Roy Scheider, Robert Shaw, Richard Dreyfuss]      Drama  \n",
       "NaN    7.8    [Catherine Deneuve, Jean Sorel, Michel Piccoli]      Drama  \n",
       "PG-13  7.8         [Jack Nicholson, Helen Hunt, Greg Kinnear]     Comedy  \n",
       "G      8.4                [Tom Hanks, Tim Allen, Joan Cusack]  Animation  \n",
       "PG     7.4           [Woody Allen, Diane Keaton, Jerry Adler]     Comedy  "
      ]
     },
     "execution_count": 73,
     "metadata": {},
     "output_type": "execute_result"
    }
   ],
   "source": [
    "# Your solution goes here.\n",
    "df2 = df1.set_index([\"rating\",\"stars\"])\n",
    "df2\n"
   ]
  },
  {
   "cell_type": "code",
   "execution_count": 74,
   "id": "abe7b7c7",
   "metadata": {},
   "outputs": [],
   "source": [
    "assert df2.index[0] == ('PG-13', 7.5)"
   ]
  },
  {
   "cell_type": "markdown",
   "id": "49e7c316-a2fe-4a27-9cd0-5db6516642a1",
   "metadata": {},
   "source": [
    "### Task 3\n",
    "\n",
    "In the `DataFrame` named `df2`, defined above, we have two indexes: `\"rating\"` and `\"stars\"`, and *in this order*.  We want to change\n",
    "\n",
    "1. their order so that `\"stars\"` is the first index and `\"ratings\"` is the second one. You might want to use `swaplevel`.\n",
    "2. their case, i.e., make names of index columns upcase.\n",
    "\n",
    "Define a new `DataFrame` by the name `df3`, which is the same as `df2`, except that the indexes are swapped and they are in upcase form."
   ]
  },
  {
   "cell_type": "code",
   "execution_count": 75,
   "id": "da147490-fae4-4c03-a7cb-3fb0c0b78ddf",
   "metadata": {},
   "outputs": [
    {
     "data": {
      "text/html": [
       "<div>\n",
       "<style scoped>\n",
       "    .dataframe tbody tr th:only-of-type {\n",
       "        vertical-align: middle;\n",
       "    }\n",
       "\n",
       "    .dataframe tbody tr th {\n",
       "        vertical-align: top;\n",
       "    }\n",
       "\n",
       "    .dataframe thead th {\n",
       "        text-align: right;\n",
       "    }\n",
       "</style>\n",
       "<table border=\"1\" class=\"dataframe\">\n",
       "  <thead>\n",
       "    <tr style=\"text-align: right;\">\n",
       "      <th></th>\n",
       "      <th></th>\n",
       "      <th>title</th>\n",
       "      <th>duration</th>\n",
       "      <th>actors</th>\n",
       "      <th>genre</th>\n",
       "    </tr>\n",
       "    <tr>\n",
       "      <th>stars</th>\n",
       "      <th>rating</th>\n",
       "      <th></th>\n",
       "      <th></th>\n",
       "      <th></th>\n",
       "      <th></th>\n",
       "    </tr>\n",
       "  </thead>\n",
       "  <tbody>\n",
       "    <tr>\n",
       "      <th>7.5</th>\n",
       "      <th>PG-13</th>\n",
       "      <td>Quiz Show</td>\n",
       "      <td>133</td>\n",
       "      <td>[Ralph Fiennes, John Turturro, Rob Morrow]</td>\n",
       "      <td>NaN</td>\n",
       "    </tr>\n",
       "    <tr>\n",
       "      <th>7.6</th>\n",
       "      <th>PG-13</th>\n",
       "      <td>Batman</td>\n",
       "      <td>126</td>\n",
       "      <td>[Michael Keaton, Jack Nicholson, Kim Basinger]</td>\n",
       "      <td>Action</td>\n",
       "    </tr>\n",
       "    <tr>\n",
       "      <th>8.2</th>\n",
       "      <th>R</th>\n",
       "      <td>The Wolf of Wall Street</td>\n",
       "      <td>180</td>\n",
       "      <td>[Leonardo DiCaprio, Jonah Hill, Margot Robbie]</td>\n",
       "      <td>Biography</td>\n",
       "    </tr>\n",
       "    <tr>\n",
       "      <th>8.1</th>\n",
       "      <th>PG</th>\n",
       "      <td>Jaws</td>\n",
       "      <td>124</td>\n",
       "      <td>[Roy Scheider, Robert Shaw, Richard Dreyfuss]</td>\n",
       "      <td>Drama</td>\n",
       "    </tr>\n",
       "    <tr>\n",
       "      <th rowspan=\"2\" valign=\"top\">7.8</th>\n",
       "      <th>NaN</th>\n",
       "      <td>Belle de Jour</td>\n",
       "      <td>101</td>\n",
       "      <td>[Catherine Deneuve, Jean Sorel, Michel Piccoli]</td>\n",
       "      <td>Drama</td>\n",
       "    </tr>\n",
       "    <tr>\n",
       "      <th>PG-13</th>\n",
       "      <td>As Good as It Gets</td>\n",
       "      <td>139</td>\n",
       "      <td>[Jack Nicholson, Helen Hunt, Greg Kinnear]</td>\n",
       "      <td>Comedy</td>\n",
       "    </tr>\n",
       "    <tr>\n",
       "      <th>8.4</th>\n",
       "      <th>G</th>\n",
       "      <td>Toy Story 3</td>\n",
       "      <td>103</td>\n",
       "      <td>[Tom Hanks, Tim Allen, Joan Cusack]</td>\n",
       "      <td>Animation</td>\n",
       "    </tr>\n",
       "    <tr>\n",
       "      <th>7.4</th>\n",
       "      <th>PG</th>\n",
       "      <td>Manhattan Murder Mystery</td>\n",
       "      <td>104</td>\n",
       "      <td>[Woody Allen, Diane Keaton, Jerry Adler]</td>\n",
       "      <td>Comedy</td>\n",
       "    </tr>\n",
       "  </tbody>\n",
       "</table>\n",
       "</div>"
      ],
      "text/plain": [
       "                                 title  duration  \\\n",
       "stars rating                                       \n",
       "7.5   PG-13                  Quiz Show       133   \n",
       "7.6   PG-13                     Batman       126   \n",
       "8.2   R        The Wolf of Wall Street       180   \n",
       "8.1   PG                          Jaws       124   \n",
       "7.8   NaN                Belle de Jour       101   \n",
       "      PG-13         As Good as It Gets       139   \n",
       "8.4   G                    Toy Story 3       103   \n",
       "7.4   PG      Manhattan Murder Mystery       104   \n",
       "\n",
       "                                                       actors      genre  \n",
       "stars rating                                                              \n",
       "7.5   PG-13        [Ralph Fiennes, John Turturro, Rob Morrow]        NaN  \n",
       "7.6   PG-13    [Michael Keaton, Jack Nicholson, Kim Basinger]     Action  \n",
       "8.2   R        [Leonardo DiCaprio, Jonah Hill, Margot Robbie]  Biography  \n",
       "8.1   PG        [Roy Scheider, Robert Shaw, Richard Dreyfuss]      Drama  \n",
       "7.8   NaN     [Catherine Deneuve, Jean Sorel, Michel Piccoli]      Drama  \n",
       "      PG-13        [Jack Nicholson, Helen Hunt, Greg Kinnear]     Comedy  \n",
       "8.4   G                   [Tom Hanks, Tim Allen, Joan Cusack]  Animation  \n",
       "7.4   PG             [Woody Allen, Diane Keaton, Jerry Adler]     Comedy  "
      ]
     },
     "execution_count": 75,
     "metadata": {},
     "output_type": "execute_result"
    }
   ],
   "source": [
    "# Your solution goes here.\n",
    "df3 = df2.swaplevel(0,1)\n",
    "df3\n"
   ]
  },
  {
   "cell_type": "code",
   "execution_count": 76,
   "id": "31625872",
   "metadata": {},
   "outputs": [],
   "source": [
    "assert df3.index.names == ['stars', 'rating']"
   ]
  },
  {
   "cell_type": "markdown",
   "id": "ab359708-3e86-4be5-9fb9-0daa8cf3f3f1",
   "metadata": {},
   "source": [
    "### Task 4\n",
    "\n",
    "We have now data with two indexes. Let us say that we do not need this indexing, and furthermore, we would like to recover the data to a form where it was as it was imported into a `DataFrame`.  There are three ways to do it:\n",
    "\n",
    "1. One is to keep the data stored in a separate variable and define a new variable with the new indexes.  This might lead to a memory problem, when huge data is read into a `DataFrame`.\n",
    "\n",
    "2. Reread the data from the file into the desired variable again.\n",
    "\n",
    "3. Use the builtin function for reseting indexing in `pandas`.\n",
    "\n",
    "Use the third method above to reset index of the data stored in `df3` and put it in variable `df4` (we do not desire to modify the existing variable)."
   ]
  },
  {
   "cell_type": "code",
   "execution_count": 77,
   "id": "e84ab6fd-78c5-447f-91ba-43f8a2f6cf39",
   "metadata": {},
   "outputs": [],
   "source": [
    "# Your Solution Goes here\n",
    "df3 = df2.reset_index()\n",
    "df4 = df3"
   ]
  },
  {
   "cell_type": "code",
   "execution_count": 78,
   "id": "9e54fb62-fe1e-4b68-8430-272893ad3da5",
   "metadata": {},
   "outputs": [],
   "source": [
    "assert len(df4.columns) == 6"
   ]
  },
  {
   "cell_type": "markdown",
   "id": "df1c5c2c-a4c0-4bda-b2de-b2494628aa25",
   "metadata": {},
   "source": [
    "### Task 5\n",
    "\n",
    "Recall from the beginning of this set of exercises that we have imported data from a `json` file.  The data that is in hierarchical form is usually stored in this format.  There are other ways to store such data too, for example as an `xml` format, to name only another one beside `json`.  You might have noticed as we have imported the data that it was presented in a tabular format, and it was done by assigning some `NaN` value to some of the entries, because the corresponding values were missing.  For example, the `\"Quiz Show\"` has `\"genre\"` `NaN`.  Compare it with the json file, where `\"Quiz Show\"`, does not have any value for `\"genre\"`.\n",
    "\n",
    "Recall that in `pandas`, tabular data can be converted into a hierarchical data using the `stack()` method.\n",
    "\n",
    "Create a new `DataFrame`, called `df5`, from `df3` and use the method `stack()` to present it in hierarchical form."
   ]
  },
  {
   "cell_type": "code",
   "execution_count": 79,
   "id": "99da9a55-d4d4-4905-9fb6-e2377cd66bac",
   "metadata": {},
   "outputs": [
    {
     "data": {
      "text/plain": [
       "stars  rating          \n",
       "7.5    PG-13   title                                             Quiz Show\n",
       "               duration                                                133\n",
       "               actors           [Ralph Fiennes, John Turturro, Rob Morrow]\n",
       "7.6    PG-13   title                                                Batman\n",
       "               duration                                                126\n",
       "               actors       [Michael Keaton, Jack Nicholson, Kim Basinger]\n",
       "               genre                                                Action\n",
       "8.2    R       title                               The Wolf of Wall Street\n",
       "               duration                                                180\n",
       "               actors       [Leonardo DiCaprio, Jonah Hill, Margot Robbie]\n",
       "               genre                                             Biography\n",
       "8.1    PG      title                                                  Jaws\n",
       "               duration                                                124\n",
       "               actors        [Roy Scheider, Robert Shaw, Richard Dreyfuss]\n",
       "               genre                                                 Drama\n",
       "7.8    NaN     title                                         Belle de Jour\n",
       "               duration                                                101\n",
       "               actors      [Catherine Deneuve, Jean Sorel, Michel Piccoli]\n",
       "               genre                                                 Drama\n",
       "       PG-13   title                                    As Good as It Gets\n",
       "               duration                                                139\n",
       "               actors           [Jack Nicholson, Helen Hunt, Greg Kinnear]\n",
       "               genre                                                Comedy\n",
       "8.4    G       title                                           Toy Story 3\n",
       "               duration                                                103\n",
       "               actors                  [Tom Hanks, Tim Allen, Joan Cusack]\n",
       "               genre                                             Animation\n",
       "7.4    PG      title                              Manhattan Murder Mystery\n",
       "               duration                                                104\n",
       "               actors             [Woody Allen, Diane Keaton, Jerry Adler]\n",
       "               genre                                                Comedy\n",
       "dtype: object"
      ]
     },
     "execution_count": 79,
     "metadata": {},
     "output_type": "execute_result"
    }
   ],
   "source": [
    "# Your solution goes here.\n",
    "df5 = df2.stack().swaplevel(0,1)\n",
    "df5\n",
    "# tried to swap with df3 but did not have title column\n"
   ]
  },
  {
   "cell_type": "code",
   "execution_count": 80,
   "id": "ae43fadc-146b-4edd-a585-eef99710c26e",
   "metadata": {},
   "outputs": [],
   "source": [
    "assert df5.index[0] == (7.5, 'PG-13', 'title')"
   ]
  },
  {
   "cell_type": "markdown",
   "id": "f477cef0-cbdb-40e4-bc2f-79f3ca64ab2c",
   "metadata": {},
   "source": [
    "### Task 6\n",
    "\n",
    "Consider the hierarchical `DataFrame` `df5`, and filter it down to all the entries with `\"rating\"` `\"PG-13\"`.  Store the result in the variable `df6`."
   ]
  },
  {
   "cell_type": "code",
   "execution_count": 85,
   "id": "b03ce08a-9db5-4bf3-b808-6963067ca5cf",
   "metadata": {},
   "outputs": [
    {
     "data": {
      "text/plain": [
       "stars          \n",
       "7.5    title                                            Quiz Show\n",
       "       duration                                               133\n",
       "       actors          [Ralph Fiennes, John Turturro, Rob Morrow]\n",
       "7.6    title                                               Batman\n",
       "       duration                                               126\n",
       "       actors      [Michael Keaton, Jack Nicholson, Kim Basinger]\n",
       "       genre                                               Action\n",
       "7.8    title                                   As Good as It Gets\n",
       "       duration                                               139\n",
       "       actors          [Jack Nicholson, Helen Hunt, Greg Kinnear]\n",
       "       genre                                               Comedy\n",
       "dtype: object"
      ]
     },
     "execution_count": 85,
     "metadata": {},
     "output_type": "execute_result"
    }
   ],
   "source": [
    "# Your solution goes here.\n",
    "df6 = df5.loc[:,\"PG-13\"]\n",
    "df6"
   ]
  },
  {
   "cell_type": "code",
   "execution_count": 86,
   "id": "52ba3df1",
   "metadata": {},
   "outputs": [],
   "source": [
    "assert len(df6) == 11"
   ]
  },
  {
   "cell_type": "markdown",
   "id": "402f7784-4b30-433c-9069-2bb2e33fbb62",
   "metadata": {},
   "source": [
    "### Task 7\n",
    "\n",
    "Let us consider a case, where we are given two `DataFrame`s with `MultiIndex`, we would like to merge them using a column as a reference.  There are several different functions available in `pandas` for such a purpose.\n",
    "\n",
    "Let us define two variable `df71` and `df72`.  These `DataFrame`s help us demonstrate what is stated above.  In practice, the two `DataFrame`s may come from different sources unlike how we have defined them.\n",
    "\n",
    "Define a variable `df7`, which contains a merge of `df71` and `df72` on the column `\"title\"`.  Make sure that the returned table has the `MultiIndex` inherited and it is not stripped away. You can do in by resetting index and setting it back after merge or by using `combine_first` function."
   ]
  },
  {
   "cell_type": "code",
   "execution_count": 124,
   "id": "4cb24d52-daef-420b-84c8-608df97cf04d",
   "metadata": {},
   "outputs": [
    {
     "data": {
      "text/html": [
       "<div>\n",
       "<style scoped>\n",
       "    .dataframe tbody tr th:only-of-type {\n",
       "        vertical-align: middle;\n",
       "    }\n",
       "\n",
       "    .dataframe tbody tr th {\n",
       "        vertical-align: top;\n",
       "    }\n",
       "\n",
       "    .dataframe thead th {\n",
       "        text-align: right;\n",
       "    }\n",
       "</style>\n",
       "<table border=\"1\" class=\"dataframe\">\n",
       "  <thead>\n",
       "    <tr style=\"text-align: right;\">\n",
       "      <th></th>\n",
       "      <th>title</th>\n",
       "      <th>duration</th>\n",
       "      <th>genre</th>\n",
       "    </tr>\n",
       "  </thead>\n",
       "  <tbody>\n",
       "    <tr>\n",
       "      <th>0</th>\n",
       "      <td>Quiz Show</td>\n",
       "      <td>133</td>\n",
       "      <td>NaN</td>\n",
       "    </tr>\n",
       "    <tr>\n",
       "      <th>1</th>\n",
       "      <td>Batman</td>\n",
       "      <td>126</td>\n",
       "      <td>Action</td>\n",
       "    </tr>\n",
       "    <tr>\n",
       "      <th>2</th>\n",
       "      <td>The Wolf of Wall Street</td>\n",
       "      <td>180</td>\n",
       "      <td>Biography</td>\n",
       "    </tr>\n",
       "    <tr>\n",
       "      <th>3</th>\n",
       "      <td>Jaws</td>\n",
       "      <td>124</td>\n",
       "      <td>Drama</td>\n",
       "    </tr>\n",
       "    <tr>\n",
       "      <th>4</th>\n",
       "      <td>Belle de Jour</td>\n",
       "      <td>101</td>\n",
       "      <td>Drama</td>\n",
       "    </tr>\n",
       "    <tr>\n",
       "      <th>5</th>\n",
       "      <td>As Good as It Gets</td>\n",
       "      <td>139</td>\n",
       "      <td>Comedy</td>\n",
       "    </tr>\n",
       "    <tr>\n",
       "      <th>6</th>\n",
       "      <td>Toy Story 3</td>\n",
       "      <td>103</td>\n",
       "      <td>Animation</td>\n",
       "    </tr>\n",
       "    <tr>\n",
       "      <th>7</th>\n",
       "      <td>Manhattan Murder Mystery</td>\n",
       "      <td>104</td>\n",
       "      <td>Comedy</td>\n",
       "    </tr>\n",
       "  </tbody>\n",
       "</table>\n",
       "</div>"
      ],
      "text/plain": [
       "                      title  duration      genre\n",
       "0                 Quiz Show       133        NaN\n",
       "1                    Batman       126     Action\n",
       "2   The Wolf of Wall Street       180  Biography\n",
       "3                      Jaws       124      Drama\n",
       "4             Belle de Jour       101      Drama\n",
       "5        As Good as It Gets       139     Comedy\n",
       "6               Toy Story 3       103  Animation\n",
       "7  Manhattan Murder Mystery       104     Comedy"
      ]
     },
     "execution_count": 124,
     "metadata": {},
     "output_type": "execute_result"
    }
   ],
   "source": [
    "# Your solution goes here\n",
    "df71 = df2[[\"title\", \"duration\"]]\n",
    "df72 = df2[[\"genre\", \"title\"]]\n",
    "\n",
    "df71.combine_first(df72)\n",
    "\n",
    "\n",
    "df7 = pd.merge(df71,df72,on='title')\n",
    "df7\n",
    "\n"
   ]
  },
  {
   "cell_type": "code",
   "execution_count": 128,
   "id": "bf52222d",
   "metadata": {},
   "outputs": [],
   "source": [
    "assert df7.index.names == ['rating', 'stars']\n",
    "assert df7.shape == (8, 3)"
   ]
  },
  {
   "cell_type": "markdown",
   "id": "2e5462d5-80cc-440a-aace-6f3b4f5b9629",
   "metadata": {},
   "source": [
    "### Task 8 (Bonus)\n",
    "\n",
    "Consider the file `taxi.csv` in the attachment. Your task is to follow the discussion in the section \"Reshaping and Pivoting\", using the data in this file.\n",
    "\n",
    "Explain what goes wrong. You could write your remarks as comments or in new blocks."
   ]
  },
  {
   "cell_type": "code",
   "execution_count": 132,
   "id": "336b8a31-7744-4f8b-ac85-36e6b751aad9",
   "metadata": {},
   "outputs": [
    {
     "name": "stderr",
     "output_type": "stream",
     "text": [
      "/tmp/ipykernel_22018/2719951201.py:5: FutureWarning: 'S' is deprecated and will be removed in a future version, please use 's' instead.\n",
      "  data.index = periods.to_timestamp(\"S\")\n"
     ]
    },
    {
     "data": {
      "text/html": [
       "<div>\n",
       "<style scoped>\n",
       "    .dataframe tbody tr th:only-of-type {\n",
       "        vertical-align: middle;\n",
       "    }\n",
       "\n",
       "    .dataframe tbody tr th {\n",
       "        vertical-align: top;\n",
       "    }\n",
       "\n",
       "    .dataframe thead th {\n",
       "        text-align: right;\n",
       "    }\n",
       "</style>\n",
       "<table border=\"1\" class=\"dataframe\">\n",
       "  <thead>\n",
       "    <tr style=\"text-align: right;\">\n",
       "      <th></th>\n",
       "      <th>pickup_datetime</th>\n",
       "      <th>item</th>\n",
       "      <th>value</th>\n",
       "    </tr>\n",
       "  </thead>\n",
       "  <tbody>\n",
       "    <tr>\n",
       "      <th>0</th>\n",
       "      <td>2023-01-01 00:26:10</td>\n",
       "      <td>dropoff_datetime</td>\n",
       "      <td>2023-01-01 00:37:11</td>\n",
       "    </tr>\n",
       "    <tr>\n",
       "      <th>1</th>\n",
       "      <td>2023-01-01 00:26:10</td>\n",
       "      <td>passenger_count</td>\n",
       "      <td>1</td>\n",
       "    </tr>\n",
       "    <tr>\n",
       "      <th>2</th>\n",
       "      <td>2023-01-01 00:26:10</td>\n",
       "      <td>trip_distance</td>\n",
       "      <td>2.58</td>\n",
       "    </tr>\n",
       "    <tr>\n",
       "      <th>3</th>\n",
       "      <td>2023-01-01 00:51:03</td>\n",
       "      <td>dropoff_datetime</td>\n",
       "      <td>2023-01-01 00:57:49</td>\n",
       "    </tr>\n",
       "    <tr>\n",
       "      <th>4</th>\n",
       "      <td>2023-01-01 00:51:03</td>\n",
       "      <td>passenger_count</td>\n",
       "      <td>1</td>\n",
       "    </tr>\n",
       "    <tr>\n",
       "      <th>...</th>\n",
       "      <td>...</td>\n",
       "      <td>...</td>\n",
       "      <td>...</td>\n",
       "    </tr>\n",
       "    <tr>\n",
       "      <th>2986</th>\n",
       "      <td>2023-01-03 18:21:36</td>\n",
       "      <td>passenger_count</td>\n",
       "      <td>1</td>\n",
       "    </tr>\n",
       "    <tr>\n",
       "      <th>2987</th>\n",
       "      <td>2023-01-03 18:21:36</td>\n",
       "      <td>trip_distance</td>\n",
       "      <td>2.06</td>\n",
       "    </tr>\n",
       "    <tr>\n",
       "      <th>2988</th>\n",
       "      <td>2023-01-03 18:37:07</td>\n",
       "      <td>dropoff_datetime</td>\n",
       "      <td>2023-01-01 18:46:09</td>\n",
       "    </tr>\n",
       "    <tr>\n",
       "      <th>2989</th>\n",
       "      <td>2023-01-03 18:37:07</td>\n",
       "      <td>passenger_count</td>\n",
       "      <td>1</td>\n",
       "    </tr>\n",
       "    <tr>\n",
       "      <th>2990</th>\n",
       "      <td>2023-01-03 18:37:07</td>\n",
       "      <td>trip_distance</td>\n",
       "      <td>1.72</td>\n",
       "    </tr>\n",
       "  </tbody>\n",
       "</table>\n",
       "<p>2991 rows × 3 columns</p>\n",
       "</div>"
      ],
      "text/plain": [
       "         pickup_datetime              item                value\n",
       "0    2023-01-01 00:26:10  dropoff_datetime  2023-01-01 00:37:11\n",
       "1    2023-01-01 00:26:10   passenger_count                    1\n",
       "2    2023-01-01 00:26:10     trip_distance                 2.58\n",
       "3    2023-01-01 00:51:03  dropoff_datetime  2023-01-01 00:57:49\n",
       "4    2023-01-01 00:51:03   passenger_count                    1\n",
       "...                  ...               ...                  ...\n",
       "2986 2023-01-03 18:21:36   passenger_count                    1\n",
       "2987 2023-01-03 18:21:36     trip_distance                 2.06\n",
       "2988 2023-01-03 18:37:07  dropoff_datetime  2023-01-01 18:46:09\n",
       "2989 2023-01-03 18:37:07   passenger_count                    1\n",
       "2990 2023-01-03 18:37:07     trip_distance                 1.72\n",
       "\n",
       "[2991 rows x 3 columns]"
      ]
     },
     "execution_count": 132,
     "metadata": {},
     "output_type": "execute_result"
    }
   ],
   "source": [
    "data = pd.read_csv(\"taxi.csv\")\n",
    "# data.head() \n",
    "\n",
    "periods = pd.PeriodIndex(data.pop('pickup_datetime'), freq=\"s\")\n",
    "data.index = periods.to_timestamp(\"S\")\n",
    "# data.head()\n",
    "\n",
    "data.columns.name = 'item'\n",
    "long_data = data.stack().reset_index().rename(columns={0: 'value'})\n",
    "# long_data\n",
    "\n",
    "# the values do not change in pickup_datetime when \n",
    "# we change the frequency. "
   ]
  }
 ],
 "metadata": {
  "kernelspec": {
   "display_name": "condaenv",
   "language": "python",
   "name": "python3"
  },
  "language_info": {
   "codemirror_mode": {
    "name": "ipython",
    "version": 3
   },
   "file_extension": ".py",
   "mimetype": "text/x-python",
   "name": "python",
   "nbconvert_exporter": "python",
   "pygments_lexer": "ipython3",
   "version": "3.12.2"
  },
  "name": "week8.ipynb"
 },
 "nbformat": 4,
 "nbformat_minor": 5
}
