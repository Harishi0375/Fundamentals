{
 "cells": [
  {
   "cell_type": "markdown",
   "id": "9578795f-723e-46cc-b7f4-faed37e6858e",
   "metadata": {},
   "source": [
    "# Data Structures and Processing\n",
    "\n",
    "## Final Exam"
   ]
  },
  {
   "cell_type": "markdown",
   "id": "14f00918-6d0d-416b-8e1f-61b731a0c2b0",
   "metadata": {},
   "source": [
    "### Load Libraries"
   ]
  },
  {
   "cell_type": "code",
   "execution_count": 1,
   "id": "1dd712bc-3499-4590-acfc-66813a0e0170",
   "metadata": {},
   "outputs": [],
   "source": [
    "# Here is a list of some libraries to load. Add more when needed.\n",
    "import numpy as np\n",
    "import pandas as pd\n",
    "import matplotlib.pyplot as plt\n",
    "import imageio.v3 as iio\n",
    "import datetime as dtime"
   ]
  },
  {
   "cell_type": "markdown",
   "id": "702d09df-4159-4921-8f9c-fd838090a135",
   "metadata": {},
   "source": [
    "## Problem 1\n",
    "\n",
    "Write down a function `matching_lines_to_list` that takes two argument: `filename`, and `word`. The function `matching_lines_to_list` returns a list of all the lines containing `word` in them. Let us declare the second argument `word` to be optional, so that if `word` is not provided, the returned list should contain all lines in the file."
   ]
  },
  {
   "cell_type": "code",
   "execution_count": 3,
   "id": "9a971095-da79-4939-83b1-ff5d153a80f5",
   "metadata": {},
   "outputs": [],
   "source": [
    "def matching_lines_list(filename,word):\n",
    "    count = 0\n",
    "    file_list = []\n",
    "    with open(filename,'r') as file:\n",
    "        for line in file:\n",
    "            if file[line] == word:\n",
    "                count = count + 1 \n",
    "        if count > 0:\n",
    "            return count    \n",
    "        else:\n",
    "            for line in file:\n",
    "                file_list.append(file[line])\n",
    "            return file_list\n"
   ]
  },
  {
   "cell_type": "markdown",
   "id": "918d088b-709b-46eb-8459-c5cdbf3ae066",
   "metadata": {},
   "source": [
    "## Problem 2\n",
    "\n",
    "A system of linear differential equations could be represented as\n",
    "\n",
    "\\begin{equation}\n",
    "\\nonumber\n",
    "X^\\prime(t) = AX(t)\\,,\n",
    "\\end{equation}\n",
    "\n",
    "where $X(t)$ represents a vector valued quantity that depends on\n",
    "time $t$, and $A$ is a square matrix. A solution to such a\n",
    "differential equation is given below\n",
    "\n",
    "\\begin{equation}\n",
    "\\nonumber\n",
    "X(t) = e^{tA} X(0)\\,,\n",
    "\\end{equation}\n",
    "\n",
    "where $e^{tA}$ is the exponential of a matrix, and $X(0)$ is the\n",
    "value of $X$ at 0.\n",
    "\n",
    "Let us say that we do not know how to compute $e^{tA}$ exactly, but\n",
    "we are allowed to use the following expression that would give an\n",
    "equivalent approximate value to the exponential upto order $n$\n",
    "\n",
    "\\begin{equation}\n",
    "\\nonumber\n",
    "e^{tA} \\approx I + tA + \\frac{t^2}{2!} A^2 + \\frac{t^3}{3!} A^3 + \\ldots + \\frac{t^n}{n!} A^n\\,.\n",
    "\\end{equation}\n",
    "\n",
    "Given the above information, your task is to write down a function\n",
    "`linear_solution` that takes four arguments:\n",
    "\n",
    "1.  `A`, which is a `numpy` array corresponding to the square matrix\n",
    "    $A$ of the linear equation above\n",
    "2.  `t`, which is the value of the time $t$\n",
    "3.  `X0`, which is a `numpy` array of shape `(m,1)` and it corresponds\n",
    "    to the vector of length $m$ in above linear equation\n",
    "4.  `n` is the order of approximation.\n",
    "\n",
    "The function `linear_solution` must return a `numpy` array of shape\n",
    "`(m,1)` that has the solution to the given linear equation.\n",
    "\n",
    "Use your function to test for different values of `n`, `m` and `t` for the\n",
    "matrix $A$ and a vector $X(0)$ below.\n",
    "\n",
    "\\begin{equation}\n",
    "\\nonumber\n",
    "A= \\begin{bmatrix} 1 & 0 \\\\ 1 & 1 \\end{bmatrix},\\qquad X_0 = \\begin{bmatrix} 1 \\\\ 1 \\end{bmatrix}\n",
    "\\end{equation}\n",
    "\n",
    "**HINTS:**\n",
    "\n",
    "1.  To compute power of a matrix, use the `np.linalg.matrix_power`. See\n",
    "    builtin help for this function in Python.\n",
    "2.  Testing your function is not part of grades."
   ]
  },
  {
   "cell_type": "code",
   "execution_count": 28,
   "id": "c4547443-5086-4659-bcd2-1e88b7619007",
   "metadata": {},
   "outputs": [],
   "source": [
    "def linear_solution(A,t,X0,n):\n",
    "    first_value = np.eye(A.shape[0])\n",
    "    result = 0 \n",
    "    power_matrix = np.linal.matrix_power(A,X0)\n",
    "    for i in range(i,n+1):\n",
    "        current_value  = (t**n) * current_value * ((power_matrix) ** n)\n",
    "        result = result + current_value\n",
    "    result = first_value + result # adding the first value at the last\n",
    "    return np.dot(result)\n",
    "\n"
   ]
  },
  {
   "cell_type": "code",
   "execution_count": 27,
   "id": "5772c753",
   "metadata": {},
   "outputs": [
    {
     "name": "stdout",
     "output_type": "stream",
     "text": [
      "Help on _ArrayFunctionDispatcher in module numpy.linalg:\n",
      "\n",
      "matrix_power(a, n)\n",
      "    Raise a square matrix to the (integer) power `n`.\n",
      "\n",
      "    For positive integers `n`, the power is computed by repeated matrix\n",
      "    squarings and matrix multiplications. If ``n == 0``, the identity matrix\n",
      "    of the same shape as M is returned. If ``n < 0``, the inverse\n",
      "    is computed and then raised to the ``abs(n)``.\n",
      "\n",
      "    .. note:: Stacks of object matrices are not currently supported.\n",
      "\n",
      "    Parameters\n",
      "    ----------\n",
      "    a : (..., M, M) array_like\n",
      "        Matrix to be \"powered\".\n",
      "    n : int\n",
      "        The exponent can be any integer or long integer, positive,\n",
      "        negative, or zero.\n",
      "\n",
      "    Returns\n",
      "    -------\n",
      "    a**n : (..., M, M) ndarray or matrix object\n",
      "        The return value is the same shape and type as `M`;\n",
      "        if the exponent is positive or zero then the type of the\n",
      "        elements is the same as those of `M`. If the exponent is\n",
      "        negative the elements are floating-point.\n",
      "\n",
      "    Raises\n",
      "    ------\n",
      "    LinAlgError\n",
      "        For matrices that are not square or that (for negative powers) cannot\n",
      "        be inverted numerically.\n",
      "\n",
      "    Examples\n",
      "    --------\n",
      "    >>> from numpy.linalg import matrix_power\n",
      "    >>> i = np.array([[0, 1], [-1, 0]]) # matrix equiv. of the imaginary unit\n",
      "    >>> matrix_power(i, 3) # should = -i\n",
      "    array([[ 0, -1],\n",
      "           [ 1,  0]])\n",
      "    >>> matrix_power(i, 0)\n",
      "    array([[1, 0],\n",
      "           [0, 1]])\n",
      "    >>> matrix_power(i, -3) # should = 1/(-i) = i, but w/ f.p. elements\n",
      "    array([[ 0.,  1.],\n",
      "           [-1.,  0.]])\n",
      "\n",
      "    Somewhat more sophisticated example\n",
      "\n",
      "    >>> q = np.zeros((4, 4))\n",
      "    >>> q[0:2, 0:2] = -i\n",
      "    >>> q[2:4, 2:4] = i\n",
      "    >>> q # one of the three quaternion units not equal to 1\n",
      "    array([[ 0., -1.,  0.,  0.],\n",
      "           [ 1.,  0.,  0.,  0.],\n",
      "           [ 0.,  0.,  0.,  1.],\n",
      "           [ 0.,  0., -1.,  0.]])\n",
      "    >>> matrix_power(q, 2) # = -np.eye(4)\n",
      "    array([[-1.,  0.,  0.,  0.],\n",
      "           [ 0., -1.,  0.,  0.],\n",
      "           [ 0.,  0., -1.,  0.],\n",
      "           [ 0.,  0.,  0., -1.]])\n",
      "\n"
     ]
    }
   ],
   "source": [
    "help(np.linalg.matrix_power)"
   ]
  },
  {
   "cell_type": "markdown",
   "id": "027f54c9-56fa-4309-a0ad-e9282e80b3d5",
   "metadata": {},
   "source": [
    "## Problem 3\n",
    "\n",
    "Let us say that there is a table, named `biblio`, in a relational database management system whose only fields are: `id`, `title`, `authors`, `publisher`, `year`. The field `authors` has authors' names separated by commas when there are more than one authors and author's name is written in the format `\"First Middle Last\"`. Write down an SQL query to filter all authors with their first name starting with `F`. The returned table should have all but `id` and `publisher` fields."
   ]
  },
  {
   "cell_type": "code",
   "execution_count": null,
   "id": "e00672a2-848e-406a-9a0c-99150ade3eb1",
   "metadata": {
    "vscode": {
     "languageId": "sql"
    }
   },
   "outputs": [],
   "source": [
    "SELECT id, publisher\n",
    "FROM biblio\n",
    "WHERE authors LIKE 'F' OR ',F%' "
   ]
  },
  {
   "cell_type": "markdown",
   "id": "ffdfa83f-0ed7-473f-b51d-d6131ad71dc1",
   "metadata": {},
   "source": [
    "## Problem 4\n",
    "\n",
    "Consider the `TSV` file, named `\"imdb_ratings.tsv\"` attached to this notebook. An important part of this task is to keep in mind is that the data in the `TSV` file has two columns: `stars_ratings`, which is a float, and `actors`, which is a string of actors (comma separated) acted in the movie. It is not important how many and what other columns are present. Write down a function `actors_average` that takes the following two arguments:\n",
    "\n",
    "1.  `filename`, which is the the file name for the `TSV` file to be read.\n",
    "\n",
    "2.  `actor`, which is the name of the actor for filtering.\n",
    "\n",
    "The function `actors_average` returns the average of the `stars_rating` for the provided `actor`.\n"
   ]
  },
  {
   "cell_type": "code",
   "execution_count": 8,
   "id": "8251ebe4-a7e8-4a30-9e57-ca2321043b53",
   "metadata": {},
   "outputs": [],
   "source": [
    "def actors_average(filename,actor):\n",
    "    df = pd.read_csv(filename,delimiter='\\t')\n",
    "    filtered_df = df[df[\"actors\"]]\n",
    "    average_rating = filtered_df['start_ratings'].mean()\n",
    "    return average_rating"
   ]
  },
  {
   "cell_type": "markdown",
   "id": "36214188-f654-4b1a-8a2d-7a8b3efc7d0a",
   "metadata": {},
   "source": [
    "## Problem 5\n",
    "\n",
    "Consider the two files `imdb1.tsv` and `imdb2.tsv`. These two files share a column `\"title\"`. These can be used for the requested function below for testing.\n",
    "\n",
    "Write down a function `combine_data_on_col`, which takes the following arguments:\n",
    "\n",
    "1.  `\"file1\"` and `\"file2\"` are two `TSV`.\n",
    "2.  `\"col\"` is the name of a shared column.\n",
    "\n",
    "The function `combine_data_on_col` returns the data frame after merging the data from `file1` and `file2` on the shared column `col`."
   ]
  },
  {
   "cell_type": "code",
   "execution_count": 4,
   "id": "7f8e4888-47b6-4a5a-b3de-cc719160d9b4",
   "metadata": {},
   "outputs": [],
   "source": [
    "def combine_data_on_col(file1,file2,col):\n",
    "    df1 = pd.read_csv(file1,delimiter='/n') #in the file i see no ',' but still i added delimiter = '/n' as next line\n",
    "    df2 = pd.read_csv(file1,delimiter='/n')\n",
    "    combine = pd.merge(df1,df2, on=col)\n",
    "\n",
    "    return combine\n"
   ]
  },
  {
   "cell_type": "markdown",
   "id": "57d44b5d-4071-42e4-aa24-56c71d89c109",
   "metadata": {},
   "source": [
    "## Problem 6\n",
    "\n",
    "Consider the file `AAPL.csv`, which has down-sampled data in it, where each record has a daily report of the `open`, `high`, `low` and `close` and other entries for Apple's stocks.\n",
    "\n",
    "Your task is to down-sample the column `\"Close\"` to monthly periods using average values. Finally, plot the returned series."
   ]
  },
  {
   "cell_type": "code",
   "execution_count": 24,
   "id": "b2229d95-d566-4351-b0c9-8d6cbd564798",
   "metadata": {},
   "outputs": [
    {
     "ename": "ValueError",
     "evalue": "Invalid frequency: mean, failed to parse with error message: ValueError(\"Invalid frequency: MEAN, failed to parse with error message: KeyError('MEAN')\")",
     "output_type": "error",
     "traceback": [
      "\u001b[0;31m---------------------------------------------------------------------------\u001b[0m",
      "\u001b[0;31mKeyError\u001b[0m                                  Traceback (most recent call last)",
      "File \u001b[0;32moffsets.pyx:4776\u001b[0m, in \u001b[0;36mpandas._libs.tslibs.offsets._get_offset\u001b[0;34m()\u001b[0m\n",
      "\u001b[0;31mKeyError\u001b[0m: 'MEAN'",
      "\nDuring handling of the above exception, another exception occurred:\n",
      "\u001b[0;31mValueError\u001b[0m                                Traceback (most recent call last)",
      "File \u001b[0;32moffsets.pyx:4946\u001b[0m, in \u001b[0;36mpandas._libs.tslibs.offsets.to_offset\u001b[0;34m()\u001b[0m\n",
      "File \u001b[0;32moffsets.pyx:4782\u001b[0m, in \u001b[0;36mpandas._libs.tslibs.offsets._get_offset\u001b[0;34m()\u001b[0m\n",
      "\u001b[0;31mValueError\u001b[0m: Invalid frequency: MEAN, failed to parse with error message: KeyError('MEAN')",
      "\nDuring handling of the above exception, another exception occurred:\n",
      "\u001b[0;31mValueError\u001b[0m                                Traceback (most recent call last)",
      "Cell \u001b[0;32mIn[24], line 2\u001b[0m\n\u001b[1;32m      1\u001b[0m df \u001b[38;5;241m=\u001b[39m pd\u001b[38;5;241m.\u001b[39mread_csv(\u001b[38;5;124m\"\u001b[39m\u001b[38;5;124mAAPL.csv\u001b[39m\u001b[38;5;124m\"\u001b[39m,parse_dates\u001b[38;5;241m=\u001b[39m[\u001b[38;5;124m'\u001b[39m\u001b[38;5;124mDate\u001b[39m\u001b[38;5;124m'\u001b[39m],index_col\u001b[38;5;241m=\u001b[39m\u001b[38;5;124m'\u001b[39m\u001b[38;5;124mDate\u001b[39m\u001b[38;5;124m'\u001b[39m)\n\u001b[0;32m----> 2\u001b[0m monthly_average \u001b[38;5;241m=\u001b[39m \u001b[43mdf\u001b[49m\u001b[43m[\u001b[49m\u001b[38;5;124;43m\"\u001b[39;49m\u001b[38;5;124;43mClose\u001b[39;49m\u001b[38;5;124;43m\"\u001b[39;49m\u001b[43m]\u001b[49m\u001b[38;5;241;43m.\u001b[39;49m\u001b[43mresample\u001b[49m\u001b[43m(\u001b[49m\u001b[38;5;124;43m\"\u001b[39;49m\u001b[38;5;124;43mmean\u001b[39;49m\u001b[38;5;124;43m\"\u001b[39;49m\u001b[43m)\u001b[49m\u001b[38;5;241m.\u001b[39mmean()\n\u001b[1;32m      3\u001b[0m \u001b[38;5;28mprint\u001b[39m(monthly_average)\n",
      "File \u001b[0;32m~/miniconda3/envs/condaenv/lib/python3.12/site-packages/pandas/core/generic.py:9768\u001b[0m, in \u001b[0;36mNDFrame.resample\u001b[0;34m(self, rule, axis, closed, label, convention, kind, on, level, origin, offset, group_keys)\u001b[0m\n\u001b[1;32m   9765\u001b[0m \u001b[38;5;28;01melse\u001b[39;00m:\n\u001b[1;32m   9766\u001b[0m     convention \u001b[38;5;241m=\u001b[39m \u001b[38;5;124m\"\u001b[39m\u001b[38;5;124mstart\u001b[39m\u001b[38;5;124m\"\u001b[39m\n\u001b[0;32m-> 9768\u001b[0m \u001b[38;5;28;01mreturn\u001b[39;00m \u001b[43mget_resampler\u001b[49m\u001b[43m(\u001b[49m\n\u001b[1;32m   9769\u001b[0m \u001b[43m    \u001b[49m\u001b[43mcast\u001b[49m\u001b[43m(\u001b[49m\u001b[38;5;124;43m\"\u001b[39;49m\u001b[38;5;124;43mSeries | DataFrame\u001b[39;49m\u001b[38;5;124;43m\"\u001b[39;49m\u001b[43m,\u001b[49m\u001b[43m \u001b[49m\u001b[38;5;28;43mself\u001b[39;49m\u001b[43m)\u001b[49m\u001b[43m,\u001b[49m\n\u001b[1;32m   9770\u001b[0m \u001b[43m    \u001b[49m\u001b[43mfreq\u001b[49m\u001b[38;5;241;43m=\u001b[39;49m\u001b[43mrule\u001b[49m\u001b[43m,\u001b[49m\n\u001b[1;32m   9771\u001b[0m \u001b[43m    \u001b[49m\u001b[43mlabel\u001b[49m\u001b[38;5;241;43m=\u001b[39;49m\u001b[43mlabel\u001b[49m\u001b[43m,\u001b[49m\n\u001b[1;32m   9772\u001b[0m \u001b[43m    \u001b[49m\u001b[43mclosed\u001b[49m\u001b[38;5;241;43m=\u001b[39;49m\u001b[43mclosed\u001b[49m\u001b[43m,\u001b[49m\n\u001b[1;32m   9773\u001b[0m \u001b[43m    \u001b[49m\u001b[43maxis\u001b[49m\u001b[38;5;241;43m=\u001b[39;49m\u001b[43maxis\u001b[49m\u001b[43m,\u001b[49m\n\u001b[1;32m   9774\u001b[0m \u001b[43m    \u001b[49m\u001b[43mkind\u001b[49m\u001b[38;5;241;43m=\u001b[39;49m\u001b[43mkind\u001b[49m\u001b[43m,\u001b[49m\n\u001b[1;32m   9775\u001b[0m \u001b[43m    \u001b[49m\u001b[43mconvention\u001b[49m\u001b[38;5;241;43m=\u001b[39;49m\u001b[43mconvention\u001b[49m\u001b[43m,\u001b[49m\n\u001b[1;32m   9776\u001b[0m \u001b[43m    \u001b[49m\u001b[43mkey\u001b[49m\u001b[38;5;241;43m=\u001b[39;49m\u001b[43mon\u001b[49m\u001b[43m,\u001b[49m\n\u001b[1;32m   9777\u001b[0m \u001b[43m    \u001b[49m\u001b[43mlevel\u001b[49m\u001b[38;5;241;43m=\u001b[39;49m\u001b[43mlevel\u001b[49m\u001b[43m,\u001b[49m\n\u001b[1;32m   9778\u001b[0m \u001b[43m    \u001b[49m\u001b[43morigin\u001b[49m\u001b[38;5;241;43m=\u001b[39;49m\u001b[43morigin\u001b[49m\u001b[43m,\u001b[49m\n\u001b[1;32m   9779\u001b[0m \u001b[43m    \u001b[49m\u001b[43moffset\u001b[49m\u001b[38;5;241;43m=\u001b[39;49m\u001b[43moffset\u001b[49m\u001b[43m,\u001b[49m\n\u001b[1;32m   9780\u001b[0m \u001b[43m    \u001b[49m\u001b[43mgroup_keys\u001b[49m\u001b[38;5;241;43m=\u001b[39;49m\u001b[43mgroup_keys\u001b[49m\u001b[43m,\u001b[49m\n\u001b[1;32m   9781\u001b[0m \u001b[43m\u001b[49m\u001b[43m)\u001b[49m\n",
      "File \u001b[0;32m~/miniconda3/envs/condaenv/lib/python3.12/site-packages/pandas/core/resample.py:2049\u001b[0m, in \u001b[0;36mget_resampler\u001b[0;34m(obj, kind, **kwds)\u001b[0m\n\u001b[1;32m   2045\u001b[0m \u001b[38;5;28;01mdef\u001b[39;00m \u001b[38;5;21mget_resampler\u001b[39m(obj: Series \u001b[38;5;241m|\u001b[39m DataFrame, kind\u001b[38;5;241m=\u001b[39m\u001b[38;5;28;01mNone\u001b[39;00m, \u001b[38;5;241m*\u001b[39m\u001b[38;5;241m*\u001b[39mkwds) \u001b[38;5;241m-\u001b[39m\u001b[38;5;241m>\u001b[39m Resampler:\n\u001b[1;32m   2046\u001b[0m \u001b[38;5;250m    \u001b[39m\u001b[38;5;124;03m\"\"\"\u001b[39;00m\n\u001b[1;32m   2047\u001b[0m \u001b[38;5;124;03m    Create a TimeGrouper and return our resampler.\u001b[39;00m\n\u001b[1;32m   2048\u001b[0m \u001b[38;5;124;03m    \"\"\"\u001b[39;00m\n\u001b[0;32m-> 2049\u001b[0m     tg \u001b[38;5;241m=\u001b[39m \u001b[43mTimeGrouper\u001b[49m\u001b[43m(\u001b[49m\u001b[43mobj\u001b[49m\u001b[43m,\u001b[49m\u001b[43m \u001b[49m\u001b[38;5;241;43m*\u001b[39;49m\u001b[38;5;241;43m*\u001b[39;49m\u001b[43mkwds\u001b[49m\u001b[43m)\u001b[49m  \u001b[38;5;66;03m# type: ignore[arg-type]\u001b[39;00m\n\u001b[1;32m   2050\u001b[0m     \u001b[38;5;28;01mreturn\u001b[39;00m tg\u001b[38;5;241m.\u001b[39m_get_resampler(obj, kind\u001b[38;5;241m=\u001b[39mkind)\n",
      "File \u001b[0;32m~/miniconda3/envs/condaenv/lib/python3.12/site-packages/pandas/core/resample.py:2143\u001b[0m, in \u001b[0;36mTimeGrouper.__init__\u001b[0;34m(self, obj, freq, key, closed, label, how, axis, fill_method, limit, kind, convention, origin, offset, group_keys, **kwargs)\u001b[0m\n\u001b[1;32m   2141\u001b[0m     freq \u001b[38;5;241m=\u001b[39m to_offset(freq, is_period\u001b[38;5;241m=\u001b[39m\u001b[38;5;28;01mTrue\u001b[39;00m)\n\u001b[1;32m   2142\u001b[0m \u001b[38;5;28;01melse\u001b[39;00m:\n\u001b[0;32m-> 2143\u001b[0m     freq \u001b[38;5;241m=\u001b[39m \u001b[43mto_offset\u001b[49m\u001b[43m(\u001b[49m\u001b[43mfreq\u001b[49m\u001b[43m)\u001b[49m\n\u001b[1;32m   2145\u001b[0m end_types \u001b[38;5;241m=\u001b[39m {\u001b[38;5;124m\"\u001b[39m\u001b[38;5;124mME\u001b[39m\u001b[38;5;124m\"\u001b[39m, \u001b[38;5;124m\"\u001b[39m\u001b[38;5;124mYE\u001b[39m\u001b[38;5;124m\"\u001b[39m, \u001b[38;5;124m\"\u001b[39m\u001b[38;5;124mQE\u001b[39m\u001b[38;5;124m\"\u001b[39m, \u001b[38;5;124m\"\u001b[39m\u001b[38;5;124mBME\u001b[39m\u001b[38;5;124m\"\u001b[39m, \u001b[38;5;124m\"\u001b[39m\u001b[38;5;124mBYE\u001b[39m\u001b[38;5;124m\"\u001b[39m, \u001b[38;5;124m\"\u001b[39m\u001b[38;5;124mBQE\u001b[39m\u001b[38;5;124m\"\u001b[39m, \u001b[38;5;124m\"\u001b[39m\u001b[38;5;124mW\u001b[39m\u001b[38;5;124m\"\u001b[39m}\n\u001b[1;32m   2146\u001b[0m rule \u001b[38;5;241m=\u001b[39m freq\u001b[38;5;241m.\u001b[39mrule_code\n",
      "File \u001b[0;32moffsets.pyx:4791\u001b[0m, in \u001b[0;36mpandas._libs.tslibs.offsets.to_offset\u001b[0;34m()\u001b[0m\n",
      "File \u001b[0;32moffsets.pyx:4954\u001b[0m, in \u001b[0;36mpandas._libs.tslibs.offsets.to_offset\u001b[0;34m()\u001b[0m\n",
      "\u001b[0;31mValueError\u001b[0m: Invalid frequency: mean, failed to parse with error message: ValueError(\"Invalid frequency: MEAN, failed to parse with error message: KeyError('MEAN')\")"
     ]
    }
   ],
   "source": [
    "df = pd.read_csv(\"AAPL.csv\",parse_dates=['Date'],index_col='Date')\n",
    "monthly_average = df[\"Close\"].resample(\"mean\").mean()\n",
    "print(monthly_average)\n"
   ]
  },
  {
   "cell_type": "markdown",
   "id": "d6162803-a1a5-462a-9908-9c194ff25e75",
   "metadata": {},
   "source": [
    "## Problem 7\n",
    "\n",
    "Consider the image `image.png` in the attachment. Your task is to plot a histogram of the `blue` channel."
   ]
  },
  {
   "cell_type": "code",
   "execution_count": 23,
   "id": "53d451a9",
   "metadata": {},
   "outputs": [
    {
     "data": {
      "image/png": "[encoded data removed]",
      "text/plain": [
       "<Figure size 640x480 with 1 Axes>"
      ]
     },
     "metadata": {},
     "output_type": "display_data"
    }
   ],
   "source": [
    "im = iio.imread(\"image.jpg\")\n",
    "im_image_blue = np.array(im)[:,:,1]\n",
    "plt.hist(im_image_blue,bins=256,alpha=1.0)\n",
    "plt.show()"
   ]
  }
 ],
 "metadata": {
  "kernelspec": {
   "display_name": "Python 3 (ipykernel)",
   "language": "python",
   "name": "python3"
  },
  "language_info": {
   "codemirror_mode": {
    "name": "ipython",
    "version": 3
   },
   "file_extension": ".py",
   "mimetype": "text/x-python",
   "name": "python",
   "nbconvert_exporter": "python",
   "pygments_lexer": "ipython3",
   "version": "3.12.2"
  },
  "name": "week8.ipynb"
 },
 "nbformat": 4,
 "nbformat_minor": 5
}
